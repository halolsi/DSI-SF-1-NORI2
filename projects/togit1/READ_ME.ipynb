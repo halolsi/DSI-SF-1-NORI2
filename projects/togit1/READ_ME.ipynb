{
 "cells": [
  {
   "cell_type": "markdown",
   "metadata": {},
   "source": [
    "Project Overview:\n",
    "This exercise explores high level genetic information scraped from NCBI (using Python) using Machine Learning algorithms to model species evolution and phylogeny.\n",
    "\n"
   ]
  },
  {
   "cell_type": "markdown",
   "metadata": {},
   "source": [
    "\n",
    "## Part 1. Scraping High Level Genetic Features from NCB"
   ]
  },
  {
   "cell_type": "markdown",
   "metadata": {},
   "source": [
    "https://norio167.wordpress.com/2016/07/08/part-1-high-level-genetic-features-for-phylogenic-mapping/"
   ]
  },
  {
   "cell_type": "markdown",
   "metadata": {},
   "source": [
    "#### P1_A_GETDATA-NCBI-PAGES.ipynb - Top page scraping\n",
    "#### P1_B_GETDATA-NCBI-GC.ipynb - GC% Scraping\n",
    "#### P1_C_GETDATA-NCBI-PR.ipynb - Protein Scraping\n"
   ]
  },
  {
   "cell_type": "markdown",
   "metadata": {},
   "source": [
    "## Part 2. Classification Modeling using data from OpenTreeofLife"
   ]
  },
  {
   "cell_type": "markdown",
   "metadata": {},
   "source": [
    "https://norio167.wordpress.com/2016/08/22/part-2-high-level-genetic-features-for-phylogenic-mapping-classification-models/"
   ]
  },
  {
   "cell_type": "markdown",
   "metadata": {},
   "source": [
    "#### P2_A_CONCAT_Classes-OpenTreeofLife.ipynb - Domain Classification & Errors\n",
    "#### P2_B_CONCAT_Classesv4-OpenTreeofLife.ipynb - Model Comparisons - Logisic/KNN/DecisionTree\n",
    "#### P2_C_CONCAT_Classesv4-OpenTreeofLife.ipynb - Lower Level Classifications"
   ]
  },
  {
   "cell_type": "markdown",
   "metadata": {
    "collapsed": true
   },
   "source": [
    "## Part 3. Linear Regression Modeling using data from TimeTreeBeta\n"
   ]
  },
  {
   "cell_type": "markdown",
   "metadata": {},
   "source": [
    "https://norio167.wordpress.com/2016/09/21/part-3-adding-transient-predictors-to-model-taxonomy-genetic-features/"
   ]
  },
  {
   "cell_type": "markdown",
   "metadata": {
    "collapsed": true
   },
   "source": [
    "#### P3_TRANSIENT-TIMETREEBETA-LinearRegression.ipynb"
   ]
  },
  {
   "cell_type": "code",
   "execution_count": null,
   "metadata": {
    "collapsed": true
   },
   "outputs": [],
   "source": []
  }
 ],
 "metadata": {
  "kernelspec": {
   "display_name": "Python 2",
   "language": "python",
   "name": "python2"
  },
  "language_info": {
   "codemirror_mode": {
    "name": "ipython",
    "version": 2
   },
   "file_extension": ".py",
   "mimetype": "text/x-python",
   "name": "python",
   "nbconvert_exporter": "python",
   "pygments_lexer": "ipython2",
   "version": "2.7.11"
  }
 },
 "nbformat": 4,
 "nbformat_minor": 0
}
