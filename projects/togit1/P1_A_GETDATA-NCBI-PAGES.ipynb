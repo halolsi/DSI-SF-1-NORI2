{
 "cells": [
  {
   "cell_type": "markdown",
   "metadata": {},
   "source": [
    "# Scraping the NCBI Website"
   ]
  },
  {
   "cell_type": "markdown",
   "metadata": {},
   "source": [
    "NCBI web page has a good overview of genome information by organism. From the summary page, we can get several high level genetic features (Kingdom, Size[nucleotide Mb], and Chromosome #), as well as the url for further genetic information. There are 167 pages of Organisms, which we would need to loop through.\n"
   ]
  },
  {
   "cell_type": "code",
   "execution_count": 5,
   "metadata": {
    "collapsed": false
   },
   "outputs": [
    {
     "name": "stdout",
     "output_type": "stream",
     "text": [
      "<!--  7 100 16679 -->\n",
      "<tr class=\"Even\"><td><a href=\"/genome/30333\" target=\"_blank\">Aigarchaeota archaeon SCGC AAA471-J08</a></td><td>Archaea</td><td>TACK group</td><td>Thaumarchaeota</td><td>0.252228</td><td>-</td><td>-</td><td>-</td><td><a href=\"/genome/30333\" target=\"_blank\">1</a></td></tr>\n",
      "<tr class=\"Odd\"><td><a href=\"/genome/2702\" target=\"_blank\">Ailuropoda melanoleuca</a></td><td>Eukaryota</td><td>Animals</td><td>Mammals</td><td>2299.51</td><td>-</td><td>1</td><td>-</td><td><a href=\"/genome\n"
     ]
    }
   ],
   "source": [
    "import webbrowser\n",
    "eurl = 'http://www.ncbi.nlm.nih.gov/genome/browse/#tabs-genomes' #url without selection\n",
    "url1 = eurl\n",
    "webbrowser.open(url1,new=2) #nice looking version which is clickable\n",
    "\n",
    "#example of page 7 of of general query which has scrapable information\n",
    "num_page = 7\n",
    "url1 = 'http://www.ncbi.nlm.nih.gov/genomes/Genome2BE/genome2srv.cgi?action=GetGenomeList4Grid&mode=2&page='+str(num_page)+'&pageSize=100'\n",
    "\n",
    "#get number of pages\n",
    "webbrowser.open(url1,new=2) #To open web url, has real page data\n",
    "\n",
    "import requests\n",
    "response = requests.get(url1)\n",
    "HTML = response.text\n",
    "\n",
    "print HTML[:500]\n"
   ]
  },
  {
   "cell_type": "code",
   "execution_count": 10,
   "metadata": {
    "collapsed": true
   },
   "outputs": [],
   "source": [
    "from scrapy.selector import Selector\n",
    "from scrapy.http import HtmlResponse\n",
    "\n",
    "import pandas as pd"
   ]
  },
  {
   "cell_type": "markdown",
   "metadata": {},
   "source": [
    "If you click on the organism name within the Overview webpage, it sends you to another page with further genetic information. Scrapy is used to for getting each organism's url information in a function given below:"
   ]
  },
  {
   "cell_type": "code",
   "execution_count": 11,
   "metadata": {
    "collapsed": false
   },
   "outputs": [],
   "source": [
    "###SCRAPY###\n",
    "# Get Link from HTML for Summary Pages for Organism\n",
    "\n",
    "def p1_Link(HTML):\n",
    "    site_all = \"//tr/td/a/@href\" #URL for Organism\n",
    "    for_page = Selector(text=HTML).xpath(site_all)\n",
    "    page_tot = for_page.extract()\n",
    "    page_tot #list type\n",
    "\n",
    "    href_list = []\n",
    "    \n",
    "    for j, k in enumerate(page_tot):\n",
    "        if j%2 == 0: #even numbers, to get rid of duplicate lines\n",
    "            href_list.append(k)\n",
    "    \n",
    "    p1a_df = pd.DataFrame(href_list, columns=[\"url\"])\n",
    "    \n",
    "    #print p1a_df.shape\n",
    "    #p1a_df.head(10)\n",
    "    return p1a_df\n"
   ]
  },
  {
   "cell_type": "markdown",
   "metadata": {},
   "source": [
    "Another function using Scrapy is created to format the 9 columns from the HTML function from long to wide format for each organism."
   ]
  },
  {
   "cell_type": "code",
   "execution_count": 12,
   "metadata": {
    "collapsed": false
   },
   "outputs": [],
   "source": [
    "###SCRAPY###\n",
    "# Get \"Kingdom\",\"Group\",\"SubGroup\",\"Size\",\"Chr\",\"Organelles\",\"Plasmids\" for 1 Page in dataframe\n",
    "\n",
    "def p1_Cols(HTML):\n",
    "    site_all = \"//td//text()\"\n",
    "    for_page = Selector(text=HTML).xpath(site_all)\n",
    "    page_tot = for_page.extract()\n",
    "    page_tot #list type\n",
    "\n",
    "    p1_df = pd.DataFrame(page_tot)\n",
    "\n",
    "    #print p1_df.shape\n",
    "    #p1_df.head(10)\n",
    "    return p1_df\n"
   ]
  },
  {
   "cell_type": "code",
   "execution_count": 13,
   "metadata": {
    "collapsed": false
   },
   "outputs": [],
   "source": [
    "# Long Format, 9 cols, Dataframe formatting from long to wide\n",
    "# Add Column Names, repeating list of 9\n",
    "\n",
    "def format_Colnames(p1_df):\n",
    "    col_num = 9 #Hard coded column number\n",
    "    col_names = [\"Organism\",\"Kingdom\",\"Group\",\"SubGroup\",\"Size\",\"Chr\",\"Organelles\",\"Plasmids\",\"Assemblies\"]\n",
    "    \n",
    "    df_length = len(p1_df)\n",
    "    x = len(p1_df)/col_num \n",
    "    \n",
    "    col_long = []\n",
    "    \n",
    "    i=0\n",
    "    for row in range(0, x):\n",
    "        col_short = []\n",
    "\n",
    "        for col in range(0,col_num):\n",
    "            col_short.append(p1_df[0][i])\n",
    "            i = i + 1 \n",
    "\n",
    "        col_long.append(col_short)\n",
    "\n",
    "    pwide_df = pd.DataFrame(col_long, columns=col_names) #index=range(0:x), columns=range(0:col_num))\n",
    "\n",
    "    return pwide_df"
   ]
  },
  {
   "cell_type": "markdown",
   "metadata": {},
   "source": [
    "Two dataframes were created from these two functions, which was concatenated to get one dataframe from the scraped 167 NCBI Overiview pages. The pandas dataframe format will allow for easy manipulation of the data for analysis."
   ]
  },
  {
   "cell_type": "code",
   "execution_count": 15,
   "metadata": {
    "collapsed": false,
    "scrolled": true
   },
   "outputs": [
    {
     "name": "stdout",
     "output_type": "stream",
     "text": [
      "1\n",
      "2\n",
      "3\n",
      "4\n",
      "5\n",
      "6\n",
      "7\n",
      "8\n",
      "9\n",
      "10\n",
      "11\n",
      "12\n",
      "13\n",
      "14\n",
      "15\n",
      "16\n",
      "17\n",
      "18\n",
      "19\n",
      "20\n",
      "21\n",
      "22\n",
      "23\n",
      "24\n",
      "25\n",
      "26\n",
      "27\n",
      "28\n",
      "29\n",
      "30\n",
      "31\n",
      "32\n",
      "33\n",
      "34\n",
      "35\n",
      "36\n",
      "37\n",
      "38\n",
      "39\n",
      "40\n",
      "41\n",
      "42\n",
      "43\n",
      "44\n",
      "45\n",
      "46\n",
      "47\n",
      "48\n",
      "49\n",
      "50\n",
      "51\n",
      "52\n",
      "53\n",
      "54\n",
      "55\n",
      "56\n",
      "57\n",
      "58\n",
      "59\n",
      "60\n",
      "61\n",
      "62\n",
      "63\n",
      "64\n",
      "65\n",
      "66\n",
      "67\n",
      "68\n",
      "69\n",
      "70\n",
      "71\n",
      "72\n",
      "73\n",
      "74\n",
      "75\n",
      "76\n",
      "77\n",
      "78\n",
      "79\n",
      "80\n",
      "81\n",
      "82\n",
      "83\n",
      "84\n",
      "85\n",
      "86\n",
      "87\n",
      "88\n",
      "89\n",
      "90\n",
      "91\n",
      "92\n",
      "93\n",
      "94\n",
      "95\n",
      "96\n",
      "97\n",
      "98\n",
      "99\n",
      "100\n",
      "101\n",
      "102\n",
      "103\n",
      "104\n",
      "105\n",
      "106\n",
      "107\n",
      "108\n",
      "109\n",
      "110\n",
      "111\n",
      "112\n",
      "113\n",
      "114\n",
      "115\n",
      "116\n",
      "117\n",
      "118\n",
      "119\n",
      "120\n",
      "121\n",
      "122\n",
      "123\n",
      "124\n",
      "125\n",
      "126\n",
      "127\n",
      "128\n",
      "129\n",
      "130\n",
      "131\n",
      "132\n",
      "133\n",
      "134\n",
      "135\n",
      "136\n",
      "137\n",
      "138\n",
      "139\n",
      "140\n",
      "141\n",
      "142\n",
      "143\n",
      "144\n",
      "145\n",
      "146\n",
      "147\n",
      "148\n",
      "149\n",
      "150\n",
      "151\n",
      "152\n",
      "153\n",
      "154\n",
      "155\n",
      "156\n",
      "157\n",
      "158\n",
      "159\n",
      "160\n",
      "161\n",
      "162\n",
      "163\n",
      "164\n"
     ]
    },
    {
     "data": {
      "text/html": [
       "<div>\n",
       "<table border=\"1\" class=\"dataframe\">\n",
       "  <thead>\n",
       "    <tr style=\"text-align: right;\">\n",
       "      <th></th>\n",
       "      <th>Organism</th>\n",
       "      <th>Kingdom</th>\n",
       "      <th>Group</th>\n",
       "      <th>SubGroup</th>\n",
       "      <th>Size</th>\n",
       "      <th>Chr</th>\n",
       "      <th>Organelles</th>\n",
       "      <th>Plasmids</th>\n",
       "      <th>Assemblies</th>\n",
       "      <th>url</th>\n",
       "    </tr>\n",
       "  </thead>\n",
       "  <tbody>\n",
       "    <tr>\n",
       "      <th>90</th>\n",
       "      <td>Wellfleet Bay virus</td>\n",
       "      <td>Viruses</td>\n",
       "      <td>ssRNA viruses</td>\n",
       "      <td>Orthomyxoviridae</td>\n",
       "      <td>0.011958</td>\n",
       "      <td>7</td>\n",
       "      <td>-</td>\n",
       "      <td>-</td>\n",
       "      <td>1</td>\n",
       "      <td>/genome/35297</td>\n",
       "    </tr>\n",
       "    <tr>\n",
       "      <th>91</th>\n",
       "      <td>Wenling shark virus</td>\n",
       "      <td>Viruses</td>\n",
       "      <td>ssRNA viruses</td>\n",
       "      <td>unclassified</td>\n",
       "      <td>0.009653</td>\n",
       "      <td>1</td>\n",
       "      <td>-</td>\n",
       "      <td>-</td>\n",
       "      <td>1</td>\n",
       "      <td>/genome/41580</td>\n",
       "    </tr>\n",
       "    <tr>\n",
       "      <th>92</th>\n",
       "      <td>Wenxinia marina</td>\n",
       "      <td>Bacteria</td>\n",
       "      <td>Proteobacteria</td>\n",
       "      <td>Alphaproteobacteria</td>\n",
       "      <td>4.17589</td>\n",
       "      <td>-</td>\n",
       "      <td>-</td>\n",
       "      <td>1</td>\n",
       "      <td>2</td>\n",
       "      <td>/genome/13935</td>\n",
       "    </tr>\n",
       "    <tr>\n",
       "      <th>93</th>\n",
       "      <td>Wenzhou virus</td>\n",
       "      <td>Viruses</td>\n",
       "      <td>ssRNA viruses</td>\n",
       "      <td>Arenaviridae</td>\n",
       "      <td>0.010483</td>\n",
       "      <td>2</td>\n",
       "      <td>-</td>\n",
       "      <td>-</td>\n",
       "      <td>1</td>\n",
       "      <td>/genome/35602</td>\n",
       "    </tr>\n",
       "    <tr>\n",
       "      <th>94</th>\n",
       "      <td>Wenzhouxiangella marina</td>\n",
       "      <td>Bacteria</td>\n",
       "      <td>Proteobacteria</td>\n",
       "      <td>Gammaproteobacteria</td>\n",
       "      <td>3.6752</td>\n",
       "      <td>1</td>\n",
       "      <td>-</td>\n",
       "      <td>-</td>\n",
       "      <td>1</td>\n",
       "      <td>/genome/39107</td>\n",
       "    </tr>\n",
       "    <tr>\n",
       "      <th>95</th>\n",
       "      <td>Wesselsbron virus</td>\n",
       "      <td>Viruses</td>\n",
       "      <td>ssRNA viruses</td>\n",
       "      <td>Flaviviridae</td>\n",
       "      <td>0.010814</td>\n",
       "      <td>1</td>\n",
       "      <td>-</td>\n",
       "      <td>-</td>\n",
       "      <td>1</td>\n",
       "      <td>/genome/6478</td>\n",
       "    </tr>\n",
       "    <tr>\n",
       "      <th>96</th>\n",
       "      <td>West African Asystasia virus 1</td>\n",
       "      <td>Viruses</td>\n",
       "      <td>ssDNA viruses</td>\n",
       "      <td>Geminiviridae</td>\n",
       "      <td>0.005388</td>\n",
       "      <td>2</td>\n",
       "      <td>-</td>\n",
       "      <td>-</td>\n",
       "      <td>1</td>\n",
       "      <td>/genome/12296</td>\n",
       "    </tr>\n",
       "    <tr>\n",
       "      <th>97</th>\n",
       "      <td>West Caucasian bat virus</td>\n",
       "      <td>Viruses</td>\n",
       "      <td>ssRNA viruses</td>\n",
       "      <td>Rhabdoviridae</td>\n",
       "      <td>0.012278</td>\n",
       "      <td>1</td>\n",
       "      <td>-</td>\n",
       "      <td>-</td>\n",
       "      <td>1</td>\n",
       "      <td>/genome/34375</td>\n",
       "    </tr>\n",
       "    <tr>\n",
       "      <th>98</th>\n",
       "      <td>West Nile virus</td>\n",
       "      <td>Viruses</td>\n",
       "      <td>ssRNA viruses</td>\n",
       "      <td>Flaviviridae</td>\n",
       "      <td>0.010962</td>\n",
       "      <td>1</td>\n",
       "      <td>-</td>\n",
       "      <td>-</td>\n",
       "      <td>2</td>\n",
       "      <td>/genome/10311</td>\n",
       "    </tr>\n",
       "    <tr>\n",
       "      <th>99</th>\n",
       "      <td>Western equine encephalitis virus</td>\n",
       "      <td>Viruses</td>\n",
       "      <td>ssRNA viruses</td>\n",
       "      <td>Togaviridae</td>\n",
       "      <td>0.011484</td>\n",
       "      <td>1</td>\n",
       "      <td>-</td>\n",
       "      <td>-</td>\n",
       "      <td>1</td>\n",
       "      <td>/genome/5000</td>\n",
       "    </tr>\n",
       "  </tbody>\n",
       "</table>\n",
       "</div>"
      ],
      "text/plain": [
       "                             Organism   Kingdom           Group  \\\n",
       "90                Wellfleet Bay virus   Viruses   ssRNA viruses   \n",
       "91                Wenling shark virus   Viruses   ssRNA viruses   \n",
       "92                    Wenxinia marina  Bacteria  Proteobacteria   \n",
       "93                      Wenzhou virus   Viruses   ssRNA viruses   \n",
       "94            Wenzhouxiangella marina  Bacteria  Proteobacteria   \n",
       "95                  Wesselsbron virus   Viruses   ssRNA viruses   \n",
       "96     West African Asystasia virus 1   Viruses   ssDNA viruses   \n",
       "97           West Caucasian bat virus   Viruses   ssRNA viruses   \n",
       "98                    West Nile virus   Viruses   ssRNA viruses   \n",
       "99  Western equine encephalitis virus   Viruses   ssRNA viruses   \n",
       "\n",
       "               SubGroup      Size Chr Organelles Plasmids Assemblies  \\\n",
       "90     Orthomyxoviridae  0.011958   7          -        -          1   \n",
       "91         unclassified  0.009653   1          -        -          1   \n",
       "92  Alphaproteobacteria   4.17589   -          -        1          2   \n",
       "93         Arenaviridae  0.010483   2          -        -          1   \n",
       "94  Gammaproteobacteria    3.6752   1          -        -          1   \n",
       "95         Flaviviridae  0.010814   1          -        -          1   \n",
       "96        Geminiviridae  0.005388   2          -        -          1   \n",
       "97        Rhabdoviridae  0.012278   1          -        -          1   \n",
       "98         Flaviviridae  0.010962   1          -        -          2   \n",
       "99          Togaviridae  0.011484   1          -        -          1   \n",
       "\n",
       "              url  \n",
       "90  /genome/35297  \n",
       "91  /genome/41580  \n",
       "92  /genome/13935  \n",
       "93  /genome/35602  \n",
       "94  /genome/39107  \n",
       "95   /genome/6478  \n",
       "96  /genome/12296  \n",
       "97  /genome/34375  \n",
       "98  /genome/10311  \n",
       "99   /genome/5000  "
      ]
     },
     "execution_count": 15,
     "metadata": {},
     "output_type": "execute_result"
    }
   ],
   "source": [
    "big_df = pd.DataFrame()\n",
    "num_pages = 164 #164,5\n",
    "\n",
    "for i in range(1, num_pages+1): #For each page, get Grouping Info for each Organism\n",
    "\n",
    "    num_page = i\n",
    "    url1 = 'http://www.ncbi.nlm.nih.gov/genomes/Genome2BE/genome2srv.cgi?action=GetGenomeList4Grid&mode=2&page='+str(num_page)+'&pageSize=100'\n",
    "\n",
    "    response = requests.get(url1)\n",
    "    HTML = response.text\n",
    "    \n",
    "    p1_df =p1_Cols(HTML) #Other Cols for Organism\n",
    "    p1_df_a = pd.DataFrame()\n",
    "    p1_df_a = p1_Link(HTML) #Other Cols for Organism\n",
    "    \n",
    "    p1_df_format = pd.DataFrame()\n",
    "    p1_df_format = format_Colnames(p1_df) #Add Column Names \n",
    "    \n",
    "    p1_df_format = pd.concat([p1_df_format, p1_df_a], axis=1)    \n",
    "    big_df = pd.concat([big_df, p1_df_format], axis=0)\n",
    "    print i\n",
    "\n",
    "#print big_df.shape\n",
    "big_df.tail(10)\n"
   ]
  },
  {
   "cell_type": "markdown",
   "metadata": {},
   "source": [
    "When looking at large amounts of scraped data from the web which is dynamic, it is a good idea to pickle our data into csv files which can be imported into data frames as below."
   ]
  },
  {
   "cell_type": "code",
   "execution_count": 16,
   "metadata": {
    "collapsed": true
   },
   "outputs": [],
   "source": [
    "big_df.to_csv('./out_Z2.csv', encoding='utf-8')"
   ]
  },
  {
   "cell_type": "code",
   "execution_count": 17,
   "metadata": {
    "collapsed": true
   },
   "outputs": [],
   "source": [
    "df_164 = pd.read_csv('./out_Z2.csv')"
   ]
  },
  {
   "cell_type": "markdown",
   "metadata": {},
   "source": [
    "Armed with some data, we can start to take a look. Value counts on the dataframe gives us a good idea of how many organisms are in the \"Kingdoms\"."
   ]
  },
  {
   "cell_type": "code",
   "execution_count": 18,
   "metadata": {
    "collapsed": false
   },
   "outputs": [
    {
     "data": {
      "text/plain": [
       "Bacteria     8470\n",
       "Viruses      5394\n",
       "Eukaryota    1915\n",
       "Archaea       573\n",
       "Viroids        48\n",
       "Name: Kingdom, dtype: int64"
      ]
     },
     "execution_count": 18,
     "metadata": {},
     "output_type": "execute_result"
    }
   ],
   "source": [
    "df_164['Kingdom'].value_counts()"
   ]
  },
  {
   "cell_type": "code",
   "execution_count": 19,
   "metadata": {
    "collapsed": false
   },
   "outputs": [
    {
     "name": "stdout",
     "output_type": "stream",
     "text": [
      "float64\n"
     ]
    },
    {
     "name": "stderr",
     "output_type": "stream",
     "text": [
      "/Users/noriogura/anaconda/lib/python2.7/site-packages/ipykernel/__main__.py:3: FutureWarning: convert_objects is deprecated.  Use the data-type specific converters pd.to_datetime, pd.to_timedelta and pd.to_numeric.\n",
      "  app.launch_new_instance()\n",
      "/Users/noriogura/anaconda/lib/python2.7/site-packages/ipykernel/__main__.py:4: FutureWarning: convert_objects is deprecated.  Use the data-type specific converters pd.to_datetime, pd.to_timedelta and pd.to_numeric.\n"
     ]
    }
   ],
   "source": [
    "#Convert to numeric so that describe function later on works\n",
    "\n",
    "df_164['Size'] = df_164['Size'].convert_objects(convert_numeric=True)\n",
    "df_164['Chr'] = df_164['Chr'].convert_objects(convert_numeric=True)\n",
    "\n",
    "print df_164['Size'].dtype"
   ]
  },
  {
   "cell_type": "code",
   "execution_count": 20,
   "metadata": {
    "collapsed": false
   },
   "outputs": [
    {
     "name": "stdout",
     "output_type": "stream",
     "text": [
      "Kingdom    0\n",
      "Size       3\n",
      "dtype: int64\n"
     ]
    }
   ],
   "source": [
    "df_suba = df_164[['Kingdom','Size']]\n",
    "print df_suba.isnull().sum()"
   ]
  },
  {
   "cell_type": "code",
   "execution_count": 21,
   "metadata": {
    "collapsed": false
   },
   "outputs": [
    {
     "name": "stdout",
     "output_type": "stream",
     "text": [
      "Kingdom       0\n",
      "Chr        8493\n",
      "dtype: int64\n"
     ]
    }
   ],
   "source": [
    "df_subb = df_164[['Kingdom','Chr']]\n",
    "print df_subb.isnull().sum()"
   ]
  },
  {
   "cell_type": "code",
   "execution_count": 22,
   "metadata": {
    "collapsed": false
   },
   "outputs": [
    {
     "data": {
      "text/plain": [
       "Kingdom         \n",
       "Archaea    count      573.000000\n",
       "           mean         2.096091\n",
       "           std          1.217596\n",
       "           min          0.100212\n",
       "           25%          1.227160\n",
       "           50%          1.853160\n",
       "           75%          2.937200\n",
       "           max          6.451200\n",
       "Bacteria   count     8470.000000\n",
       "           mean         3.606051\n",
       "           std          2.262490\n",
       "           min          0.104827\n",
       "           25%          1.958058\n",
       "           50%          3.342230\n",
       "           75%          4.798423\n",
       "           max         16.377200\n",
       "Eukaryota  count     1912.000000\n",
       "           mean       463.160587\n",
       "           std       1274.846636\n",
       "           min          0.662517\n",
       "           25%         30.715150\n",
       "           50%         54.741200\n",
       "           75%        375.169500\n",
       "           max      27602.700000\n",
       "Viroids    count       48.000000\n",
       "           mean         0.000337\n",
       "           std          0.000045\n",
       "           min          0.000246\n",
       "           25%          0.000305\n",
       "           50%          0.000345\n",
       "           75%          0.000363\n",
       "           max          0.000434\n",
       "Viruses    count     5394.000000\n",
       "           mean         0.040011\n",
       "           std          0.087617\n",
       "           min          0.000220\n",
       "           25%          0.005208\n",
       "           50%          0.011194\n",
       "           75%          0.044537\n",
       "           max          2.473870\n",
       "dtype: float64"
      ]
     },
     "execution_count": 22,
     "metadata": {},
     "output_type": "execute_result"
    }
   ],
   "source": [
    "bytreatment = df_suba.groupby('Kingdom')\n",
    "bytreatment['Size'].describe()"
   ]
  },
  {
   "cell_type": "code",
   "execution_count": 23,
   "metadata": {
    "collapsed": false
   },
   "outputs": [
    {
     "data": {
      "text/plain": [
       "Kingdom         \n",
       "Archaea    count     192.000000\n",
       "           mean        1.015625\n",
       "           std         0.124344\n",
       "           min         1.000000\n",
       "           25%         1.000000\n",
       "           50%         1.000000\n",
       "           75%         1.000000\n",
       "           max         2.000000\n",
       "Bacteria   count    2056.000000\n",
       "           mean        1.085603\n",
       "           std         0.673060\n",
       "           min         1.000000\n",
       "           25%         1.000000\n",
       "           50%         1.000000\n",
       "           75%         1.000000\n",
       "           max        27.000000\n",
       "Eukaryota  count     220.000000\n",
       "           mean       16.022727\n",
       "           std        11.069908\n",
       "           min         1.000000\n",
       "           25%         8.000000\n",
       "           50%        13.500000\n",
       "           75%        22.000000\n",
       "           max        64.000000\n",
       "Viroids    count      48.000000\n",
       "           mean        1.000000\n",
       "           std         0.000000\n",
       "           min         1.000000\n",
       "           25%         1.000000\n",
       "           50%         1.000000\n",
       "           75%         1.000000\n",
       "           max         1.000000\n",
       "Viruses    count    5391.000000\n",
       "           mean        1.300130\n",
       "           std         2.064740\n",
       "           min         1.000000\n",
       "           25%         1.000000\n",
       "           50%         1.000000\n",
       "           75%         1.000000\n",
       "           max       105.000000\n",
       "dtype: float64"
      ]
     },
     "execution_count": 23,
     "metadata": {},
     "output_type": "execute_result"
    }
   ],
   "source": [
    "bytreatment = df_subb.groupby('Kingdom')\n",
    "bytreatment['Chr'].describe()"
   ]
  },
  {
   "cell_type": "code",
   "execution_count": 24,
   "metadata": {
    "collapsed": false
   },
   "outputs": [
    {
     "name": "stderr",
     "output_type": "stream",
     "text": [
      "/Users/noriogura/anaconda/lib/python2.7/site-packages/pandas/core/generic.py:3178: SettingWithCopyWarning: \n",
      "A value is trying to be set on a copy of a slice from a DataFrame\n",
      "\n",
      "See the caveats in the documentation: http://pandas.pydata.org/pandas-docs/stable/indexing.html#indexing-view-versus-copy\n",
      "  self._update_inplace(new_data)\n"
     ]
    }
   ],
   "source": [
    "df_subb[\"Chr\"].fillna(0,inplace=True)"
   ]
  },
  {
   "cell_type": "code",
   "execution_count": 25,
   "metadata": {
    "collapsed": false
   },
   "outputs": [
    {
     "data": {
      "text/plain": [
       "Kingdom         \n",
       "Archaea    count     573.000000\n",
       "           mean        0.340314\n",
       "           std         0.485162\n",
       "           min         0.000000\n",
       "           25%         0.000000\n",
       "           50%         0.000000\n",
       "           75%         1.000000\n",
       "           max         2.000000\n",
       "Bacteria   count    8470.000000\n",
       "           mean        0.263518\n",
       "           std         0.571474\n",
       "           min         0.000000\n",
       "           25%         0.000000\n",
       "           50%         0.000000\n",
       "           75%         0.000000\n",
       "           max        27.000000\n",
       "Eukaryota  count    1915.000000\n",
       "           mean        1.840731\n",
       "           std         6.335633\n",
       "           min         0.000000\n",
       "           25%         0.000000\n",
       "           50%         0.000000\n",
       "           75%         0.000000\n",
       "           max        64.000000\n",
       "Viroids    count      48.000000\n",
       "           mean        1.000000\n",
       "           std         0.000000\n",
       "           min         1.000000\n",
       "           25%         1.000000\n",
       "           50%         1.000000\n",
       "           75%         1.000000\n",
       "           max         1.000000\n",
       "Viruses    count    5394.000000\n",
       "           mean        1.299407\n",
       "           std         2.064393\n",
       "           min         0.000000\n",
       "           25%         1.000000\n",
       "           50%         1.000000\n",
       "           75%         1.000000\n",
       "           max       105.000000\n",
       "dtype: float64"
      ]
     },
     "execution_count": 25,
     "metadata": {},
     "output_type": "execute_result"
    }
   ],
   "source": [
    "bytreatment = df_subb.groupby('Kingdom')\n",
    "bytreatment['Chr'].describe()"
   ]
  },
  {
   "cell_type": "code",
   "execution_count": null,
   "metadata": {
    "collapsed": true
   },
   "outputs": [],
   "source": []
  },
  {
   "cell_type": "code",
   "execution_count": null,
   "metadata": {
    "collapsed": true
   },
   "outputs": [],
   "source": []
  },
  {
   "cell_type": "code",
   "execution_count": null,
   "metadata": {
    "collapsed": true
   },
   "outputs": [],
   "source": []
  },
  {
   "cell_type": "code",
   "execution_count": null,
   "metadata": {
    "collapsed": true
   },
   "outputs": [],
   "source": []
  }
 ],
 "metadata": {
  "kernelspec": {
   "display_name": "Python 2",
   "language": "python",
   "name": "python2"
  },
  "language_info": {
   "codemirror_mode": {
    "name": "ipython",
    "version": 2
   },
   "file_extension": ".py",
   "mimetype": "text/x-python",
   "name": "python",
   "nbconvert_exporter": "python",
   "pygments_lexer": "ipython2",
   "version": "2.7.11"
  }
 },
 "nbformat": 4,
 "nbformat_minor": 0
}
