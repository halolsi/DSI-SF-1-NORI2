{
 "cells": [
  {
   "cell_type": "code",
   "execution_count": 89,
   "metadata": {
    "collapsed": false,
    "scrolled": true
   },
   "outputs": [
    {
     "name": "stdout",
     "output_type": "stream",
     "text": [
      "<!--  7 100 16684 -->\n",
      "<tr class=\"Even\"><td><a href=\"/genome/30333\" target=\"_blank\">Aigarchaeota archaeon SCGC AAA471-J08</a></td><td>Archaea</td><td>TACK group</td><td>Thaumarchaeota</td><td>0.252228</td><td>-</td><td>-</td><td>-</td><td><a href=\"/genome/30333\" target=\"_blank\">1</a></td></tr>\n",
      "<tr class=\"Odd\"><td><a href=\"/genome/2702\" target=\"_blank\">Ailuropoda melanoleuca</a></td><td>Eukaryota</td><td>Animals</td><td>Mammals</td><td>2299.51</td><td>-</td><td>1</td><td>-</td><td><a href=\"/genome/2702\" target=\"_blank\">1</a></td></tr>\n",
      "<tr class=\"Even\"><td><a href=\"/genome/6051\" target=\"_blank\">Akabane virus</a></td><td>Viruses</td><td>ssRNA viruses</td><td>Bunyaviridae</td><td>0.012035</td><td>3</td><td>-</td><td>-</td><td><a href=\"/genome/6051\" target=\"_blank\">1</a></td></tr>\n",
      "<tr class=\"Odd\"><td><a href=\"/genome/13840\" target=\"_blank\">Akkermansia</a></td><td>Bacteria</td><td>PVC group</td><td>Verrucomicrobia</td><td>3.11373</td><td>-</td><td>-</td><td>-</td><td><a href=\"/genome/genomes/13840\" target=\"_blank\">5</a></td></tr>\n",
      "<tr class=\"Even\"><td><a href=\"/genome/1598\" target=\"_blank\">Akkermansia muciniphila</a></td><td>Bacteria</td><td>PVC group</td><td>Verrucomicrobia</td><td>2.6641</td><td>1</td><td>-</td><td>-</td><td><a href=\"/genome/genomes/1598\" target=\"_blank\">2</a></td></tr>\n",
      "<tr class=\"Odd\"><td><a href=\"/genome/17970\" target=\"_blank\">Akkermansia muciniphila CAG:154</a></td><td>Bacteria</td><td>PVC group</td><td>Verrucomicrobia</td><td>2.72183</td><td>-</td><td>-</td><td>-</td><td><a href=\"/genome/17970\" target=\"_blank\">1</a></td></tr>\n",
      "<tr class=\"Even\"><td><a href=\"/genome/44246\" target=\"_blank\">Albophoma yamanashiensis</a></td><td>Eukaryota</td><td>Fungi</td><td>Ascomycetes</td><td>31.3906</td><td>-</td><td>-</td><td>-</td><td><a href=\"/genome/44246\" target=\"_blank\">1</a></td></tr>\n",
      "<tr class=\"Odd\"><td><a href=\"/genome/30171\" target=\"_blank\">Albugo candida</a></td><td>Eukaryota</td><td>Protists</td><td>Other Protists</td><td>32.9217</td><td>-</td><td>-</td><td>-</td><td><a href=\"/genome/genomes/30171\" target=\"_blank\">7</a></td></tr>\n",
      "<tr class=\"Even\"><td><a href=\"/genome/42720\" target=\"_blank\">Alcaligenaceae bacterium DTU041</a></td><td>Bacteria</td><td>Proteobacteria</td><td>Betaproteobacteria</td><td>2.89746</td><td>-</td><td>-</td><td>-</td><td><a href=\"/genome/42720\" target=\"_blank\">1</a></td></tr>\n",
      "<tr class=\"Odd\"><td><a href=\"/genome/45264\" target=\"_blank\">Alcaligenaceae bacterium LMG 29303</a></td><td>Bacteria</td><td>Proteobacteria</td><td>Betaproteobacteria</td><td>4.82574</td><td>-</td><td>-</td><td>-</td><td><a href=\"/genome/45264\" target=\"_blank\">1</a></td></tr>\n",
      "<tr class=\"Even\"><td><a href=\"/genome/15563\" target=\"_blank\">Alcaligenes</a></td><td>Bacteria</td><td>Proteobacteria</td><td>Betaproteobacteria</td><td>4.27645</td><td>-</td><td>-</td><td>-</td><td><a href=\"/genome/genomes/15563\" target=\"_blank\">2</a></td></tr>\n",
      "<tr class=\"Odd\"><td><a href=\"/genome/13038\" target=\"_blank\">Alcaligenes faecalis</a></td><td>Bacteria</td><td>Proteobacteria</td><td>Betaproteobacteria</td><td>4.24868</td><td>1</td><td>-</td><td>1</td><td><a href=\"/genome/genomes/13038\" target=\"_blank\">8</a></td></tr>\n",
      "<tr class=\"Even\"><td><a href=\"/genome/13675\" target=\"_blank\">Alcanivorax</a></td><td>Bacteria</td><td>Proteobacteria</td><td>Gammaproteobacteria</td><td>3.63697</td><td>1</td><td>-</td><td>-</td><td><a href=\"/genome/genomes/13675\" target=\"_blank\">18</a></td></tr>\n",
      "<tr class=\"Odd\"><td><a href=\"/genome/1655\" target=\"_blank\">Alcanivorax borkumensis</a></td><td>Bacteria</td><td>Proteobacteria</td><td>Gammaproteobacteria</td><td>3.12014</td><td>1</td><td>-</td><td>-</td><td><a href=\"/genome/1655\" target=\"_blank\">1</a></td></tr>\n",
      "<tr class=\"Even\"><td><a href=\"/genome/11433\" target=\"_blank\">Alcanivorax dieselolei</a></td><td>Bacteria</td><td>Proteobacteria</td><td>Gammaproteobacteria</td><td>4.92822</td><td>1</td><td>-</td><td>-</td><td><a href=\"/genome/genomes/11433\" target=\"_blank\">2</a></td></tr>\n",
      "<tr class=\"Odd\"><td><a href=\"/genome/13443\" target=\"_blank\">Alcanivorax hongdengensis</a></td><td>Bacteria</td><td>Proteobacteria</td><td>Gammaproteobacteria</td><td>3.66488</td><td>-</td><td>-</td><td>-</td><td><a href=\"/genome/13443\" target=\"_blank\">1</a></td></tr>\n",
      "<tr class=\"Even\"><td><a href=\"/genome/13445\" target=\"_blank\">Alcanivorax jadensis</a></td><td>Bacteria</td><td>Proteobacteria</td><td>Gammaproteobacteria</td><td>3.62937</td><td>-</td><td>-</td><td>-</td><td><a href=\"/genome/13445\" target=\"_blank\">1</a></td></tr>\n",
      "<tr class=\"Odd\"><td><a href=\"/genome/45259\" target=\"_blank\">Alcanivorax nanhaiticus</a></td><td>Bacteria</td><td>Proteobacteria</td><td>Gammaproteobacteria</td><td>4.1328</td><td>-</td><td>-</td><td>-</td><td><a href=\"/genome/45259\" target=\"_blank\">1</a></td></tr>\n",
      "<tr class=\"Even\"><td><a href=\"/genome/30537\" target=\"_blank\">Alcanivorax pacificus</a></td><td>Bacteria</td><td>Proteobacteria</td><td>Gammaproteobacteria</td><td>4.16843</td><td>1</td><td>-</td><td>-</td><td><a href=\"/genome/30537\" target=\"_bla\n"
     ]
    }
   ],
   "source": [
    "import webbrowser\n",
    "eurl = 'http://www.ncbi.nlm.nih.gov/genome/browse/#tabs-genomes'\n",
    "gurl = 'http://www.ncbi.nlm.nih.gov/genome/browse/#tabs-genomes/genome2srv.cgi?action=GetGenomeList4Grid&mode=2&page=7&pageSize=100'\n",
    "furl = 'http://www.ncbi.nlm.nih.gov/genomes/Genome2BE/genome2srv.cgi?action=GetGenomeList4Grid&mode=2&page=4&pageSize=100'\n",
    "\n",
    "url1 = eurl\n",
    "webbrowser.open(url1,new=2) #nice looking version\n",
    "\n",
    "#get first page of general query\n",
    "num_page = 7\n",
    "url1 = 'http://www.ncbi.nlm.nih.gov/genomes/Genome2BE/genome2srv.cgi?action=GetGenomeList4Grid&mode=2&page='+str(num_page)+'&pageSize=100'\n",
    "\n",
    "#get number of pages\n",
    "webbrowser.open(url1,new=2) #To open web url, has real page data\n",
    "\n",
    "import requests\n",
    "response = requests.get(url1)\n",
    "HTML = response.text\n",
    "\n",
    "#week3, 5.3-prologue-to-web-scraping\n",
    "print HTML[:5000]\n"
   ]
  },
  {
   "cell_type": "code",
   "execution_count": 63,
   "metadata": {
    "collapsed": true
   },
   "outputs": [],
   "source": [
    "from scrapy.selector import Selector\n",
    "from scrapy.http import HtmlResponse\n",
    "\n",
    "import pandas as pd"
   ]
  },
  {
   "cell_type": "code",
   "execution_count": 64,
   "metadata": {
    "collapsed": true
   },
   "outputs": [],
   "source": [
    "#big_df.to_csv('./out_Z2.csv', encoding='utf-8')"
   ]
  },
  {
   "cell_type": "code",
   "execution_count": 65,
   "metadata": {
    "collapsed": false
   },
   "outputs": [],
   "source": [
    "df_164 = pd.read_csv('./out_Z2.csv')"
   ]
  },
  {
   "cell_type": "code",
   "execution_count": 66,
   "metadata": {
    "collapsed": false
   },
   "outputs": [
    {
     "data": {
      "text/plain": [
       "Bacteria     8470\n",
       "Viruses      5394\n",
       "Eukaryota    1915\n",
       "Archaea       573\n",
       "Viroids        48\n",
       "Name: Kingdom, dtype: int64"
      ]
     },
     "execution_count": 66,
     "metadata": {},
     "output_type": "execute_result"
    }
   ],
   "source": [
    "df_164['Kingdom'].value_counts()"
   ]
  },
  {
   "cell_type": "code",
   "execution_count": 67,
   "metadata": {
    "collapsed": false
   },
   "outputs": [
    {
     "data": {
      "text/html": [
       "<div>\n",
       "<table border=\"1\" class=\"dataframe\">\n",
       "  <thead>\n",
       "    <tr style=\"text-align: right;\">\n",
       "      <th></th>\n",
       "      <th>Unnamed: 0</th>\n",
       "      <th>Organism</th>\n",
       "      <th>Kingdom</th>\n",
       "      <th>Group</th>\n",
       "      <th>SubGroup</th>\n",
       "      <th>Size</th>\n",
       "      <th>Chr</th>\n",
       "      <th>Organelles</th>\n",
       "      <th>Plasmids</th>\n",
       "      <th>Assemblies</th>\n",
       "      <th>url</th>\n",
       "    </tr>\n",
       "  </thead>\n",
       "  <tbody>\n",
       "    <tr>\n",
       "      <th>16397</th>\n",
       "      <td>97</td>\n",
       "      <td>West Caucasian bat virus</td>\n",
       "      <td>Viruses</td>\n",
       "      <td>ssRNA viruses</td>\n",
       "      <td>Rhabdoviridae</td>\n",
       "      <td>0.012278</td>\n",
       "      <td>1</td>\n",
       "      <td>-</td>\n",
       "      <td>-</td>\n",
       "      <td>1</td>\n",
       "      <td>/genome/34375</td>\n",
       "    </tr>\n",
       "    <tr>\n",
       "      <th>16398</th>\n",
       "      <td>98</td>\n",
       "      <td>West Nile virus</td>\n",
       "      <td>Viruses</td>\n",
       "      <td>ssRNA viruses</td>\n",
       "      <td>Flaviviridae</td>\n",
       "      <td>0.010962</td>\n",
       "      <td>1</td>\n",
       "      <td>-</td>\n",
       "      <td>-</td>\n",
       "      <td>2</td>\n",
       "      <td>/genome/10311</td>\n",
       "    </tr>\n",
       "    <tr>\n",
       "      <th>16399</th>\n",
       "      <td>99</td>\n",
       "      <td>Western equine encephalitis virus</td>\n",
       "      <td>Viruses</td>\n",
       "      <td>ssRNA viruses</td>\n",
       "      <td>Togaviridae</td>\n",
       "      <td>0.011484</td>\n",
       "      <td>1</td>\n",
       "      <td>-</td>\n",
       "      <td>-</td>\n",
       "      <td>1</td>\n",
       "      <td>/genome/5000</td>\n",
       "    </tr>\n",
       "  </tbody>\n",
       "</table>\n",
       "</div>"
      ],
      "text/plain": [
       "       Unnamed: 0                           Organism  Kingdom          Group  \\\n",
       "16397          97           West Caucasian bat virus  Viruses  ssRNA viruses   \n",
       "16398          98                    West Nile virus  Viruses  ssRNA viruses   \n",
       "16399          99  Western equine encephalitis virus  Viruses  ssRNA viruses   \n",
       "\n",
       "            SubGroup      Size Chr Organelles Plasmids Assemblies  \\\n",
       "16397  Rhabdoviridae  0.012278   1          -        -          1   \n",
       "16398   Flaviviridae  0.010962   1          -        -          2   \n",
       "16399    Togaviridae  0.011484   1          -        -          1   \n",
       "\n",
       "                 url  \n",
       "16397  /genome/34375  \n",
       "16398  /genome/10311  \n",
       "16399   /genome/5000  "
      ]
     },
     "execution_count": 67,
     "metadata": {},
     "output_type": "execute_result"
    }
   ],
   "source": [
    "df_164.tail(3)"
   ]
  },
  {
   "cell_type": "code",
   "execution_count": 68,
   "metadata": {
    "collapsed": false
   },
   "outputs": [
    {
     "name": "stdout",
     "output_type": "stream",
     "text": [
      "float64\n"
     ]
    },
    {
     "name": "stderr",
     "output_type": "stream",
     "text": [
      "/Users/noriogura/anaconda/lib/python2.7/site-packages/ipykernel/__main__.py:1: FutureWarning: convert_objects is deprecated.  Use the data-type specific converters pd.to_datetime, pd.to_timedelta and pd.to_numeric.\n",
      "  if __name__ == '__main__':\n",
      "/Users/noriogura/anaconda/lib/python2.7/site-packages/ipykernel/__main__.py:2: FutureWarning: convert_objects is deprecated.  Use the data-type specific converters pd.to_datetime, pd.to_timedelta and pd.to_numeric.\n",
      "  from ipykernel import kernelapp as app\n"
     ]
    }
   ],
   "source": [
    "df_164['Size'] = df_164['Size'].convert_objects(convert_numeric=True)\n",
    "df_164['Chr'] = df_164['Chr'].convert_objects(convert_numeric=True)\n",
    "\n",
    "print df_164['Size'].dtype"
   ]
  },
  {
   "cell_type": "code",
   "execution_count": 69,
   "metadata": {
    "collapsed": false
   },
   "outputs": [
    {
     "data": {
      "text/plain": [
       "(7907, 11)"
      ]
     },
     "execution_count": 69,
     "metadata": {},
     "output_type": "execute_result"
    }
   ],
   "source": [
    "## Drop NaN's ###\n",
    "\n",
    "df_164_sub = df_164.dropna()\n",
    "df_164_sub.shape"
   ]
  },
  {
   "cell_type": "markdown",
   "metadata": {},
   "source": [
    "Again, using Scrapy on the url information in the summary dataframe (df_164), the GC% can be scraped as below. Note that, code was pulled off the number whether or not the statistics noted the GC% as median value or not. Scraping 16000 organisms takes a long time, so I put in the time stamps and print statements with pickling every 200 organisms to a csv file, in case the HTML response error-ed out. I did ran into an error where the url previously scraped no longer existed, so I manually concatenated files that did not include that particular url."
   ]
  },
  {
   "cell_type": "code",
   "execution_count": 70,
   "metadata": {
    "collapsed": false
   },
   "outputs": [],
   "source": [
    "# ###############################\n",
    "# ## FIX Protein\n",
    "# ###############################\n",
    "\n",
    "# from scrapy.selector import Selector\n",
    "# from scrapy.http import HtmlResponse\n",
    "\n",
    "# import pandas as pd\n",
    "\n",
    "# #From url, Summary page, get GC%\n",
    "# import numpy as np\n",
    "# import time\n",
    "# import requests\n",
    "\n",
    "\n",
    "# # 1638, keep stopping at 6899 ##ERRORS OUT 7279, 6899\n",
    "# start_z = 0 #6800 #6900 #Skip 6899\n",
    "# stop_z = len(df_164_sub)  #6899 #7000 #\n",
    "# group_z = 200   #99  #100\n",
    "\n",
    "# start_p = start_z\n",
    "# stop_p = start_p + group_z\n",
    "\n",
    "# for k in range(start_z, stop_z, group_z):\n",
    "\n",
    "\n",
    "#     url_list = df_164_sub['url']\n",
    "#     gc_list = []\n",
    "\n",
    "#     print len(url_list)\n",
    "\n",
    "#     for i,j in enumerate(url_list[start_p:stop_p]): #For each page, get Grouping Info for each Organism\n",
    "\n",
    "#         print \"URL: \", j\n",
    "#         print i\n",
    "        \n",
    "#         url_a = j\n",
    "#         url_gc = 'http://www.ncbi.nlm.nih.gov'+ str(url_a) #http://www.ncbi.nlm.nih.gov/genome/35822\n",
    "#         response = requests.get(url_gc)\n",
    "#         HTML = response.text\n",
    "\n",
    "#         site_all = \"//table[@class='summary']//tr//td//text()\"\n",
    "\n",
    "#         for_page = Selector(text=HTML).xpath(site_all)\n",
    "#         page_tot = for_page.extract()\n",
    "        \n",
    "#         #search for \"protein\" \n",
    "        \n",
    "#         m_i = 0\n",
    "#         protein = ''\n",
    "        \n",
    "#         for m,n in enumerate(page_tot):\n",
    "#             #print n, str(\"protein\" in n )\n",
    "#             if \"protein\" in n:\n",
    "#                 if n[-1] == ' ':\n",
    "#                     m_i = m + 1\n",
    "#                     protein = page_tot[m_i]\n",
    "#                 else:\n",
    "#                     m_i = m\n",
    "#                     protein = page_tot[m_i][22:]\n",
    "#         gc = protein\n",
    "#         #gc = float(gc)\n",
    "        \n",
    "# #         try:\n",
    "# #             gc = page_tot[-2] #[-2] #last element is string list\n",
    "\n",
    "# #             if \"median\" in gc:\n",
    "# #                  gc = gc[22:] #last element, string take off \"0GC%:\"    \n",
    "# #             else:\n",
    "# #                 site_all = \"//table[@class='summary']//tr//td/a/text()\"\n",
    "# #                 for_page = Selector(text=HTML).xpath(site_all)\n",
    "# #                 page_tot = for_page.extract()\n",
    "# #                 gc = page_tot[] #[10:] #last element, string take off \"0GC%:\" \n",
    "# #             #gc = float(gc)\n",
    "\n",
    "# #         except:\n",
    "# #             gc = np.nan\n",
    "            \n",
    "#         #gc = page_tot[-2]\n",
    "\n",
    "#         print (time.strftime(\"%H:%M:%S\"))\n",
    "#         print i, \" : \", url_a, \" : \", gc\n",
    "#         gc_list.append(gc)\n",
    "\n",
    "#     print gc_list\n",
    "\n",
    "#     file_gc = './out_pr_Z2_B_' + str(stop_p-1) + '.csv'\n",
    "\n",
    "#     gc_df = pd.DataFrame(gc_list)\n",
    "#     gc_df.to_csv(file_gc, if_exists=\"append\", encoding='utf-8') #df.to_csv(if_exists=\"append\")\n",
    "    \n",
    "#     start_p = start_p + group_z\n",
    "#     stop_p = stop_p + group_z\n",
    "\n"
   ]
  },
  {
   "cell_type": "markdown",
   "metadata": {},
   "source": [
    "All the output csv scraped from NCBI files should be concatenated into a data frame for further analysis. The code for concatenating the output into a file is as below:"
   ]
  },
  {
   "cell_type": "code",
   "execution_count": 71,
   "metadata": {
    "collapsed": true
   },
   "outputs": [],
   "source": [
    "# import pandas as pd\n",
    "\n",
    "# def concat_gc_df(file_GC, file_gc, num_records): #append file_gc to file_GC\n",
    "#     import pandas as pd\n",
    "#     df = pd.DataFrame()\n",
    "    \n",
    "#     #assume both file are 2 column output from previous scraping gc\n",
    "#     #dfb = pd.read_csv(\"./out_gc_Z_5199.csv\")\n",
    "#     df1= pd.read_csv(file_GC)\n",
    "#     df2= pd.read_csv(file_gc)\n",
    "\n",
    "#     df = pd.concat([df1, df2], axis=0)\n",
    "#     df = df.ix[:,[1]] #get rid of added axis when df.to_csv happened to df1 & df2\n",
    "\n",
    "#     #output file of appended dataframe\n",
    "#     #output_file = './out_GC_' + str(num_records) + '.csv'\n",
    "#     output_file = './out_PR_Z2_B_' + str(num_records) + '.csv'\n",
    "#     df.to_csv(output_file, encoding='utf-8') #df.to_csv(if_exists=\"append\")\n",
    "#     return df\n",
    "    "
   ]
  },
  {
   "cell_type": "code",
   "execution_count": 72,
   "metadata": {
    "collapsed": true
   },
   "outputs": [],
   "source": [
    "# #make sure you don't act on already processed files\n",
    "# start_num = 200\n",
    "# stop_num = 16000\n",
    "\n",
    "\n",
    "# for i in range(start_num,stop_num, 200):\n",
    "#     file1_rec = i\n",
    "#     file2_rec = i+200-1\n",
    "    \n",
    "\n",
    "\n",
    "#     file_1 = './out_PR_Z2_B_' + str(file1_rec) + '.csv'\n",
    "#     file_2 = './out_pr_Z2_B_' + str(file2_rec) + '.csv'\n",
    "\n",
    "#     print file_1\n",
    "#     print file_2\n",
    "    \n",
    "#     df = pd.DataFrame()\n",
    "#     df = concat_gc_df(file_1, file_2, (file1_rec + 200)) #Call concat function\n",
    "    \n",
    "# ###output is like....\n",
    "# ###out_PR_Z2_B_2000.csv\n",
    "\n"
   ]
  },
  {
   "cell_type": "code",
   "execution_count": 73,
   "metadata": {
    "collapsed": false
   },
   "outputs": [
    {
     "name": "stdout",
     "output_type": "stream",
     "text": [
      "(7907, 1)\n",
      "        0\n",
      "0  3038.0\n",
      "1     5.0\n",
      "        0\n",
      "7905  2.0\n",
      "7906  3.0\n"
     ]
    }
   ],
   "source": [
    "import pandas as pd\n",
    "df = pd.read_csv(\"./out_PR_Z2_B_8000.csv\")\n",
    "df = df.ix[:,[1]] #get rid of added axis when df.to_csv happened to df1 & df2\n",
    "\n",
    "print df.shape\n",
    "print df.head(2)\n",
    "print df.tail(2)"
   ]
  },
  {
   "cell_type": "code",
   "execution_count": 74,
   "metadata": {
    "collapsed": false
   },
   "outputs": [],
   "source": [
    "\n",
    "df_164_sub = df_164_sub.ix[:,1:] #get rid of added axis when df.to_csv happened to df1 & df2\n"
   ]
  },
  {
   "cell_type": "code",
   "execution_count": 75,
   "metadata": {
    "collapsed": false
   },
   "outputs": [
    {
     "data": {
      "text/html": [
       "<div>\n",
       "<table border=\"1\" class=\"dataframe\">\n",
       "  <thead>\n",
       "    <tr style=\"text-align: right;\">\n",
       "      <th></th>\n",
       "      <th>Organism</th>\n",
       "      <th>Kingdom</th>\n",
       "      <th>Group</th>\n",
       "      <th>SubGroup</th>\n",
       "      <th>Size</th>\n",
       "      <th>Chr</th>\n",
       "      <th>Organelles</th>\n",
       "      <th>Plasmids</th>\n",
       "      <th>Assemblies</th>\n",
       "      <th>url</th>\n",
       "    </tr>\n",
       "  </thead>\n",
       "  <tbody>\n",
       "    <tr>\n",
       "      <th>7905</th>\n",
       "      <td>West Nile virus</td>\n",
       "      <td>Viruses</td>\n",
       "      <td>ssRNA viruses</td>\n",
       "      <td>Flaviviridae</td>\n",
       "      <td>0.010962</td>\n",
       "      <td>1.0</td>\n",
       "      <td>-</td>\n",
       "      <td>-</td>\n",
       "      <td>2</td>\n",
       "      <td>/genome/10311</td>\n",
       "    </tr>\n",
       "    <tr>\n",
       "      <th>7906</th>\n",
       "      <td>Western equine encephalitis virus</td>\n",
       "      <td>Viruses</td>\n",
       "      <td>ssRNA viruses</td>\n",
       "      <td>Togaviridae</td>\n",
       "      <td>0.011484</td>\n",
       "      <td>1.0</td>\n",
       "      <td>-</td>\n",
       "      <td>-</td>\n",
       "      <td>1</td>\n",
       "      <td>/genome/5000</td>\n",
       "    </tr>\n",
       "  </tbody>\n",
       "</table>\n",
       "</div>"
      ],
      "text/plain": [
       "                               Organism  Kingdom          Group      SubGroup  \\\n",
       "7905                    West Nile virus  Viruses  ssRNA viruses  Flaviviridae   \n",
       "7906  Western equine encephalitis virus  Viruses  ssRNA viruses   Togaviridae   \n",
       "\n",
       "          Size  Chr Organelles Plasmids Assemblies            url  \n",
       "7905  0.010962  1.0          -        -          2  /genome/10311  \n",
       "7906  0.011484  1.0          -        -          1   /genome/5000  "
      ]
     },
     "execution_count": 75,
     "metadata": {},
     "output_type": "execute_result"
    }
   ],
   "source": [
    "df_164_sub.reset_index(drop=True, inplace=True) #Reset index\n",
    "df_164_sub.tail(2)"
   ]
  },
  {
   "cell_type": "code",
   "execution_count": 76,
   "metadata": {
    "collapsed": false
   },
   "outputs": [
    {
     "data": {
      "text/html": [
       "<div>\n",
       "<table border=\"1\" class=\"dataframe\">\n",
       "  <thead>\n",
       "    <tr style=\"text-align: right;\">\n",
       "      <th></th>\n",
       "      <th>RPR</th>\n",
       "    </tr>\n",
       "  </thead>\n",
       "  <tbody>\n",
       "    <tr>\n",
       "      <th>7905</th>\n",
       "      <td>2.0</td>\n",
       "    </tr>\n",
       "    <tr>\n",
       "      <th>7906</th>\n",
       "      <td>3.0</td>\n",
       "    </tr>\n",
       "  </tbody>\n",
       "</table>\n",
       "</div>"
      ],
      "text/plain": [
       "      RPR\n",
       "7905  2.0\n",
       "7906  3.0"
      ]
     },
     "execution_count": 76,
     "metadata": {},
     "output_type": "execute_result"
    }
   ],
   "source": [
    "df.columns = ['RPR']\n",
    "\n",
    "df.tail(2)"
   ]
  },
  {
   "cell_type": "code",
   "execution_count": 77,
   "metadata": {
    "collapsed": false
   },
   "outputs": [
    {
     "data": {
      "text/html": [
       "<div>\n",
       "<table border=\"1\" class=\"dataframe\">\n",
       "  <thead>\n",
       "    <tr style=\"text-align: right;\">\n",
       "      <th></th>\n",
       "      <th>Organism</th>\n",
       "      <th>Kingdom</th>\n",
       "      <th>Group</th>\n",
       "      <th>SubGroup</th>\n",
       "      <th>Size</th>\n",
       "      <th>Chr</th>\n",
       "      <th>Organelles</th>\n",
       "      <th>Plasmids</th>\n",
       "      <th>Assemblies</th>\n",
       "      <th>url</th>\n",
       "      <th>RPR</th>\n",
       "    </tr>\n",
       "  </thead>\n",
       "  <tbody>\n",
       "    <tr>\n",
       "      <th>7905</th>\n",
       "      <td>West Nile virus</td>\n",
       "      <td>Viruses</td>\n",
       "      <td>ssRNA viruses</td>\n",
       "      <td>Flaviviridae</td>\n",
       "      <td>0.010962</td>\n",
       "      <td>1.0</td>\n",
       "      <td>-</td>\n",
       "      <td>-</td>\n",
       "      <td>2</td>\n",
       "      <td>/genome/10311</td>\n",
       "      <td>2.0</td>\n",
       "    </tr>\n",
       "    <tr>\n",
       "      <th>7906</th>\n",
       "      <td>Western equine encephalitis virus</td>\n",
       "      <td>Viruses</td>\n",
       "      <td>ssRNA viruses</td>\n",
       "      <td>Togaviridae</td>\n",
       "      <td>0.011484</td>\n",
       "      <td>1.0</td>\n",
       "      <td>-</td>\n",
       "      <td>-</td>\n",
       "      <td>1</td>\n",
       "      <td>/genome/5000</td>\n",
       "      <td>3.0</td>\n",
       "    </tr>\n",
       "  </tbody>\n",
       "</table>\n",
       "</div>"
      ],
      "text/plain": [
       "                               Organism  Kingdom          Group      SubGroup  \\\n",
       "7905                    West Nile virus  Viruses  ssRNA viruses  Flaviviridae   \n",
       "7906  Western equine encephalitis virus  Viruses  ssRNA viruses   Togaviridae   \n",
       "\n",
       "          Size  Chr Organelles Plasmids Assemblies            url  RPR  \n",
       "7905  0.010962  1.0          -        -          2  /genome/10311  2.0  \n",
       "7906  0.011484  1.0          -        -          1   /genome/5000  3.0  "
      ]
     },
     "execution_count": 77,
     "metadata": {},
     "output_type": "execute_result"
    }
   ],
   "source": [
    "# merge back to original dataframe with deleted NaN's\n",
    "\n",
    "df_164_sub = pd.concat([df_164_sub, df], axis=1)\n",
    "df_164_sub.tail(2)"
   ]
  },
  {
   "cell_type": "code",
   "execution_count": 78,
   "metadata": {
    "collapsed": true
   },
   "outputs": [],
   "source": [
    "# Pickle out PROTEIN NCBI\n",
    "\n",
    "df_164_sub.to_csv(\"out_PR_ALL.csv\", sep='\\t') #, encoding='utf-8') \n",
    "df_164_sub.to_csv(\"out_PR_ALL_UTF.csv\", encoding='utf-8') "
   ]
  },
  {
   "cell_type": "code",
   "execution_count": 88,
   "metadata": {
    "collapsed": false
   },
   "outputs": [
    {
     "data": {
      "text/html": [
       "<div>\n",
       "<table border=\"1\" class=\"dataframe\">\n",
       "  <thead>\n",
       "    <tr style=\"text-align: right;\">\n",
       "      <th></th>\n",
       "      <th>Organism</th>\n",
       "      <th>Kingdom</th>\n",
       "      <th>Group</th>\n",
       "      <th>SubGroup</th>\n",
       "      <th>Size</th>\n",
       "      <th>Chr</th>\n",
       "      <th>Organelles</th>\n",
       "      <th>Plasmids</th>\n",
       "      <th>Assemblies</th>\n",
       "      <th>url</th>\n",
       "      <th>RPR</th>\n",
       "    </tr>\n",
       "  </thead>\n",
       "  <tbody>\n",
       "    <tr>\n",
       "      <th>7905</th>\n",
       "      <td>West Nile virus</td>\n",
       "      <td>Viruses</td>\n",
       "      <td>ssRNA viruses</td>\n",
       "      <td>Flaviviridae</td>\n",
       "      <td>0.010962</td>\n",
       "      <td>1.0</td>\n",
       "      <td>-</td>\n",
       "      <td>-</td>\n",
       "      <td>2</td>\n",
       "      <td>/genome/10311</td>\n",
       "      <td>2.0</td>\n",
       "    </tr>\n",
       "    <tr>\n",
       "      <th>7906</th>\n",
       "      <td>Western equine encephalitis virus</td>\n",
       "      <td>Viruses</td>\n",
       "      <td>ssRNA viruses</td>\n",
       "      <td>Togaviridae</td>\n",
       "      <td>0.011484</td>\n",
       "      <td>1.0</td>\n",
       "      <td>-</td>\n",
       "      <td>-</td>\n",
       "      <td>1</td>\n",
       "      <td>/genome/5000</td>\n",
       "      <td>3.0</td>\n",
       "    </tr>\n",
       "  </tbody>\n",
       "</table>\n",
       "</div>"
      ],
      "text/plain": [
       "                               Organism  Kingdom          Group      SubGroup  \\\n",
       "7905                    West Nile virus  Viruses  ssRNA viruses  Flaviviridae   \n",
       "7906  Western equine encephalitis virus  Viruses  ssRNA viruses   Togaviridae   \n",
       "\n",
       "          Size  Chr Organelles Plasmids  Assemblies            url  RPR  \n",
       "7905  0.010962  1.0          -        -           2  /genome/10311  2.0  \n",
       "7906  0.011484  1.0          -        -           1   /genome/5000  3.0  "
      ]
     },
     "execution_count": 88,
     "metadata": {},
     "output_type": "execute_result"
    }
   ],
   "source": [
    "df = pd.read_csv(\"out_PR_ALL.csv\", sep='\\t')\n",
    "df = df.ix[:,1:] \n",
    "df.tail(2)"
   ]
  },
  {
   "cell_type": "code",
   "execution_count": null,
   "metadata": {
    "collapsed": true
   },
   "outputs": [],
   "source": []
  }
 ],
 "metadata": {
  "kernelspec": {
   "display_name": "Python 2",
   "language": "python",
   "name": "python2"
  },
  "language_info": {
   "codemirror_mode": {
    "name": "ipython",
    "version": 2
   },
   "file_extension": ".py",
   "mimetype": "text/x-python",
   "name": "python",
   "nbconvert_exporter": "python",
   "pygments_lexer": "ipython2",
   "version": "2.7.11"
  }
 },
 "nbformat": 4,
 "nbformat_minor": 0
}
