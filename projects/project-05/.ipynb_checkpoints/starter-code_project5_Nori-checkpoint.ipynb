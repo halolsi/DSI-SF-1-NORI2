{
 "cells": [
  {
   "cell_type": "code",
   "execution_count": 98,
   "metadata": {
    "collapsed": false
   },
   "outputs": [],
   "source": [
    "import numpy as np\n",
    "import pandas as pd \n",
    "import matplotlib.pyplot as plt\n",
    "from patsy import dmatrices\n",
    "from sklearn.linear_model import LogisticRegression\n",
    "from sklearn.cross_validation import train_test_split, cross_val_score\n",
    "from sklearn import metrics\n",
    "\n",
    "%matplotlib inline"
   ]
  },
  {
   "cell_type": "markdown",
   "metadata": {},
   "source": [
    "## Pre-Task: Describe the goals of your study"
   ]
  },
  {
   "cell_type": "markdown",
   "metadata": {},
   "source": [
    "Study different modeling effects on precision and accuracy of predictor modeling on Titanic dataset"
   ]
  },
  {
   "cell_type": "markdown",
   "metadata": {},
   "source": [
    "  "
   ]
  },
  {
   "cell_type": "markdown",
   "metadata": {},
   "source": [
    "## Part 1: Aquire the Data"
   ]
  },
  {
   "cell_type": "markdown",
   "metadata": {},
   "source": [
    "#### 1. Connect to the remote database"
   ]
  },
  {
   "cell_type": "code",
   "execution_count": 99,
   "metadata": {
    "collapsed": false
   },
   "outputs": [
    {
     "data": {
      "text/html": [
       "<div>\n",
       "<table border=\"1\" class=\"dataframe\">\n",
       "  <thead>\n",
       "    <tr style=\"text-align: right;\">\n",
       "      <th></th>\n",
       "      <th>schemaname</th>\n",
       "      <th>tablename</th>\n",
       "      <th>tableowner</th>\n",
       "      <th>tablespace</th>\n",
       "      <th>hasindexes</th>\n",
       "      <th>hasrules</th>\n",
       "      <th>hastriggers</th>\n",
       "    </tr>\n",
       "  </thead>\n",
       "  <tbody>\n",
       "    <tr>\n",
       "      <th>0</th>\n",
       "      <td>public</td>\n",
       "      <td>train</td>\n",
       "      <td>dsi</td>\n",
       "      <td>None</td>\n",
       "      <td>True</td>\n",
       "      <td>False</td>\n",
       "      <td>False</td>\n",
       "    </tr>\n",
       "    <tr>\n",
       "      <th>1</th>\n",
       "      <td>public</td>\n",
       "      <td>table1</td>\n",
       "      <td>dsi_student</td>\n",
       "      <td>None</td>\n",
       "      <td>True</td>\n",
       "      <td>False</td>\n",
       "      <td>False</td>\n",
       "    </tr>\n",
       "  </tbody>\n",
       "</table>\n",
       "</div>"
      ],
      "text/plain": [
       "  schemaname tablename   tableowner tablespace hasindexes hasrules hastriggers\n",
       "0     public     train          dsi       None       True    False       False\n",
       "1     public    table1  dsi_student       None       True    False       False"
      ]
     },
     "execution_count": 99,
     "metadata": {},
     "output_type": "execute_result"
    }
   ],
   "source": [
    "\n",
    "\n",
    "from sqlalchemy import create_engine\n",
    "import pandas as pd\n",
    "engine = create_engine('YOU KNOW WHERE')\n",
    "\n",
    "\n",
    "pd.read_sql(\"SELECT * FROM pg_catalog.pg_tables WHERE schemaname='public'\", con=engine)"
   ]
  },
  {
   "cell_type": "markdown",
   "metadata": {},
   "source": [
    "#### 2. Query the database and aggregate the data"
   ]
  },
  {
   "cell_type": "code",
   "execution_count": 100,
   "metadata": {
    "collapsed": false
   },
   "outputs": [],
   "source": [
    "df = pd.read_sql(\"SELECT * FROM train\", con=engine)"
   ]
  },
  {
   "cell_type": "code",
   "execution_count": 101,
   "metadata": {
    "collapsed": false
   },
   "outputs": [
    {
     "data": {
      "text/html": [
       "<div>\n",
       "<table border=\"1\" class=\"dataframe\">\n",
       "  <thead>\n",
       "    <tr style=\"text-align: right;\">\n",
       "      <th></th>\n",
       "      <th>index</th>\n",
       "      <th>PassengerId</th>\n",
       "      <th>Survived</th>\n",
       "      <th>Pclass</th>\n",
       "      <th>Name</th>\n",
       "      <th>Sex</th>\n",
       "      <th>Age</th>\n",
       "      <th>SibSp</th>\n",
       "      <th>Parch</th>\n",
       "      <th>Ticket</th>\n",
       "      <th>Fare</th>\n",
       "      <th>Cabin</th>\n",
       "      <th>Embarked</th>\n",
       "    </tr>\n",
       "  </thead>\n",
       "  <tbody>\n",
       "    <tr>\n",
       "      <th>0</th>\n",
       "      <td>0</td>\n",
       "      <td>1</td>\n",
       "      <td>0</td>\n",
       "      <td>3</td>\n",
       "      <td>Braund, Mr. Owen Harris</td>\n",
       "      <td>male</td>\n",
       "      <td>22.0</td>\n",
       "      <td>1</td>\n",
       "      <td>0</td>\n",
       "      <td>A/5 21171</td>\n",
       "      <td>7.2500</td>\n",
       "      <td>None</td>\n",
       "      <td>S</td>\n",
       "    </tr>\n",
       "    <tr>\n",
       "      <th>1</th>\n",
       "      <td>1</td>\n",
       "      <td>2</td>\n",
       "      <td>1</td>\n",
       "      <td>1</td>\n",
       "      <td>Cumings, Mrs. John Bradley (Florence Briggs Th...</td>\n",
       "      <td>female</td>\n",
       "      <td>38.0</td>\n",
       "      <td>1</td>\n",
       "      <td>0</td>\n",
       "      <td>PC 17599</td>\n",
       "      <td>71.2833</td>\n",
       "      <td>C85</td>\n",
       "      <td>C</td>\n",
       "    </tr>\n",
       "  </tbody>\n",
       "</table>\n",
       "</div>"
      ],
      "text/plain": [
       "   index  PassengerId  Survived  Pclass  \\\n",
       "0      0            1         0       3   \n",
       "1      1            2         1       1   \n",
       "\n",
       "                                                Name     Sex   Age  SibSp  \\\n",
       "0                            Braund, Mr. Owen Harris    male  22.0      1   \n",
       "1  Cumings, Mrs. John Bradley (Florence Briggs Th...  female  38.0      1   \n",
       "\n",
       "   Parch     Ticket     Fare Cabin Embarked  \n",
       "0      0  A/5 21171   7.2500  None        S  \n",
       "1      0   PC 17599  71.2833   C85        C  "
      ]
     },
     "execution_count": 101,
     "metadata": {},
     "output_type": "execute_result"
    }
   ],
   "source": [
    "df.head(2)"
   ]
  },
  {
   "cell_type": "code",
   "execution_count": 102,
   "metadata": {
    "collapsed": false
   },
   "outputs": [
    {
     "data": {
      "text/html": [
       "<div>\n",
       "<table border=\"1\" class=\"dataframe\">\n",
       "  <thead>\n",
       "    <tr style=\"text-align: right;\">\n",
       "      <th></th>\n",
       "      <th>index</th>\n",
       "      <th>PassengerId</th>\n",
       "      <th>Name</th>\n",
       "      <th>Ticket</th>\n",
       "      <th>Age</th>\n",
       "      <th>Fare</th>\n",
       "      <th>Cabin</th>\n",
       "      <th>SibSp</th>\n",
       "      <th>Parch</th>\n",
       "      <th>Embarked</th>\n",
       "      <th>Pclass</th>\n",
       "      <th>Survived</th>\n",
       "      <th>Sex</th>\n",
       "    </tr>\n",
       "  </thead>\n",
       "  <tbody>\n",
       "    <tr>\n",
       "      <th>unique_s</th>\n",
       "      <td>891</td>\n",
       "      <td>891</td>\n",
       "      <td>891</td>\n",
       "      <td>681</td>\n",
       "      <td>265</td>\n",
       "      <td>248</td>\n",
       "      <td>148</td>\n",
       "      <td>7</td>\n",
       "      <td>7</td>\n",
       "      <td>4</td>\n",
       "      <td>3</td>\n",
       "      <td>2</td>\n",
       "      <td>2</td>\n",
       "    </tr>\n",
       "  </tbody>\n",
       "</table>\n",
       "</div>"
      ],
      "text/plain": [
       "          index  PassengerId  Name  Ticket  Age  Fare  Cabin  SibSp  Parch  \\\n",
       "unique_s    891          891   891     681  265   248    148      7      7   \n",
       "\n",
       "          Embarked  Pclass  Survived  Sex  \n",
       "unique_s         4       3         2    2  "
      ]
     },
     "execution_count": 102,
     "metadata": {},
     "output_type": "execute_result"
    }
   ],
   "source": [
    "def def_count_unique(df):\n",
    "    cols = pd.Series(df.columns.values) #Series of column headers\n",
    "    \n",
    "    y = []\n",
    "    for x in df:\n",
    "        z = len(np.unique(df[x]))\n",
    "        y.append(z)\n",
    "                    \n",
    "    q = pd.DataFrame(y, index = df.columns.values, columns=[\"unique_s\"])\n",
    "    r = q.sort_values(\"unique_s\", ascending=False)\n",
    "    return r.T\n",
    "\n",
    "b = def_count_unique(df)\n",
    "\n",
    "b.head(1)"
   ]
  },
  {
   "cell_type": "markdown",
   "metadata": {},
   "source": [
    "#### 5. What are the risks and assumptions of our data? "
   ]
  },
  {
   "cell_type": "code",
   "execution_count": 103,
   "metadata": {
    "collapsed": false
   },
   "outputs": [
    {
     "data": {
      "text/plain": [
       "index           integer\n",
       "PassengerId     integer\n",
       "Survived        integer\n",
       "Pclass          integer\n",
       "Name            unicode\n",
       "Sex             unicode\n",
       "Age            floating\n",
       "SibSp           integer\n",
       "Parch           integer\n",
       "Ticket          unicode\n",
       "Fare           floating\n",
       "Cabin             mixed\n",
       "Embarked          mixed\n",
       "dtype: object"
      ]
     },
     "execution_count": 103,
     "metadata": {},
     "output_type": "execute_result"
    }
   ],
   "source": [
    "sutypes = df.apply(lambda x: pd.lib.infer_dtype(x.values))\n",
    "\n",
    "sutypes"
   ]
  },
  {
   "cell_type": "markdown",
   "metadata": {},
   "source": [
    "#### 1. Describe the Data"
   ]
  },
  {
   "cell_type": "code",
   "execution_count": 104,
   "metadata": {
    "collapsed": false
   },
   "outputs": [
    {
     "data": {
      "text/html": [
       "<div>\n",
       "<table border=\"1\" class=\"dataframe\">\n",
       "  <thead>\n",
       "    <tr style=\"text-align: right;\">\n",
       "      <th></th>\n",
       "      <th>unique_count</th>\n",
       "      <th>example</th>\n",
       "      <th>types</th>\n",
       "    </tr>\n",
       "  </thead>\n",
       "  <tbody>\n",
       "    <tr>\n",
       "      <th>index</th>\n",
       "      <td>891.0</td>\n",
       "      <td>0</td>\n",
       "      <td>integer</td>\n",
       "    </tr>\n",
       "    <tr>\n",
       "      <th>PassengerId</th>\n",
       "      <td>891.0</td>\n",
       "      <td>1</td>\n",
       "      <td>integer</td>\n",
       "    </tr>\n",
       "    <tr>\n",
       "      <th>Name</th>\n",
       "      <td>891.0</td>\n",
       "      <td>Braund, Mr. Owen Harris</td>\n",
       "      <td>unicode</td>\n",
       "    </tr>\n",
       "    <tr>\n",
       "      <th>Ticket</th>\n",
       "      <td>681.0</td>\n",
       "      <td>A/5 21171</td>\n",
       "      <td>unicode</td>\n",
       "    </tr>\n",
       "    <tr>\n",
       "      <th>Age</th>\n",
       "      <td>265.0</td>\n",
       "      <td>22</td>\n",
       "      <td>floating</td>\n",
       "    </tr>\n",
       "    <tr>\n",
       "      <th>Fare</th>\n",
       "      <td>248.0</td>\n",
       "      <td>7.25</td>\n",
       "      <td>floating</td>\n",
       "    </tr>\n",
       "    <tr>\n",
       "      <th>Cabin</th>\n",
       "      <td>148.0</td>\n",
       "      <td>None</td>\n",
       "      <td>mixed</td>\n",
       "    </tr>\n",
       "    <tr>\n",
       "      <th>SibSp</th>\n",
       "      <td>7.0</td>\n",
       "      <td>1</td>\n",
       "      <td>integer</td>\n",
       "    </tr>\n",
       "    <tr>\n",
       "      <th>Parch</th>\n",
       "      <td>7.0</td>\n",
       "      <td>0</td>\n",
       "      <td>integer</td>\n",
       "    </tr>\n",
       "    <tr>\n",
       "      <th>Embarked</th>\n",
       "      <td>4.0</td>\n",
       "      <td>S</td>\n",
       "      <td>mixed</td>\n",
       "    </tr>\n",
       "    <tr>\n",
       "      <th>Pclass</th>\n",
       "      <td>3.0</td>\n",
       "      <td>3</td>\n",
       "      <td>integer</td>\n",
       "    </tr>\n",
       "    <tr>\n",
       "      <th>Survived</th>\n",
       "      <td>2.0</td>\n",
       "      <td>0</td>\n",
       "      <td>integer</td>\n",
       "    </tr>\n",
       "    <tr>\n",
       "      <th>Sex</th>\n",
       "      <td>2.0</td>\n",
       "      <td>male</td>\n",
       "      <td>unicode</td>\n",
       "    </tr>\n",
       "  </tbody>\n",
       "</table>\n",
       "</div>"
      ],
      "text/plain": [
       "             unique_count                  example     types\n",
       "index               891.0                        0   integer\n",
       "PassengerId         891.0                        1   integer\n",
       "Name                891.0  Braund, Mr. Owen Harris   unicode\n",
       "Ticket              681.0                A/5 21171   unicode\n",
       "Age                 265.0                       22  floating\n",
       "Fare                248.0                     7.25  floating\n",
       "Cabin               148.0                     None     mixed\n",
       "SibSp                 7.0                        1   integer\n",
       "Parch                 7.0                        0   integer\n",
       "Embarked              4.0                        S     mixed\n",
       "Pclass                3.0                        3   integer\n",
       "Survived              2.0                        0   integer\n",
       "Sex                   2.0                     male   unicode"
      ]
     },
     "execution_count": 104,
     "metadata": {},
     "output_type": "execute_result"
    }
   ],
   "source": [
    "col_a = \"unique_count\"\n",
    "col_b = \"example\"\n",
    "col_c = \"types\"\n",
    "\n",
    "dataDict = pd.DataFrame()\n",
    "\n",
    "for i,x in enumerate(b): #unique counts dataframe\n",
    "    dataDict.ix[x, col_a] = b.ix[0,x] #counts\n",
    "    dataDict.ix[x, col_b] = df.ix[0,x] #original\n",
    "    dataDict.ix[x, col_c] = sutypes.ix[x,0]\n",
    "    #print x\n",
    "dataDict"
   ]
  },
  {
   "cell_type": "code",
   "execution_count": 105,
   "metadata": {
    "collapsed": false
   },
   "outputs": [
    {
     "name": "stdout",
     "output_type": "stream",
     "text": [
      "index            0\n",
      "PassengerId      0\n",
      "Survived         0\n",
      "Pclass           0\n",
      "Name             0\n",
      "Sex              0\n",
      "Age            177\n",
      "SibSp            0\n",
      "Parch            0\n",
      "Ticket           0\n",
      "Fare             0\n",
      "Cabin          687\n",
      "Embarked         2\n",
      "dtype: int64\n",
      "(891, 13)\n"
     ]
    }
   ],
   "source": [
    "# NULLS ??? \n",
    "print df.isnull().sum() #YES THERE ARE...\n",
    "print df.shape"
   ]
  },
  {
   "cell_type": "markdown",
   "metadata": {},
   "source": [
    "## Part 2: Exploratory Data Analysis"
   ]
  },
  {
   "cell_type": "code",
   "execution_count": 106,
   "metadata": {
    "collapsed": false
   },
   "outputs": [
    {
     "name": "stdout",
     "output_type": "stream",
     "text": [
      "C23 C25 C27        4\n",
      "G6                 4\n",
      "B96 B98            4\n",
      "D                  3\n",
      "C22 C26            3\n",
      "E101               3\n",
      "F2                 3\n",
      "F33                3\n",
      "B57 B59 B63 B66    2\n",
      "C68                2\n",
      "B58 B60            2\n",
      "E121               2\n",
      "D20                2\n",
      "E8                 2\n",
      "E44                2\n",
      "B77                2\n",
      "C65                2\n",
      "D26                2\n",
      "E24                2\n",
      "E25                2\n",
      "B20                2\n",
      "C93                2\n",
      "D33                2\n",
      "E67                2\n",
      "D35                2\n",
      "D36                2\n",
      "C52                2\n",
      "F4                 2\n",
      "C125               2\n",
      "C124               2\n",
      "                  ..\n",
      "F G63              1\n",
      "A6                 1\n",
      "D45                1\n",
      "D6                 1\n",
      "D56                1\n",
      "C101               1\n",
      "C54                1\n",
      "D28                1\n",
      "D37                1\n",
      "B102               1\n",
      "D30                1\n",
      "E17                1\n",
      "E58                1\n",
      "F E69              1\n",
      "D10 D12            1\n",
      "E50                1\n",
      "A14                1\n",
      "C91                1\n",
      "A16                1\n",
      "B38                1\n",
      "B39                1\n",
      "C95                1\n",
      "B78                1\n",
      "B79                1\n",
      "C99                1\n",
      "B37                1\n",
      "A19                1\n",
      "E12                1\n",
      "A7                 1\n",
      "D15                1\n",
      "Name: Cabin, dtype: int64\n"
     ]
    }
   ],
   "source": [
    "print df['Cabin'].value_counts() #Looks like some lists"
   ]
  },
  {
   "cell_type": "code",
   "execution_count": 107,
   "metadata": {
    "collapsed": false
   },
   "outputs": [
    {
     "name": "stdout",
     "output_type": "stream",
     "text": [
      "S    644\n",
      "C    168\n",
      "Q     77\n",
      "Name: Embarked, dtype: int64\n"
     ]
    }
   ],
   "source": [
    "print df['Embarked'].value_counts() "
   ]
  },
  {
   "cell_type": "code",
   "execution_count": 108,
   "metadata": {
    "collapsed": false
   },
   "outputs": [
    {
     "name": "stdout",
     "output_type": "stream",
     "text": [
      "0    678\n",
      "1    118\n",
      "2     80\n",
      "5      5\n",
      "3      5\n",
      "4      4\n",
      "6      1\n",
      "Name: Parch, dtype: int64\n"
     ]
    }
   ],
   "source": [
    "print df['Parch'].value_counts() "
   ]
  },
  {
   "cell_type": "markdown",
   "metadata": {},
   "source": [
    "    "
   ]
  },
  {
   "cell_type": "markdown",
   "metadata": {},
   "source": [
    "#### 2. Visualize the Data"
   ]
  },
  {
   "cell_type": "code",
   "execution_count": 109,
   "metadata": {
    "collapsed": false
   },
   "outputs": [
    {
     "name": "stdout",
     "output_type": "stream",
     "text": [
      "     687\n",
      "C     59\n",
      "B     47\n",
      "D     33\n",
      "E     32\n",
      "A     15\n",
      "F     13\n",
      "G      4\n",
      "T      1\n",
      "Name: Cabin_L, dtype: int64\n"
     ]
    }
   ],
   "source": [
    "df['Cabin_L']=df['Cabin'].map(lambda x: x[0] if x else \"\")  #Looks like some lists, Just take first letter value\n",
    "print df['Cabin_L'].value_counts()"
   ]
  },
  {
   "cell_type": "markdown",
   "metadata": {},
   "source": [
    "## Part 3: Data Wrangling"
   ]
  },
  {
   "cell_type": "markdown",
   "metadata": {},
   "source": [
    "#### 1. Create Dummy Variables for *Sex* "
   ]
  },
  {
   "cell_type": "code",
   "execution_count": 110,
   "metadata": {
    "collapsed": false
   },
   "outputs": [
    {
     "name": "stdout",
     "output_type": "stream",
     "text": [
      "male      577\n",
      "female    314\n",
      "Name: Sex, dtype: int64\n"
     ]
    },
    {
     "data": {
      "text/html": [
       "<div>\n",
       "<table border=\"1\" class=\"dataframe\">\n",
       "  <thead>\n",
       "    <tr style=\"text-align: right;\">\n",
       "      <th></th>\n",
       "      <th>index</th>\n",
       "      <th>PassengerId</th>\n",
       "      <th>Survived</th>\n",
       "      <th>Pclass</th>\n",
       "      <th>Name</th>\n",
       "      <th>Sex</th>\n",
       "      <th>Age</th>\n",
       "      <th>SibSp</th>\n",
       "      <th>Parch</th>\n",
       "      <th>Ticket</th>\n",
       "      <th>Fare</th>\n",
       "      <th>Cabin</th>\n",
       "      <th>Embarked</th>\n",
       "      <th>Cabin_L</th>\n",
       "    </tr>\n",
       "  </thead>\n",
       "  <tbody>\n",
       "    <tr>\n",
       "      <th>0</th>\n",
       "      <td>0</td>\n",
       "      <td>1</td>\n",
       "      <td>0</td>\n",
       "      <td>3</td>\n",
       "      <td>Braund, Mr. Owen Harris</td>\n",
       "      <td>0</td>\n",
       "      <td>22.0</td>\n",
       "      <td>1</td>\n",
       "      <td>0</td>\n",
       "      <td>A/5 21171</td>\n",
       "      <td>7.2500</td>\n",
       "      <td>None</td>\n",
       "      <td>S</td>\n",
       "      <td></td>\n",
       "    </tr>\n",
       "    <tr>\n",
       "      <th>1</th>\n",
       "      <td>1</td>\n",
       "      <td>2</td>\n",
       "      <td>1</td>\n",
       "      <td>1</td>\n",
       "      <td>Cumings, Mrs. John Bradley (Florence Briggs Th...</td>\n",
       "      <td>1</td>\n",
       "      <td>38.0</td>\n",
       "      <td>1</td>\n",
       "      <td>0</td>\n",
       "      <td>PC 17599</td>\n",
       "      <td>71.2833</td>\n",
       "      <td>C85</td>\n",
       "      <td>C</td>\n",
       "      <td>C</td>\n",
       "    </tr>\n",
       "    <tr>\n",
       "      <th>2</th>\n",
       "      <td>2</td>\n",
       "      <td>3</td>\n",
       "      <td>1</td>\n",
       "      <td>3</td>\n",
       "      <td>Heikkinen, Miss. Laina</td>\n",
       "      <td>1</td>\n",
       "      <td>26.0</td>\n",
       "      <td>0</td>\n",
       "      <td>0</td>\n",
       "      <td>STON/O2. 3101282</td>\n",
       "      <td>7.9250</td>\n",
       "      <td>None</td>\n",
       "      <td>S</td>\n",
       "      <td></td>\n",
       "    </tr>\n",
       "    <tr>\n",
       "      <th>3</th>\n",
       "      <td>3</td>\n",
       "      <td>4</td>\n",
       "      <td>1</td>\n",
       "      <td>1</td>\n",
       "      <td>Futrelle, Mrs. Jacques Heath (Lily May Peel)</td>\n",
       "      <td>1</td>\n",
       "      <td>35.0</td>\n",
       "      <td>1</td>\n",
       "      <td>0</td>\n",
       "      <td>113803</td>\n",
       "      <td>53.1000</td>\n",
       "      <td>C123</td>\n",
       "      <td>S</td>\n",
       "      <td>C</td>\n",
       "    </tr>\n",
       "    <tr>\n",
       "      <th>4</th>\n",
       "      <td>4</td>\n",
       "      <td>5</td>\n",
       "      <td>0</td>\n",
       "      <td>3</td>\n",
       "      <td>Allen, Mr. William Henry</td>\n",
       "      <td>0</td>\n",
       "      <td>35.0</td>\n",
       "      <td>0</td>\n",
       "      <td>0</td>\n",
       "      <td>373450</td>\n",
       "      <td>8.0500</td>\n",
       "      <td>None</td>\n",
       "      <td>S</td>\n",
       "      <td></td>\n",
       "    </tr>\n",
       "  </tbody>\n",
       "</table>\n",
       "</div>"
      ],
      "text/plain": [
       "   index  PassengerId  Survived  Pclass  \\\n",
       "0      0            1         0       3   \n",
       "1      1            2         1       1   \n",
       "2      2            3         1       3   \n",
       "3      3            4         1       1   \n",
       "4      4            5         0       3   \n",
       "\n",
       "                                                Name  Sex   Age  SibSp  Parch  \\\n",
       "0                            Braund, Mr. Owen Harris    0  22.0      1      0   \n",
       "1  Cumings, Mrs. John Bradley (Florence Briggs Th...    1  38.0      1      0   \n",
       "2                             Heikkinen, Miss. Laina    1  26.0      0      0   \n",
       "3       Futrelle, Mrs. Jacques Heath (Lily May Peel)    1  35.0      1      0   \n",
       "4                           Allen, Mr. William Henry    0  35.0      0      0   \n",
       "\n",
       "             Ticket     Fare Cabin Embarked Cabin_L  \n",
       "0         A/5 21171   7.2500  None        S          \n",
       "1          PC 17599  71.2833   C85        C       C  \n",
       "2  STON/O2. 3101282   7.9250  None        S          \n",
       "3            113803  53.1000  C123        S       C  \n",
       "4            373450   8.0500  None        S          "
      ]
     },
     "execution_count": 110,
     "metadata": {},
     "output_type": "execute_result"
    }
   ],
   "source": [
    "df2 = pd.DataFrame()\n",
    "df2 = df\n",
    "\n",
    "print df2['Sex'].value_counts() \n",
    "\n",
    "df2['Sex'] = df2['Sex'].map(lambda x: 0 if x == \"male\" else 1) #0 is male, 1 is female\n",
    "df2.head(5)"
   ]
  },
  {
   "cell_type": "code",
   "execution_count": 111,
   "metadata": {
    "collapsed": false
   },
   "outputs": [
    {
     "data": {
      "text/html": [
       "<div>\n",
       "<table border=\"1\" class=\"dataframe\">\n",
       "  <thead>\n",
       "    <tr style=\"text-align: right;\">\n",
       "      <th></th>\n",
       "      <th>Survived</th>\n",
       "      <th>Pclass</th>\n",
       "      <th>Sex</th>\n",
       "      <th>Age</th>\n",
       "      <th>SibSp</th>\n",
       "      <th>Parch</th>\n",
       "      <th>Fare</th>\n",
       "      <th>Embarked</th>\n",
       "    </tr>\n",
       "  </thead>\n",
       "  <tbody>\n",
       "    <tr>\n",
       "      <th>0</th>\n",
       "      <td>0</td>\n",
       "      <td>3</td>\n",
       "      <td>0</td>\n",
       "      <td>22.0</td>\n",
       "      <td>1</td>\n",
       "      <td>0</td>\n",
       "      <td>7.2500</td>\n",
       "      <td>S</td>\n",
       "    </tr>\n",
       "    <tr>\n",
       "      <th>1</th>\n",
       "      <td>1</td>\n",
       "      <td>1</td>\n",
       "      <td>1</td>\n",
       "      <td>38.0</td>\n",
       "      <td>1</td>\n",
       "      <td>0</td>\n",
       "      <td>71.2833</td>\n",
       "      <td>C</td>\n",
       "    </tr>\n",
       "    <tr>\n",
       "      <th>2</th>\n",
       "      <td>1</td>\n",
       "      <td>3</td>\n",
       "      <td>1</td>\n",
       "      <td>26.0</td>\n",
       "      <td>0</td>\n",
       "      <td>0</td>\n",
       "      <td>7.9250</td>\n",
       "      <td>S</td>\n",
       "    </tr>\n",
       "    <tr>\n",
       "      <th>3</th>\n",
       "      <td>1</td>\n",
       "      <td>1</td>\n",
       "      <td>1</td>\n",
       "      <td>35.0</td>\n",
       "      <td>1</td>\n",
       "      <td>0</td>\n",
       "      <td>53.1000</td>\n",
       "      <td>S</td>\n",
       "    </tr>\n",
       "    <tr>\n",
       "      <th>4</th>\n",
       "      <td>0</td>\n",
       "      <td>3</td>\n",
       "      <td>0</td>\n",
       "      <td>35.0</td>\n",
       "      <td>0</td>\n",
       "      <td>0</td>\n",
       "      <td>8.0500</td>\n",
       "      <td>S</td>\n",
       "    </tr>\n",
       "  </tbody>\n",
       "</table>\n",
       "</div>"
      ],
      "text/plain": [
       "   Survived  Pclass  Sex   Age  SibSp  Parch     Fare Embarked\n",
       "0         0       3    0  22.0      1      0   7.2500        S\n",
       "1         1       1    1  38.0      1      0  71.2833        C\n",
       "2         1       3    1  26.0      0      0   7.9250        S\n",
       "3         1       1    1  35.0      1      0  53.1000        S\n",
       "4         0       3    0  35.0      0      0   8.0500        S"
      ]
     },
     "execution_count": 111,
     "metadata": {},
     "output_type": "execute_result"
    }
   ],
   "source": [
    "columns = [\"Survived\", \"Pclass\", \"Sex\", \"Age\", \"SibSp\", \"Parch\", \"Fare\", \"Embarked\"] #Cabin take out for now\n",
    "df3 =pd.DataFrame()\n",
    "df3 = df.loc[:, columns] \n",
    "df3.head(5)"
   ]
  },
  {
   "cell_type": "markdown",
   "metadata": {},
   "source": [
    "## Part 4: Logistic Regression and Model Validation"
   ]
  },
  {
   "cell_type": "markdown",
   "metadata": {},
   "source": [
    "#### 1. Define the variables that we will use in our classification analysis"
   ]
  },
  {
   "cell_type": "code",
   "execution_count": 112,
   "metadata": {
    "collapsed": false
   },
   "outputs": [],
   "source": [
    "Y = df3[\"Survived\"] #target\n",
    "Xcolumns = [\"Pclass\", \"Sex\", \"Age\", \"SibSp\", \"Parch\", \"Fare\", \"Embarked\"] #predictors\n",
    "X = df.loc[:, Xcolumns]\n",
    "\n",
    "#Patsy\n",
    "# Use some string adding and joining to make the simple model formula:\n",
    "formula_c = 'Survived ~ Pclass + Sex + Age + SibSp + Parch + Fare + C(Embarked) - 1'\n",
    "formula_c = str(formula_c)\n"
   ]
  },
  {
   "cell_type": "code",
   "execution_count": 113,
   "metadata": {
    "collapsed": false
   },
   "outputs": [
    {
     "data": {
      "text/plain": [
       "0    0.616162\n",
       "1    0.383838\n",
       "Name: Survived, dtype: float64"
      ]
     },
     "execution_count": 113,
     "metadata": {},
     "output_type": "execute_result"
    }
   ],
   "source": [
    "#Baaseline Prediction\n",
    "\n",
    "#baseline => 51% vs 59% from model above\n",
    "baseline = Y.value_counts() / len(Y)\n",
    "baseline"
   ]
  },
  {
   "cell_type": "markdown",
   "metadata": {},
   "source": [
    "#### 2. Transform \"Y\" into a 1-Dimensional Array for SciKit-Learn"
   ]
  },
  {
   "cell_type": "code",
   "execution_count": 114,
   "metadata": {
    "collapsed": false
   },
   "outputs": [],
   "source": [
    "from patsy import dmatrices\n",
    "\n",
    "Yb, Xb = dmatrices(formula_c, data = df3, return_type='dataframe')\n",
    "\n",
    "from sklearn.linear_model import LogisticRegression\n",
    "from sklearn.metrics import accuracy_score\n",
    "\n"
   ]
  },
  {
   "cell_type": "code",
   "execution_count": 115,
   "metadata": {
    "collapsed": true
   },
   "outputs": [],
   "source": [
    "###NORMALIZE THE PREDICTOR VARIABLES!\n",
    "\n",
    "Xb_mat = ((Xb - Xb.mean())/ Xb.std()).values"
   ]
  },
  {
   "cell_type": "markdown",
   "metadata": {},
   "source": [
    "#### 3. Conduct the logistic regression"
   ]
  },
  {
   "cell_type": "code",
   "execution_count": 116,
   "metadata": {
    "collapsed": false
   },
   "outputs": [
    {
     "name": "stdout",
     "output_type": "stream",
     "text": [
      "LogisticRegression(C=1.0, class_weight=None, dual=False, fit_intercept=True,\n",
      "          intercept_scaling=1, max_iter=100, multi_class='ovr', n_jobs=1,\n",
      "          penalty='l2', random_state=None, solver='liblinear', tol=0.0001,\n",
      "          verbose=0, warm_start=False)\n",
      "Score: 0.800561797753\n",
      "0.800561797753\n"
     ]
    },
    {
     "name": "stderr",
     "output_type": "stream",
     "text": [
      "/Users/noriogura/anaconda/lib/python2.7/site-packages/sklearn/utils/validation.py:515: DataConversionWarning: A column-vector y was passed when a 1d array was expected. Please change the shape of y to (n_samples, ), for example using ravel().\n",
      "  y = column_or_1d(y, warn=True)\n"
     ]
    }
   ],
   "source": [
    "logreg = LogisticRegression()\n",
    "\n",
    "\n",
    "#fit a model on the training data and test on the testing data\n",
    "model = logreg.fit(Xb_mat, Yb)\n",
    "print model\n",
    "predictions = logreg.predict(Xb_mat)\n",
    "\n",
    "print \"Score:\", model.score(Xb_mat, Yb)     \n",
    "print accuracy_score(Yb, predictions)\n",
    "\n",
    "# 79% is better than 38% baseline\n"
   ]
  },
  {
   "cell_type": "markdown",
   "metadata": {},
   "source": [
    "#### 4. Examine the coefficients to see our correlations"
   ]
  },
  {
   "cell_type": "code",
   "execution_count": 117,
   "metadata": {
    "collapsed": false
   },
   "outputs": [
    {
     "name": "stdout",
     "output_type": "stream",
     "text": [
      "       coef         feature\n",
      "0  0.107944  C(Embarked)[C]\n",
      "1 -0.104133  C(Embarked)[Q]\n",
      "2 -0.051648  C(Embarked)[S]\n",
      "3 -0.977006          Pclass\n",
      "4  1.251195             Sex\n",
      "5 -0.609438             Age\n",
      "6 -0.327992           SibSp\n",
      "7 -0.050781           Parch\n",
      "8  0.083509            Fare\n"
     ]
    }
   ],
   "source": [
    "t = logreg.coef_\n",
    "tt = t.reshape(-1)\n",
    "\n",
    "house_coefs = pd.DataFrame({'feature': Xb.columns, \"coef\": tt})\n",
    "\n",
    "print house_coefs #Strong Pos Correlation to Sex, and Strong Neg Correlation to Age"
   ]
  },
  {
   "cell_type": "markdown",
   "metadata": {},
   "source": [
    "#### 6. Test the Model by introducing a *Test* or *Validaton* set "
   ]
  },
  {
   "cell_type": "code",
   "execution_count": 118,
   "metadata": {
    "collapsed": false
   },
   "outputs": [
    {
     "name": "stdout",
     "output_type": "stream",
     "text": [
      "LogisticRegressionCV(Cs=10, class_weight=None, cv=5, dual=False,\n",
      "           fit_intercept=True, intercept_scaling=1.0, max_iter=100,\n",
      "           multi_class='ovr', n_jobs=1, penalty='l2', random_state=None,\n",
      "           refit=True, scoring='average_precision', solver='liblinear',\n",
      "           tol=0.0001, verbose=0)\n",
      "Score: 0.800561797753\n",
      "0.800561797753\n"
     ]
    },
    {
     "name": "stderr",
     "output_type": "stream",
     "text": [
      "/Users/noriogura/anaconda/lib/python2.7/site-packages/sklearn/utils/validation.py:515: DataConversionWarning: A column-vector y was passed when a 1d array was expected. Please change the shape of y to (n_samples, ), for example using ravel().\n",
      "  y = column_or_1d(y, warn=True)\n"
     ]
    }
   ],
   "source": [
    "from sklearn.linear_model import LogisticRegressionCV\n",
    "\n",
    "logcv = LogisticRegressionCV(solver='liblinear', refit=True, penalty='l2', cv=5, scoring='average_precision') \n",
    "#fit a model on the training data and test on the testing data\n",
    "model = logcv.fit(Xb_mat, Yb)\n",
    "print model\n",
    "predictions = logcv.predict(Xb_mat)\n",
    "\n",
    "print \"Score:\", model.score(Xb_mat, Yb)     \n",
    "print accuracy_score(Yb, predictions)\n",
    "\n",
    "# 80% is better than 79.9% not cross-validated model\n"
   ]
  },
  {
   "cell_type": "code",
   "execution_count": 119,
   "metadata": {
    "collapsed": false
   },
   "outputs": [
    {
     "name": "stdout",
     "output_type": "stream",
     "text": [
      "LogisticRegression(C=1.0, class_weight=None, dual=False, fit_intercept=True,\n",
      "          intercept_scaling=1, max_iter=100, multi_class='ovr', n_jobs=1,\n",
      "          penalty='l2', random_state=None, solver='liblinear', tol=0.0001,\n",
      "          verbose=0, warm_start=False)\n",
      "Score: 0.775438596491\n",
      "0.775438596491\n"
     ]
    },
    {
     "name": "stderr",
     "output_type": "stream",
     "text": [
      "/Users/noriogura/anaconda/lib/python2.7/site-packages/sklearn/utils/validation.py:515: DataConversionWarning: A column-vector y was passed when a 1d array was expected. Please change the shape of y to (n_samples, ), for example using ravel().\n",
      "  y = column_or_1d(y, warn=True)\n"
     ]
    }
   ],
   "source": [
    "# Better estimate of training accuracy of out of sample performance\n",
    "\n",
    "from sklearn.cross_validation import train_test_split\n",
    "from sklearn import cross_validation\n",
    "\n",
    "\n",
    "X_train, X_test, y_train, y_test = cross_validation.train_test_split(\n",
    "    Xb_mat, Yb, test_size=0.4, random_state=42)\n",
    "\n",
    "#fit a model on the training data and test on the testing data\n",
    "\n",
    "model = logreg.fit(X_train, y_train)\n",
    "print model\n",
    "predictions = logreg.predict(X_test)\n",
    "\n",
    "print \"Score:\", model.score(X_test, y_test)     \n",
    "print accuracy_score(y_test, predictions)\n",
    "\n",
    "#0.775438596491, non validated 0.800561797753"
   ]
  },
  {
   "cell_type": "code",
   "execution_count": null,
   "metadata": {
    "collapsed": true
   },
   "outputs": [],
   "source": []
  },
  {
   "cell_type": "markdown",
   "metadata": {},
   "source": [
    "#### 7. Predict the class labels for the *Test* set"
   ]
  },
  {
   "cell_type": "code",
   "execution_count": 120,
   "metadata": {
    "collapsed": false
   },
   "outputs": [
    {
     "name": "stdout",
     "output_type": "stream",
     "text": [
      "3    0.551066\n",
      "1    0.242424\n",
      "2    0.206510\n",
      "Name: Pclass, dtype: float64\n"
     ]
    }
   ],
   "source": [
    "Yclass = df3['Pclass'] #Y\n",
    "\n",
    "baseline = Yclass.value_counts() / len(Y)\n",
    "print baseline\n",
    "\n",
    "Xdcolumns = [\"Survived\", \"Sex\", \"Age\", \"SibSp\", \"Parch\", \"Fare\", \"Embarked\"] #predictors\n",
    "\n",
    "#Patsy\n",
    "# Use some string adding and joining to make the simple model formula:\n",
    "formula_d = 'Pclass ~ Survived + Sex + Age + SibSp + Parch + Fare + C(Embarked) - 1'\n",
    "formula_d = str(formula_d)"
   ]
  },
  {
   "cell_type": "markdown",
   "metadata": {},
   "source": [
    "#### 8. Predict the class probabilities for the *Test* set"
   ]
  },
  {
   "cell_type": "code",
   "execution_count": 121,
   "metadata": {
    "collapsed": false
   },
   "outputs": [
    {
     "name": "stdout",
     "output_type": "stream",
     "text": [
      "LogisticRegression(C=1.0, class_weight=None, dual=False, fit_intercept=True,\n",
      "          intercept_scaling=1, max_iter=100, multi_class='ovr', n_jobs=1,\n",
      "          penalty='l2', random_state=None, solver='liblinear', tol=0.0001,\n",
      "          verbose=0, warm_start=False)\n",
      "Score: 0.80701754386\n",
      "Accuracy: 0.80701754386\n",
      "[ 1.  2.  3.]\n",
      "9\n",
      "[ 0.33965002 -0.31546674 -0.16821473  1.01564664 -0.50803578  0.90991284\n",
      " -1.25848098 -0.38007932  4.8060003 ]\n",
      "1.0\n",
      "<bound method LogisticRegression.get_params of LogisticRegression(C=1.0, class_weight=None, dual=False, fit_intercept=True,\n",
      "          intercept_scaling=1, max_iter=100, multi_class='ovr', n_jobs=1,\n",
      "          penalty='l2', random_state=None, solver='liblinear', tol=0.0001,\n",
      "          verbose=0, warm_start=False)>\n",
      "   coef_Class_1  coef_Class_2  coef_Class_3         feature\n",
      "0      0.339650     -0.168765     -0.027114  C(Embarked)[C]\n",
      "1     -0.315467     -0.223576      0.321256  C(Embarked)[Q]\n",
      "2     -0.168215      0.261483     -0.125063  C(Embarked)[S]\n",
      "3      1.015647      0.171338     -0.641167        Survived\n",
      "4     -0.508036      0.216197      0.008398             Sex\n",
      "5      0.909913      0.161302     -0.596574             Age\n",
      "6     -1.258481     -0.029364      0.509577           SibSp\n",
      "7     -0.380079     -0.080062      0.473886           Parch\n",
      "8      4.806000     -0.757437     -4.948771            Fare\n",
      "<bound method LogisticRegression.predict_proba of LogisticRegression(C=1.0, class_weight=None, dual=False, fit_intercept=True,\n",
      "          intercept_scaling=1, max_iter=100, multi_class='ovr', n_jobs=1,\n",
      "          penalty='l2', random_state=None, solver='liblinear', tol=0.0001,\n",
      "          verbose=0, warm_start=False)>\n"
     ]
    },
    {
     "name": "stderr",
     "output_type": "stream",
     "text": [
      "/Users/noriogura/anaconda/lib/python2.7/site-packages/sklearn/utils/validation.py:515: DataConversionWarning: A column-vector y was passed when a 1d array was expected. Please change the shape of y to (n_samples, ), for example using ravel().\n",
      "  y = column_or_1d(y, warn=True)\n"
     ]
    }
   ],
   "source": [
    "Yd, Xd = dmatrices(formula_d, data = df3, return_type='dataframe')\n",
    "\n",
    "###NORMALIZE THE PREDICTOR VARIABLES!\n",
    "\n",
    "Xd_mat = ((Xd - Xd.mean())/ Xd.std()).values\n",
    "\n",
    "\n",
    "X_train_d, X_test_d, y_train_d, y_test_d = cross_validation.train_test_split(\n",
    "    Xd_mat, Yd, test_size=0.4, random_state=42)\n",
    "\n",
    "#fit a model on the training data and test on the testing data\n",
    "\n",
    "logreg_d = LogisticRegression() ####multi_class=\"multinomial\" THIS DOES NOT SEEM TO WORK?####\n",
    "\n",
    "model_d = logreg_d.fit(X_train_d, y_train_d)\n",
    "print model_d\n",
    "predictions_d = logreg_d.predict(X_test_d)\n",
    "\n",
    "print \"Score:\", model_d.score(X_test_d, y_test_d)     \n",
    "print \"Accuracy:\", accuracy_score(y_test_d, predictions_d)\n",
    "\n",
    "print model_d.classes_\n",
    "col_len_d = len(Xd.columns)\n",
    "print col_len_d \n",
    "\n",
    "#Coefficient\n",
    "t_d = logreg_d.coef_\n",
    "print t_d[0]\n",
    "\n",
    "print logreg_d.C\n",
    "\n",
    "#print logreg_d.\n",
    "print logreg_d.get_params\n",
    "\n",
    "\n",
    "house_coefs = pd.DataFrame({'feature': Xd.columns, \"coef_Class_1\": t_d[0], \"coef_Class_2\": t_d[1],\"coef_Class_3\": t_d[2]})\n",
    "\n",
    "print house_coefs\n",
    "\n",
    "print logreg_d.predict_proba"
   ]
  },
  {
   "cell_type": "code",
   "execution_count": 122,
   "metadata": {
    "collapsed": false
   },
   "outputs": [
    {
     "name": "stdout",
     "output_type": "stream",
     "text": [
      "[[  9.56352313e-001   4.36476869e-002   2.02295052e-022]\n",
      " [  1.00000000e+000   5.22551918e-022   2.11733018e-164]]\n",
      "Class_pred\n",
      "1.0    0.999879\n",
      "Name: max_prob, dtype: float64\n",
      "     Accurate_nu  Tot_nu  Percentage\n",
      "Y                                   \n",
      "1.0          184     184         1.0\n",
      "2.0            0     173         0.0\n",
      "3.0            0     355         0.0\n"
     ]
    }
   ],
   "source": [
    "#First get the model's predicted probabilites of each class\n",
    "\n",
    "predicted_probabilites = logreg_d.predict_proba(Xd)\n",
    "print predicted_probabilites[0:2]\n",
    "\n",
    "pp = pd.DataFrame(predicted_probabilites)\n",
    "pp['max_prob']=pp.apply(np.max, axis=1) #AXIS 1: ROW\n",
    "\n",
    "pp['C_pred']=pp.idxmax (axis=1) + 1.0 #Predicted Class has highest probability\n",
    "pp['Y'] = pd.DataFrame(data=np.array(Yd), index = pp.index)\n",
    "pp['Accurate'] = pp['C_pred'] == pp['Y']\n",
    "\n",
    "# RENAME COL 0,1,2, to the Class Values 1,2,3\n",
    "pp=pp.rename(columns={0: 1, 1: 2, 2:3, \"max_prob\":\"max_prob\", \"C_pred\":\"Class_pred\", \"Y\": \"Y\", \"Accurate\":\"Accurate\"})\n",
    "\n",
    "#print pp.head(17)\n",
    "#print pp[pp['Accurate']== False]\n",
    "\n",
    "pp_C = pp['max_prob'].groupby(pp['Class_pred'])\n",
    "Average_Prob=pp_C.median()\n",
    "print Average_Prob\n",
    "\n",
    "# Check against % of Accurate Predictions/Actual\n",
    "\n",
    "pp.head(10)\n",
    "\n",
    "pp_Z = pd.DataFrame()\n",
    "pp_Z[\"Y\"] = pp[\"Y\"]\n",
    "pp_Z[\"Accurate\"] = pp[\"Accurate\"]\n",
    "pp_Z['Accurate'] = pp_Z['Accurate'].map(lambda x: 1 if x == True else 0) #Replace True with 1\n",
    "\n",
    "pp_Z.head(10)\n",
    "\n",
    "Total_Accurate = pp_Z['Accurate'].groupby(pp_Z['Y']).agg({'Accurate_nu': sum, 'Tot_nu':\"count\"}) #, \n",
    "                                                          #'Percentage': float(sum)})\n",
    "Total_Accurate['Percentage']=Total_Accurate['Accurate_nu']*1.0/Total_Accurate['Tot_nu']\n",
    "print Total_Accurate\n",
    "\n",
    "# Close to the predicted Probability Averages for each class..."
   ]
  },
  {
   "cell_type": "markdown",
   "metadata": {},
   "source": [
    "#### 9. Evaluate the *Test* set"
   ]
  },
  {
   "cell_type": "code",
   "execution_count": 123,
   "metadata": {
    "collapsed": false
   },
   "outputs": [
    {
     "name": "stdout",
     "output_type": "stream",
     "text": [
      "Score: 0.80701754386\n",
      "0.80701754386\n"
     ]
    }
   ],
   "source": [
    "print \"Score:\", model_d.score(X_test_d, y_test_d)     \n",
    "print accuracy_score(y_test_d, predictions_d)\n"
   ]
  },
  {
   "cell_type": "code",
   "execution_count": null,
   "metadata": {
    "collapsed": true
   },
   "outputs": [],
   "source": []
  },
  {
   "cell_type": "markdown",
   "metadata": {},
   "source": [
    "#### 10. Cross validate the test set"
   ]
  },
  {
   "cell_type": "code",
   "execution_count": 124,
   "metadata": {
    "collapsed": false
   },
   "outputs": [
    {
     "name": "stdout",
     "output_type": "stream",
     "text": [
      "LogisticRegression(C=1.0, class_weight=None, dual=False, fit_intercept=True,\n",
      "          intercept_scaling=1, max_iter=100, multi_class='ovr', n_jobs=1,\n",
      "          penalty='l2', random_state=None, solver='liblinear', tol=0.0001,\n",
      "          verbose=0, warm_start=False)\n",
      "<class 'pandas.core.frame.DataFrame'>\n",
      "<type 'numpy.ndarray'>\n",
      "SCORES  [ 0.72413793  0.81034483  0.84482759  0.80357143  0.78181818]\n",
      "AVERAGE SCORE 0.792939991043\n"
     ]
    }
   ],
   "source": [
    "from sklearn.cross_validation import cross_val_score\n",
    "\n",
    "print model_d\n",
    "\n",
    "y_test_d2 = np.ravel(y_test_d)\n",
    "\n",
    "print type(y_test_d)\n",
    "print type(y_test_d2)\n",
    "\n",
    "scores = cross_val_score(model_d, X_test_d, y_test_d2, cv=5)\n",
    "\n",
    "print \"SCORES \", scores\n",
    "print \"AVERAGE SCORE\", np.mean(scores)"
   ]
  },
  {
   "cell_type": "markdown",
   "metadata": {},
   "source": [
    "#### 11. Check the Classification Report"
   ]
  },
  {
   "cell_type": "code",
   "execution_count": 125,
   "metadata": {
    "collapsed": false
   },
   "outputs": [
    {
     "name": "stdout",
     "output_type": "stream",
     "text": [
      "             precision    recall  f1-score   support\n",
      "\n",
      "    Class_1       0.86      0.97      0.91        73\n",
      "    Class_2       0.91      0.31      0.46        68\n",
      "    Class_3       0.77      0.96      0.85       144\n",
      "\n",
      "avg / total       0.83      0.81      0.78       285\n",
      "\n"
     ]
    }
   ],
   "source": [
    "from sklearn.metrics import classification_report\n",
    "\n",
    "target_nms = [\"Class_1\", \"Class_2\", \"Class_3\"]\n",
    "\n",
    "class_log = np.array(classification_report(y_test_d, predictions_d, target_names=target_nms))\n",
    "print class_log"
   ]
  },
  {
   "cell_type": "markdown",
   "metadata": {},
   "source": [
    "#### 12. What do the classification metrics tell us?"
   ]
  },
  {
   "cell_type": "markdown",
   "metadata": {},
   "source": [
    "Class_1 has high Precision and Recall Accuracy - Little false positives, and false negatives\n",
    "Class_2 has high Precision, low recall Accuracy, and low F1-Score\n",
    "Class_3 has high Precision and Recall Accuracy\n",
    "\n",
    "The Upper and lower class are easier to categorize based on the selected predictors. \n",
    "Middle class has more problems with Recall.\n",
    "Makes sense since Middle class is merge area between upper and lower class."
   ]
  },
  {
   "cell_type": "markdown",
   "metadata": {},
   "source": [
    "#### 13. Check the Confusion Matrix"
   ]
  },
  {
   "cell_type": "code",
   "execution_count": 126,
   "metadata": {
    "collapsed": false
   },
   "outputs": [
    {
     "name": "stdout",
     "output_type": "stream",
     "text": [
      "(3, 3)\n",
      "            pred_Class_1  pred_Class_2  pred_Class_3\n",
      "is_Class_1            71             0             2\n",
      "is_Class_2             8            21            39\n",
      "is_Class_3             4             2           138\n"
     ]
    }
   ],
   "source": [
    "from sklearn.metrics import confusion_matrix, accuracy_score, precision_score, recall_score\n",
    "\n",
    "conmat = np.array(confusion_matrix(y_test_d, predictions_d, labels=[1,2,3]))\n",
    "\n",
    "print conmat.shape\n",
    "\n",
    "\n",
    "confusion = pd.DataFrame(conmat, index=['is_Class_1', 'is_Class_2', 'is_Class_3'],\n",
    "                         columns=['pred_Class_1','pred_Class_2','pred_Class_3'])\n",
    "\n",
    "print(confusion)"
   ]
  },
  {
   "cell_type": "markdown",
   "metadata": {},
   "source": [
    "#### 14. What does the Confusion Matrix tell us? "
   ]
  },
  {
   "cell_type": "markdown",
   "metadata": {},
   "source": [
    "Similar to Precision, Recall earlier...\n",
    "Class 1 "
   ]
  },
  {
   "cell_type": "markdown",
   "metadata": {},
   "source": [
    "#### 15. Plot the ROC curve"
   ]
  },
  {
   "cell_type": "code",
   "execution_count": 127,
   "metadata": {
    "collapsed": false
   },
   "outputs": [
    {
     "name": "stdout",
     "output_type": "stream",
     "text": [
      "(285,)\n",
      "(285, 1)\n",
      "[[  3.94665054  -2.14003565  -5.47962876]\n",
      " [  5.29198375  -1.96599009  -7.00521423]\n",
      " [  2.55128231  -1.83433741  -5.44001739]\n",
      " [ 17.50381347  -5.21985678 -21.07692388]\n",
      " [ -2.09171559  -1.21968472  -0.49798051]]\n",
      "     Pclass\n",
      "641     1.0\n",
      "496     1.0\n",
      "262     1.0\n",
      "311     1.0\n",
      "551     2.0\n",
      "<class 'pandas.core.frame.DataFrame'>\n",
      "CLASS 1 ROC: \n"
     ]
    },
    {
     "data": {
      "image/png": "[encoded data removed]",
      "text/plain": [
       "<matplotlib.figure.Figure at 0x11ca62450>"
      ]
     },
     "metadata": {},
     "output_type": "display_data"
    }
   ],
   "source": [
    "from sklearn.metrics import roc_curve, auc\n",
    "\n",
    "# generic curve plotting function\n",
    "def auc_plotting_function(rate1, rate2, rate1_name, rate2_name, curve_name):\n",
    "    AUC = auc(rate1, rate2)\n",
    "    # Plot of a ROC curve for class 1 (has_cancer)\n",
    "    plt.figure(figsize=[11,9])\n",
    "    plt.plot(rate1, rate2, label=curve_name + ' (area = %0.2f)' % AUC, linewidth=4)\n",
    "    plt.plot([0, 1], [0, 1], 'k--', linewidth=4)\n",
    "    plt.xlim([0.0, 1.0])\n",
    "    plt.ylim([0.0, 1.05])\n",
    "    plt.xlabel(rate1_name, fontsize=18)\n",
    "    plt.ylabel(rate2_name, fontsize=18)\n",
    "    plt.title(curve_name + ' for is_Class', fontsize=18)\n",
    "    plt.legend(loc=\"lower right\")\n",
    "    plt.show()\n",
    "\n",
    "# plot receiving operator characteristic curve\n",
    "def plot_roc(y_true, y_score):\n",
    "    fpr, tpr, _ = roc_curve(y_true, y_score)\n",
    "    auc_plotting_function(fpr, tpr, 'False Positive Rate', 'True Positive Rate', 'ROC')\n",
    "\n",
    "# print logreg_d.classes_    \n",
    "Y_score_d = logreg_d.decision_function(X_test_d)\n",
    "#X_test_d.shape\n",
    "\n",
    "print Y_score_d[:,0].shape\n",
    "print y_test_d.shape\n",
    "# print \"decision function scores:\", Y_score_d\n",
    "\n",
    "\n",
    "print Y_score_d[0:5]\n",
    "print y_test_d[0:5]\n",
    "\n",
    "print type(y_test_d)\n",
    "\n",
    "# Class 1 Target to Binary\n",
    "y_test_d_1= y_test_d.applymap(lambda x: 1 if x == 1.0 else 0)  \n",
    "\n",
    "# Class 2 Target to Binary\n",
    "y_test_d_2= y_test_d.applymap(lambda x: 1 if x == 2.0 else 0)  \n",
    "\n",
    "# Class 3 Target to Binary\n",
    "y_test_d_3= y_test_d.applymap(lambda x: 1 if x == 3.0 else 0)  \n",
    "\n",
    "#print y_test_d_1.head(5)\n",
    "\n",
    "#Class1\n",
    "print \"CLASS 1 ROC: \"\n",
    "plot_roc(y_test_d_1, Y_score_d[:,0])\n",
    "\n"
   ]
  },
  {
   "cell_type": "code",
   "execution_count": 128,
   "metadata": {
    "collapsed": false
   },
   "outputs": [
    {
     "name": "stdout",
     "output_type": "stream",
     "text": [
      "CLASS 2 ROC: \n"
     ]
    },
    {
     "data": {
      "image/png": "[encoded data removed]",
      "text/plain": [
       "<matplotlib.figure.Figure at 0x11ca4ef90>"
      ]
     },
     "metadata": {},
     "output_type": "display_data"
    }
   ],
   "source": [
    "#Class2\n",
    "print \"CLASS 2 ROC: \"\n",
    "plot_roc(y_test_d_2, Y_score_d[:,1])"
   ]
  },
  {
   "cell_type": "code",
   "execution_count": 129,
   "metadata": {
    "collapsed": false
   },
   "outputs": [
    {
     "name": "stdout",
     "output_type": "stream",
     "text": [
      "CLASS 3 ROC: \n"
     ]
    },
    {
     "data": {
      "image/png": "[encoded data removed]",
      "text/plain": [
       "<matplotlib.figure.Figure at 0x11cadbe10>"
      ]
     },
     "metadata": {},
     "output_type": "display_data"
    }
   ],
   "source": [
    "#Class3\n",
    "print \"CLASS 3 ROC: \"\n",
    "plot_roc(y_test_d_3, Y_score_d[:,2])"
   ]
  },
  {
   "cell_type": "markdown",
   "metadata": {},
   "source": [
    "#### 16. What does the ROC curve tell us?"
   ]
  },
  {
   "cell_type": "markdown",
   "metadata": {},
   "source": [
    "Class 1 good prediction for both precision and recall, Class 2 worst but better than baseline. \n",
    "Class 3 is good as well for precision and recall as well."
   ]
  },
  {
   "cell_type": "markdown",
   "metadata": {},
   "source": [
    "## Part 5: Gridsearch"
   ]
  },
  {
   "cell_type": "markdown",
   "metadata": {},
   "source": [
    "#### 1. Use GridSearchCV with logistic regression to search for optimal parameters \n",
    "\n",
    "- Use the provided parameter grid. Feel free to add if you like (such as n_jobs).\n",
    "- Use 5-fold cross-validation."
   ]
  },
  {
   "cell_type": "code",
   "execution_count": 130,
   "metadata": {
    "collapsed": false
   },
   "outputs": [
    {
     "name": "stdout",
     "output_type": "stream",
     "text": [
      "0.825842696629\n"
     ]
    }
   ],
   "source": [
    "logreg_parameters = {\n",
    "    'penalty':['l1','l2'],\n",
    "    'C':np.logspace(-5,1,50),\n",
    "    'solver':['liblinear'],\n",
    "    #'n_jobs':\n",
    "}\n",
    "\n",
    "from sklearn.grid_search import GridSearchCV\n",
    "\n",
    "logistic_e = LogisticRegression() #Normal logistic regression\n",
    "\n",
    "estim_log_e = GridSearchCV(logistic_e, logreg_parameters, cv=5) #Logistic\n",
    "grid = estim_log_e.fit(Xd_mat, np.ravel(Yd))\n",
    "\n",
    "# scores_grid = cross_val_score(logistic_e, Xd, np.ravel(Yd), cv=5, scoring='accuracy')\n",
    "# print scores_grid\n",
    "# print \"Average Scores: \", scores_grid.mean()\n",
    "\n",
    "from sklearn import metrics\n",
    "\n",
    "\n",
    "y_pred = estim_log_e.predict(Xd_mat)\n",
    "print metrics.accuracy_score(np.ravel(Yd), y_pred)"
   ]
  },
  {
   "cell_type": "markdown",
   "metadata": {},
   "source": [
    "#### 2. Print out the best parameters and best score. Are they better than the vanilla logistic regression?"
   ]
  },
  {
   "cell_type": "code",
   "execution_count": 131,
   "metadata": {
    "collapsed": false
   },
   "outputs": [
    {
     "name": "stdout",
     "output_type": "stream",
     "text": [
      "LogisticRegression(C=1.0, class_weight=None, dual=False, fit_intercept=True,\n",
      "          intercept_scaling=1, max_iter=100, multi_class='ovr', n_jobs=1,\n",
      "          penalty='l2', random_state=None, solver='liblinear', tol=0.0001,\n",
      "          verbose=0, warm_start=False)\n",
      "Best estimator:  LogisticRegression(C=5.689866029018293, class_weight=None, dual=False,\n",
      "          fit_intercept=True, intercept_scaling=1, max_iter=100,\n",
      "          multi_class='ovr', n_jobs=1, penalty='l1', random_state=None,\n",
      "          solver='liblinear', tol=0.0001, verbose=0, warm_start=False)\n",
      "Best estimator params: {'penalty': 'l1', 'C': 5.689866029018293, 'solver': 'liblinear'}\n",
      "Best score: 0.807584269663\n"
     ]
    },
    {
     "data": {
      "text/html": [
       "<div>\n",
       "<table border=\"1\" class=\"dataframe\">\n",
       "  <thead>\n",
       "    <tr style=\"text-align: right;\">\n",
       "      <th></th>\n",
       "      <th>parameters</th>\n",
       "      <th>mean_validation_score</th>\n",
       "      <th>cv_validation_scores</th>\n",
       "    </tr>\n",
       "  </thead>\n",
       "  <tbody>\n",
       "    <tr>\n",
       "      <th>94</th>\n",
       "      <td>{u'penalty': u'l1', u'C': 5.68986602902, u'sol...</td>\n",
       "      <td>0.807584</td>\n",
       "      <td>[0.804195804196, 0.797202797203, 0.83216783216...</td>\n",
       "    </tr>\n",
       "    <tr>\n",
       "      <th>98</th>\n",
       "      <td>{u'penalty': u'l1', u'C': 10.0, u'solver': u'l...</td>\n",
       "      <td>0.807584</td>\n",
       "      <td>[0.804195804196, 0.797202797203, 0.83216783216...</td>\n",
       "    </tr>\n",
       "    <tr>\n",
       "      <th>96</th>\n",
       "      <td>{u'penalty': u'l1', u'C': 7.54312006335, u'sol...</td>\n",
       "      <td>0.807584</td>\n",
       "      <td>[0.804195804196, 0.797202797203, 0.83216783216...</td>\n",
       "    </tr>\n",
       "    <tr>\n",
       "      <th>92</th>\n",
       "      <td>{u'penalty': u'l1', u'C': 4.29193426013, u'sol...</td>\n",
       "      <td>0.806180</td>\n",
       "      <td>[0.804195804196, 0.797202797203, 0.83216783216...</td>\n",
       "    </tr>\n",
       "    <tr>\n",
       "      <th>88</th>\n",
       "      <td>{u'penalty': u'l1', u'C': 2.44205309455, u'sol...</td>\n",
       "      <td>0.806180</td>\n",
       "      <td>[0.804195804196, 0.797202797203, 0.83216783216...</td>\n",
       "    </tr>\n",
       "    <tr>\n",
       "      <th>90</th>\n",
       "      <td>{u'penalty': u'l1', u'C': 3.23745754282, u'sol...</td>\n",
       "      <td>0.806180</td>\n",
       "      <td>[0.804195804196, 0.797202797203, 0.83216783216...</td>\n",
       "    </tr>\n",
       "    <tr>\n",
       "      <th>86</th>\n",
       "      <td>{u'penalty': u'l1', u'C': 1.84206996933, u'sol...</td>\n",
       "      <td>0.803371</td>\n",
       "      <td>[0.797202797203, 0.797202797203, 0.83216783216...</td>\n",
       "    </tr>\n",
       "    <tr>\n",
       "      <th>82</th>\n",
       "      <td>{u'penalty': u'l1', u'C': 1.04811313415, u'sol...</td>\n",
       "      <td>0.800562</td>\n",
       "      <td>[0.797202797203, 0.783216783217, 0.82517482517...</td>\n",
       "    </tr>\n",
       "    <tr>\n",
       "      <th>99</th>\n",
       "      <td>{u'penalty': u'l2', u'C': 10.0, u'solver': u'l...</td>\n",
       "      <td>0.800562</td>\n",
       "      <td>[0.797202797203, 0.79020979021, 0.832167832168...</td>\n",
       "    </tr>\n",
       "    <tr>\n",
       "      <th>84</th>\n",
       "      <td>{u'penalty': u'l1', u'C': 1.38949549437, u'sol...</td>\n",
       "      <td>0.800562</td>\n",
       "      <td>[0.797202797203, 0.79020979021, 0.832167832168...</td>\n",
       "    </tr>\n",
       "  </tbody>\n",
       "</table>\n",
       "</div>"
      ],
      "text/plain": [
       "                                           parameters  mean_validation_score  \\\n",
       "94  {u'penalty': u'l1', u'C': 5.68986602902, u'sol...               0.807584   \n",
       "98  {u'penalty': u'l1', u'C': 10.0, u'solver': u'l...               0.807584   \n",
       "96  {u'penalty': u'l1', u'C': 7.54312006335, u'sol...               0.807584   \n",
       "92  {u'penalty': u'l1', u'C': 4.29193426013, u'sol...               0.806180   \n",
       "88  {u'penalty': u'l1', u'C': 2.44205309455, u'sol...               0.806180   \n",
       "90  {u'penalty': u'l1', u'C': 3.23745754282, u'sol...               0.806180   \n",
       "86  {u'penalty': u'l1', u'C': 1.84206996933, u'sol...               0.803371   \n",
       "82  {u'penalty': u'l1', u'C': 1.04811313415, u'sol...               0.800562   \n",
       "99  {u'penalty': u'l2', u'C': 10.0, u'solver': u'l...               0.800562   \n",
       "84  {u'penalty': u'l1', u'C': 1.38949549437, u'sol...               0.800562   \n",
       "\n",
       "                                 cv_validation_scores  \n",
       "94  [0.804195804196, 0.797202797203, 0.83216783216...  \n",
       "98  [0.804195804196, 0.797202797203, 0.83216783216...  \n",
       "96  [0.804195804196, 0.797202797203, 0.83216783216...  \n",
       "92  [0.804195804196, 0.797202797203, 0.83216783216...  \n",
       "88  [0.804195804196, 0.797202797203, 0.83216783216...  \n",
       "90  [0.804195804196, 0.797202797203, 0.83216783216...  \n",
       "86  [0.797202797203, 0.797202797203, 0.83216783216...  \n",
       "82  [0.797202797203, 0.783216783217, 0.82517482517...  \n",
       "99  [0.797202797203, 0.79020979021, 0.832167832168...  \n",
       "84  [0.797202797203, 0.79020979021, 0.832167832168...  "
      ]
     },
     "execution_count": 131,
     "metadata": {},
     "output_type": "execute_result"
    }
   ],
   "source": [
    "print logistic_e\n",
    "print \"Best estimator: \", estim_log_e.best_estimator_\n",
    "print \"Best estimator params:\", estim_log_e.best_params_\n",
    "print \"Best score:\", estim_log_e.best_score_\n",
    "\n",
    "score_df = pd.DataFrame(estim_log_e.grid_scores_)\n",
    "score_df = score_df.sort_values(\"mean_validation_score\", ascending=False)\n",
    "score_df.head(10)\n",
    "\n",
    "#Better than the Vanilla Logistic Regression: AVERAGE SCORE 0.804225257501"
   ]
  },
  {
   "cell_type": "markdown",
   "metadata": {},
   "source": [
    "#### 3. Explain the difference between the difference between the L1 (Lasso) and L2 (Ridge) penalties on the model coefficients."
   ]
  },
  {
   "cell_type": "markdown",
   "metadata": {},
   "source": [
    "In Ridge, the Coefficients shrink the effect of predictors more evenly among the predictors (hedging bets).\n",
    "In Lasso, the Coefficients shrink the effect of non correlating predictors more, leaving the most strongly correlated predictors."
   ]
  },
  {
   "cell_type": "markdown",
   "metadata": {},
   "source": [
    "#### 4. What hypothetical situations are the Ridge and Lasso penalties useful?"
   ]
  },
  {
   "cell_type": "markdown",
   "metadata": {},
   "source": [
    "If you're not sure of the current data set, perhaps that there may be correlations that are not showing up yet, you may want to use Ridge instead of Lasso. If there are a lot of predictors, and you really want to narrow down the list, you may want to use Lasso."
   ]
  },
  {
   "cell_type": "markdown",
   "metadata": {},
   "source": [
    "#### 5. [BONUS] Explain how the regularization strength (C) modifies the regression loss function. Why do the Ridge and Lasso penalties have their respective effects on the coefficients?"
   ]
  },
  {
   "cell_type": "markdown",
   "metadata": {
    "collapsed": true
   },
   "source": [
    "Ridge regression improves prediction error by shrinking large regression coefficients in order to reduce overfitting, but it does not perform covariate selection and therefore does not help to make the model more interpretable.\n",
    "\n",
    "Lasso is able to achieve both of these goals by forcing the sum of the absolute value of the regression coefficients to be less than a fixed value, which forces certain coefficients to be set to zero, effectively choosing a simpler model that does not include those coefficients. This idea is similar to ridge regression, in which the sum of the squares of the coefficients is forced to be less than a fixed value, though in the case of ridge regression, this only shrinks the size of the coefficients, it does not set any of them to zero (WIKIPEDIA)"
   ]
  },
  {
   "cell_type": "markdown",
   "metadata": {},
   "source": [
    "#### 6.a. [BONUS] You decide that you want to minimize false positives. Use the predicted probabilities from the model to set your threshold for labeling the positive class to need at least 90% confidence. How and why does this affect your confusion matrix?"
   ]
  },
  {
   "cell_type": "code",
   "execution_count": 132,
   "metadata": {
    "collapsed": false
   },
   "outputs": [],
   "source": [
    "# Changethe threshodl for deciding whether something is o:\n",
    "#we want to be 95% confident a person doesn't have cancer to say they don't \n",
    "#instead of hte standard 50% confident they don't say they dont'\n",
    "# y_new_pred = [ 0 if pp[0]>0.90 else 1 for pp in y_pred]\n",
    "# print len(Yb), len(y_new_pred)\n",
    "\n",
    "# pd.crosstab(np.array(Yb), np.array(y_new_pred), rownames=['True'], colnames=['Predicted'], margins=True)\n",
    "\n"
   ]
  },
  {
   "cell_type": "markdown",
   "metadata": {},
   "source": [
    "## Part 6: Gridsearch and kNN"
   ]
  },
  {
   "cell_type": "markdown",
   "metadata": {},
   "source": [
    "#### 1. Perform Gridsearch for the same classification problem as above, but use KNeighborsClassifier as your estimator\n",
    "\n",
    "At least have number of neighbors and weights in your parameters dictionary."
   ]
  },
  {
   "cell_type": "code",
   "execution_count": 133,
   "metadata": {
    "collapsed": false
   },
   "outputs": [
    {
     "name": "stdout",
     "output_type": "stream",
     "text": [
      "1.0\n"
     ]
    }
   ],
   "source": [
    "knn_parameters = {\n",
    "    'weights':[\"uniform\", \"distance\"],\n",
    "    'n_neighbors':[2,3,4,5,6,7,8,9,10]\n",
    "    #'n_jobs':\n",
    "}\n",
    "\n",
    "from sklearn.neighbors import KNeighborsClassifier\n",
    "\n",
    "knn = KNeighborsClassifier() #KNN Model\n",
    "\n",
    "#instantiate grid\n",
    "estim_knn = GridSearchCV(knn, knn_parameters, cv=5, scoring='accuracy')\n",
    "\n",
    "#fit grid with data\n",
    "grid_knn = estim_knn.fit(Xd_mat, np.ravel(Yd))\n",
    "\n",
    "y_pred_knn = estim_knn.predict(Xd_mat)\n",
    "print metrics.accuracy_score(np.ravel(Yd), y_pred_knn)\n",
    "\n",
    "#1.0 seems too good to be true..."
   ]
  },
  {
   "cell_type": "markdown",
   "metadata": {},
   "source": [
    "#### 2. Print the best parameters and score for the gridsearched kNN model. How does it compare to the logistic regression model?"
   ]
  },
  {
   "cell_type": "code",
   "execution_count": 134,
   "metadata": {
    "collapsed": false
   },
   "outputs": [
    {
     "name": "stdout",
     "output_type": "stream",
     "text": [
      "KNeighborsClassifier(algorithm='auto', leaf_size=30, metric='minkowski',\n",
      "           metric_params=None, n_jobs=1, n_neighbors=5, p=2,\n",
      "           weights='uniform')\n",
      "Best estimator:  KNeighborsClassifier(algorithm='auto', leaf_size=30, metric='minkowski',\n",
      "           metric_params=None, n_jobs=1, n_neighbors=7, p=2,\n",
      "           weights='distance')\n",
      "Best estimator params: {'n_neighbors': 7, 'weights': 'distance'}\n",
      "Best score: 0.77808988764\n"
     ]
    },
    {
     "data": {
      "text/html": [
       "<div>\n",
       "<table border=\"1\" class=\"dataframe\">\n",
       "  <thead>\n",
       "    <tr style=\"text-align: right;\">\n",
       "      <th></th>\n",
       "      <th>parameters</th>\n",
       "      <th>mean_validation_score</th>\n",
       "      <th>cv_validation_scores</th>\n",
       "    </tr>\n",
       "  </thead>\n",
       "  <tbody>\n",
       "    <tr>\n",
       "      <th>11</th>\n",
       "      <td>{u'n_neighbors': 7, u'weights': u'distance'}</td>\n",
       "      <td>0.778090</td>\n",
       "      <td>[0.776223776224, 0.776223776224, 0.80419580419...</td>\n",
       "    </tr>\n",
       "    <tr>\n",
       "      <th>15</th>\n",
       "      <td>{u'n_neighbors': 9, u'weights': u'distance'}</td>\n",
       "      <td>0.772472</td>\n",
       "      <td>[0.769230769231, 0.762237762238, 0.80419580419...</td>\n",
       "    </tr>\n",
       "    <tr>\n",
       "      <th>13</th>\n",
       "      <td>{u'n_neighbors': 8, u'weights': u'distance'}</td>\n",
       "      <td>0.772472</td>\n",
       "      <td>[0.79020979021, 0.762237762238, 0.79020979021,...</td>\n",
       "    </tr>\n",
       "    <tr>\n",
       "      <th>9</th>\n",
       "      <td>{u'n_neighbors': 6, u'weights': u'distance'}</td>\n",
       "      <td>0.769663</td>\n",
       "      <td>[0.776223776224, 0.776223776224, 0.78321678321...</td>\n",
       "    </tr>\n",
       "    <tr>\n",
       "      <th>17</th>\n",
       "      <td>{u'n_neighbors': 10, u'weights': u'distance'}</td>\n",
       "      <td>0.769663</td>\n",
       "      <td>[0.769230769231, 0.748251748252, 0.79720279720...</td>\n",
       "    </tr>\n",
       "    <tr>\n",
       "      <th>5</th>\n",
       "      <td>{u'n_neighbors': 4, u'weights': u'distance'}</td>\n",
       "      <td>0.768258</td>\n",
       "      <td>[0.783216783217, 0.769230769231, 0.77622377622...</td>\n",
       "    </tr>\n",
       "    <tr>\n",
       "      <th>3</th>\n",
       "      <td>{u'n_neighbors': 3, u'weights': u'distance'}</td>\n",
       "      <td>0.764045</td>\n",
       "      <td>[0.776223776224, 0.776223776224, 0.75524475524...</td>\n",
       "    </tr>\n",
       "    <tr>\n",
       "      <th>1</th>\n",
       "      <td>{u'n_neighbors': 2, u'weights': u'distance'}</td>\n",
       "      <td>0.759831</td>\n",
       "      <td>[0.762237762238, 0.741258741259, 0.77622377622...</td>\n",
       "    </tr>\n",
       "    <tr>\n",
       "      <th>7</th>\n",
       "      <td>{u'n_neighbors': 5, u'weights': u'distance'}</td>\n",
       "      <td>0.755618</td>\n",
       "      <td>[0.769230769231, 0.776223776224, 0.74825174825...</td>\n",
       "    </tr>\n",
       "    <tr>\n",
       "      <th>10</th>\n",
       "      <td>{u'n_neighbors': 7, u'weights': u'uniform'}</td>\n",
       "      <td>0.754213</td>\n",
       "      <td>[0.762237762238, 0.734265734266, 0.77622377622...</td>\n",
       "    </tr>\n",
       "    <tr>\n",
       "      <th>6</th>\n",
       "      <td>{u'n_neighbors': 5, u'weights': u'uniform'}</td>\n",
       "      <td>0.748596</td>\n",
       "      <td>[0.762237762238, 0.741258741259, 0.75524475524...</td>\n",
       "    </tr>\n",
       "    <tr>\n",
       "      <th>8</th>\n",
       "      <td>{u'n_neighbors': 6, u'weights': u'uniform'}</td>\n",
       "      <td>0.748596</td>\n",
       "      <td>[0.762237762238, 0.748251748252, 0.72727272727...</td>\n",
       "    </tr>\n",
       "    <tr>\n",
       "      <th>2</th>\n",
       "      <td>{u'n_neighbors': 3, u'weights': u'uniform'}</td>\n",
       "      <td>0.747191</td>\n",
       "      <td>[0.769230769231, 0.748251748252, 0.74125874125...</td>\n",
       "    </tr>\n",
       "    <tr>\n",
       "      <th>12</th>\n",
       "      <td>{u'n_neighbors': 8, u'weights': u'uniform'}</td>\n",
       "      <td>0.745787</td>\n",
       "      <td>[0.755244755245, 0.72027972028, 0.769230769231...</td>\n",
       "    </tr>\n",
       "    <tr>\n",
       "      <th>4</th>\n",
       "      <td>{u'n_neighbors': 4, u'weights': u'uniform'}</td>\n",
       "      <td>0.738764</td>\n",
       "      <td>[0.755244755245, 0.741258741259, 0.72727272727...</td>\n",
       "    </tr>\n",
       "    <tr>\n",
       "      <th>0</th>\n",
       "      <td>{u'n_neighbors': 2, u'weights': u'uniform'}</td>\n",
       "      <td>0.733146</td>\n",
       "      <td>[0.776223776224, 0.706293706294, 0.72027972028...</td>\n",
       "    </tr>\n",
       "    <tr>\n",
       "      <th>14</th>\n",
       "      <td>{u'n_neighbors': 9, u'weights': u'uniform'}</td>\n",
       "      <td>0.728933</td>\n",
       "      <td>[0.741258741259, 0.699300699301, 0.74125874125...</td>\n",
       "    </tr>\n",
       "    <tr>\n",
       "      <th>16</th>\n",
       "      <td>{u'n_neighbors': 10, u'weights': u'uniform'}</td>\n",
       "      <td>0.723315</td>\n",
       "      <td>[0.713286713287, 0.671328671329, 0.74825174825...</td>\n",
       "    </tr>\n",
       "  </tbody>\n",
       "</table>\n",
       "</div>"
      ],
      "text/plain": [
       "                                       parameters  mean_validation_score  \\\n",
       "11   {u'n_neighbors': 7, u'weights': u'distance'}               0.778090   \n",
       "15   {u'n_neighbors': 9, u'weights': u'distance'}               0.772472   \n",
       "13   {u'n_neighbors': 8, u'weights': u'distance'}               0.772472   \n",
       "9    {u'n_neighbors': 6, u'weights': u'distance'}               0.769663   \n",
       "17  {u'n_neighbors': 10, u'weights': u'distance'}               0.769663   \n",
       "5    {u'n_neighbors': 4, u'weights': u'distance'}               0.768258   \n",
       "3    {u'n_neighbors': 3, u'weights': u'distance'}               0.764045   \n",
       "1    {u'n_neighbors': 2, u'weights': u'distance'}               0.759831   \n",
       "7    {u'n_neighbors': 5, u'weights': u'distance'}               0.755618   \n",
       "10    {u'n_neighbors': 7, u'weights': u'uniform'}               0.754213   \n",
       "6     {u'n_neighbors': 5, u'weights': u'uniform'}               0.748596   \n",
       "8     {u'n_neighbors': 6, u'weights': u'uniform'}               0.748596   \n",
       "2     {u'n_neighbors': 3, u'weights': u'uniform'}               0.747191   \n",
       "12    {u'n_neighbors': 8, u'weights': u'uniform'}               0.745787   \n",
       "4     {u'n_neighbors': 4, u'weights': u'uniform'}               0.738764   \n",
       "0     {u'n_neighbors': 2, u'weights': u'uniform'}               0.733146   \n",
       "14    {u'n_neighbors': 9, u'weights': u'uniform'}               0.728933   \n",
       "16   {u'n_neighbors': 10, u'weights': u'uniform'}               0.723315   \n",
       "\n",
       "                                 cv_validation_scores  \n",
       "11  [0.776223776224, 0.776223776224, 0.80419580419...  \n",
       "15  [0.769230769231, 0.762237762238, 0.80419580419...  \n",
       "13  [0.79020979021, 0.762237762238, 0.79020979021,...  \n",
       "9   [0.776223776224, 0.776223776224, 0.78321678321...  \n",
       "17  [0.769230769231, 0.748251748252, 0.79720279720...  \n",
       "5   [0.783216783217, 0.769230769231, 0.77622377622...  \n",
       "3   [0.776223776224, 0.776223776224, 0.75524475524...  \n",
       "1   [0.762237762238, 0.741258741259, 0.77622377622...  \n",
       "7   [0.769230769231, 0.776223776224, 0.74825174825...  \n",
       "10  [0.762237762238, 0.734265734266, 0.77622377622...  \n",
       "6   [0.762237762238, 0.741258741259, 0.75524475524...  \n",
       "8   [0.762237762238, 0.748251748252, 0.72727272727...  \n",
       "2   [0.769230769231, 0.748251748252, 0.74125874125...  \n",
       "12  [0.755244755245, 0.72027972028, 0.769230769231...  \n",
       "4   [0.755244755245, 0.741258741259, 0.72727272727...  \n",
       "0   [0.776223776224, 0.706293706294, 0.72027972028...  \n",
       "14  [0.741258741259, 0.699300699301, 0.74125874125...  \n",
       "16  [0.713286713287, 0.671328671329, 0.74825174825...  "
      ]
     },
     "execution_count": 134,
     "metadata": {},
     "output_type": "execute_result"
    }
   ],
   "source": [
    "print knn\n",
    "print \"Best estimator: \", estim_knn.best_estimator_\n",
    "print \"Best estimator params:\", estim_knn.best_params_\n",
    "print \"Best score:\", estim_knn.best_score_\n",
    "\n",
    "\n",
    "score_df = pd.DataFrame(estim_knn.grid_scores_)\n",
    "score_df = score_df.sort_values(\"mean_validation_score\", ascending=False)\n",
    "score_df\n"
   ]
  },
  {
   "cell_type": "markdown",
   "metadata": {},
   "source": [
    "#### 3. How does the number of neighbors affect the bias-variance tradeoff of your model?\n",
    "\n",
    "#### [BONUS] Why?"
   ]
  },
  {
   "cell_type": "markdown",
   "metadata": {
    "collapsed": true
   },
   "source": [
    "The larger the knn neighbor number, the more points affect a point's classification. \n",
    "That means the variance decreases with an increasing knn neighbor number, and bias increases."
   ]
  },
  {
   "cell_type": "markdown",
   "metadata": {},
   "source": [
    "#### 4. In what hypothetical scenario(s) might you prefer logistic regression over kNN, aside from model performance metrics?"
   ]
  },
  {
   "cell_type": "markdown",
   "metadata": {
    "collapsed": true
   },
   "source": [
    "If you think there is pretty clear relationship between a predictor(s) and the target - you should probably use logistic \n",
    "regression instead of kNN- especially if you think there maybe an effect that can be described by a mathematical model.\n",
    "If you are not sure about the relationship - if the boundaries of the categories based off of the interplay of the predictors is \n",
    "more irregular, it may be useful to start with kNN."
   ]
  },
  {
   "cell_type": "markdown",
   "metadata": {},
   "source": [
    "#### 5. Fit a new kNN model with the optimal parameters found in gridsearch. "
   ]
  },
  {
   "cell_type": "code",
   "execution_count": 135,
   "metadata": {
    "collapsed": false
   },
   "outputs": [
    {
     "name": "stdout",
     "output_type": "stream",
     "text": [
      "{'n_neighbors': 7, 'weights': 'distance'}\n",
      "Score: 0.768421052632\n",
      "Accuracy: 0.768421052632\n",
      "[ 1.  2.  3.]\n"
     ]
    }
   ],
   "source": [
    "\n",
    "print estim_knn.best_params_\n",
    "\n",
    "knn = KNeighborsClassifier(n_neighbors= 4, weights= 'distance') \n",
    "\n",
    "knn_fit = knn.fit(X_train_d, np.ravel(y_train_d))\n",
    "predictions_d = knn.predict(X_test_d)\n",
    "\n",
    "\n",
    "print \"Score:\", knn_fit.score(X_test_d, y_test_d)     \n",
    "print \"Accuracy:\", accuracy_score(y_test_d, predictions_d)\n",
    "\n",
    "print knn_fit.classes_\n",
    "# col_len_d = len(Xd.columns)\n",
    "# print col_len_d \n"
   ]
  },
  {
   "cell_type": "markdown",
   "metadata": {},
   "source": [
    "#### 6. Construct the confusion matrix for the optimal kNN model. Is it different from the logistic regression model? If so, how?"
   ]
  },
  {
   "cell_type": "code",
   "execution_count": 136,
   "metadata": {
    "collapsed": false
   },
   "outputs": [
    {
     "name": "stdout",
     "output_type": "stream",
     "text": [
      "(3, 3)\n",
      "            pred_Class_1  pred_Class_2  pred_Class_3\n",
      "is_Class_1            71             0             2\n",
      "is_Class_2             8            21            39\n",
      "is_Class_3             4             2           138\n",
      "            pred_Class_1  pred_Class_2  pred_Class_3\n",
      "is_Class_1            60             7             6\n",
      "is_Class_2             7            37            24\n",
      "is_Class_3             6            16           122\n"
     ]
    }
   ],
   "source": [
    "from sklearn.metrics import confusion_matrix, accuracy_score, precision_score, recall_score\n",
    "\n",
    "conmat = np.array(confusion_matrix(y_test_d, predictions_d, labels=[1,2,3]))\n",
    "\n",
    "print conmat.shape\n",
    "\n",
    "\n",
    "confusion_knn = pd.DataFrame(conmat, index=['is_Class_1', 'is_Class_2', 'is_Class_3'],\n",
    "                         columns=['pred_Class_1','pred_Class_2','pred_Class_3'])\n",
    "\n",
    "print(confusion) #Logistic Regression\n",
    "print(confusion_knn) #KNN better precision on Class2 worse recall"
   ]
  },
  {
   "cell_type": "code",
   "execution_count": 137,
   "metadata": {
    "collapsed": false
   },
   "outputs": [
    {
     "name": "stdout",
     "output_type": "stream",
     "text": [
      "             precision    recall  f1-score   support\n",
      "\n",
      "    Class_1       0.82      0.82      0.82        73\n",
      "    Class_2       0.62      0.54      0.58        68\n",
      "    Class_3       0.80      0.85      0.82       144\n",
      "\n",
      "avg / total       0.76      0.77      0.76       285\n",
      "\n",
      "             precision    recall  f1-score   support\n",
      "\n",
      "    Class_1       0.86      0.97      0.91        73\n",
      "    Class_2       0.91      0.31      0.46        68\n",
      "    Class_3       0.77      0.96      0.85       144\n",
      "\n",
      "avg / total       0.83      0.81      0.78       285\n",
      "\n"
     ]
    }
   ],
   "source": [
    "from sklearn.metrics import classification_report\n",
    "\n",
    "target_nms = [\"Class_1\", \"Class_2\", \"Class_3\"]\n",
    "\n",
    "\n",
    "class_knn = np.array((classification_report(y_test_d, predictions_d, target_names=target_nms)))\n",
    "print class_knn\n",
    "print class_log\n"
   ]
  },
  {
   "cell_type": "markdown",
   "metadata": {},
   "source": [
    "#### 7. [BONUS] Plot the ROC curves for the optimized logistic regression model and the optimized kNN model on the same plot."
   ]
  },
  {
   "cell_type": "code",
   "execution_count": null,
   "metadata": {
    "collapsed": true
   },
   "outputs": [],
   "source": []
  },
  {
   "cell_type": "markdown",
   "metadata": {},
   "source": [
    "## Part 7: [BONUS] Precision-recall"
   ]
  },
  {
   "cell_type": "markdown",
   "metadata": {},
   "source": [
    "#### 1. Gridsearch the same parameters for logistic regression but change the scoring function to 'average_precision'\n",
    "\n",
    "`'average_precision'` will optimize parameters for area under the precision-recall curve instead of for accuracy."
   ]
  },
  {
   "cell_type": "code",
   "execution_count": null,
   "metadata": {
    "collapsed": true
   },
   "outputs": [],
   "source": []
  },
  {
   "cell_type": "markdown",
   "metadata": {},
   "source": [
    "#### 2. Examine the best parameters and score. Are they different than the logistic regression gridsearch in part 5?"
   ]
  },
  {
   "cell_type": "code",
   "execution_count": null,
   "metadata": {
    "collapsed": true
   },
   "outputs": [],
   "source": []
  },
  {
   "cell_type": "markdown",
   "metadata": {},
   "source": [
    "#### 3. Create the confusion matrix. Is it different than when you optimized for the accuracy? If so, why would this be?"
   ]
  },
  {
   "cell_type": "code",
   "execution_count": null,
   "metadata": {
    "collapsed": true
   },
   "outputs": [],
   "source": []
  },
  {
   "cell_type": "markdown",
   "metadata": {},
   "source": [
    "#### 4. Plot the precision-recall curve. What does this tell us as opposed to the ROC curve?\n",
    "\n",
    "[See the sklearn plotting example here.](http://scikit-learn.org/stable/auto_examples/model_selection/plot_precision_recall.html)"
   ]
  },
  {
   "cell_type": "code",
   "execution_count": null,
   "metadata": {
    "collapsed": true
   },
   "outputs": [],
   "source": []
  },
  {
   "cell_type": "markdown",
   "metadata": {},
   "source": [
    "## Part 8: [VERY BONUS] Decision trees, ensembles, bagging"
   ]
  },
  {
   "cell_type": "markdown",
   "metadata": {},
   "source": [
    "#### 1. Gridsearch a decision tree classifier model on the data, searching for optimal depth. Create a new decision tree model with the optimal parameters."
   ]
  },
  {
   "cell_type": "code",
   "execution_count": null,
   "metadata": {
    "collapsed": true
   },
   "outputs": [],
   "source": []
  },
  {
   "cell_type": "markdown",
   "metadata": {},
   "source": [
    "#### 2. Compare the performace of the decision tree model to the logistic regression and kNN models."
   ]
  },
  {
   "cell_type": "code",
   "execution_count": null,
   "metadata": {
    "collapsed": true
   },
   "outputs": [],
   "source": []
  },
  {
   "cell_type": "markdown",
   "metadata": {},
   "source": [
    "#### 3. Plot all three optimized models' ROC curves on the same plot. "
   ]
  },
  {
   "cell_type": "code",
   "execution_count": null,
   "metadata": {
    "collapsed": true
   },
   "outputs": [],
   "source": []
  },
  {
   "cell_type": "markdown",
   "metadata": {},
   "source": [
    "#### 4. Use sklearn's BaggingClassifier with the base estimator your optimized decision tree model. How does the performance compare to the single decision tree classifier?"
   ]
  },
  {
   "cell_type": "code",
   "execution_count": null,
   "metadata": {
    "collapsed": true
   },
   "outputs": [],
   "source": []
  },
  {
   "cell_type": "markdown",
   "metadata": {},
   "source": [
    "#### 5. Gridsearch the optimal n_estimators, max_samples, and max_features for the bagging classifier."
   ]
  },
  {
   "cell_type": "code",
   "execution_count": null,
   "metadata": {
    "collapsed": true
   },
   "outputs": [],
   "source": []
  },
  {
   "cell_type": "markdown",
   "metadata": {},
   "source": [
    "#### 6. Create a bagging classifier model with the optimal parameters and compare it's performance to the other two models."
   ]
  },
  {
   "cell_type": "code",
   "execution_count": null,
   "metadata": {
    "collapsed": true
   },
   "outputs": [],
   "source": []
  }
 ],
 "metadata": {
  "kernelspec": {
   "display_name": "Python 2",
   "language": "python",
   "name": "python2"
  },
  "language_info": {
   "codemirror_mode": {
    "name": "ipython",
    "version": 2
   },
   "file_extension": ".py",
   "mimetype": "text/x-python",
   "name": "python",
   "nbconvert_exporter": "python",
   "pygments_lexer": "ipython2",
   "version": "2.7.11"
  }
 },
 "nbformat": 4,
 "nbformat_minor": 0
}
