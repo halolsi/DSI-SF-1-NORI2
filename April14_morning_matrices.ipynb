{
 "cells": [
  {
   "cell_type": "code",
   "execution_count": 3,
   "metadata": {
    "collapsed": true
   },
   "outputs": [],
   "source": [
    "import numpy as np"
   ]
  },
  {
   "cell_type": "code",
   "execution_count": 7,
   "metadata": {
    "collapsed": false
   },
   "outputs": [
    {
     "name": "stdout",
     "output_type": "stream",
     "text": [
      "[1 2 3]\n"
     ]
    }
   ],
   "source": [
    "side = np.array([1,2,3])\n",
    "print sidex"
   ]
  },
  {
   "cell_type": "code",
   "execution_count": 9,
   "metadata": {
    "collapsed": false
   },
   "outputs": [
    {
     "name": "stdout",
     "output_type": "stream",
     "text": [
      "[[1 2 3]\n",
      " [4 5 6]]\n"
     ]
    }
   ],
   "source": [
    "side2 = np.array([[1,2,3],[4,5,6]])\n",
    "print side2"
   ]
  },
  {
   "cell_type": "code",
   "execution_count": 12,
   "metadata": {
    "collapsed": false
   },
   "outputs": [
    {
     "name": "stdout",
     "output_type": "stream",
     "text": [
      "[[[ 1  2  3]\n",
      "  [ 4  5  6]\n",
      "  [ 7  8  9]]\n",
      "\n",
      " [[10 11 12]\n",
      "  [13 14 15]\n",
      "  [16 17 18]]\n",
      "\n",
      " [[19 20 21]\n",
      "  [22 23 24]\n",
      "  [25 26 27]]]\n"
     ]
    }
   ],
   "source": [
    "side3 = np.array([[[1,2,3],[4,5,6],[7,8,9]],[[10,11,12],[13,14,15],[16,17,18]],[[19,20,21],[22,23,24],[25,26,27]]])\n",
    "print side3"
   ]
  },
  {
   "cell_type": "code",
   "execution_count": 23,
   "metadata": {
    "collapsed": false
   },
   "outputs": [
    {
     "name": "stdout",
     "output_type": "stream",
     "text": [
      "['x1y1' 'x1y2' 'x1y3' 'x1y4' 'x1y5' 'x1y6' 'x1y7' 'x1y8']\n"
     ]
    }
   ],
   "source": [
    "array1x8 = np.array([\"x1y1\",\"x1y2\",\"x1y3\",\"x1y4\",\"x1y5\",\"x1y6\",\"x1y7\",\"x1y8\"])\n",
    "print array1x8                "
   ]
  },
  {
   "cell_type": "code",
   "execution_count": 35,
   "metadata": {
    "collapsed": false
   },
   "outputs": [
    {
     "name": "stdout",
     "output_type": "stream",
     "text": [
      "[['x1y1' 'x1y2' 'x1y3' 'x1y4' 'x1y5' 'x1y6' 'x1y7' 'x1y8']\n",
      " ['x1y1' 'x1y2' 'x1y3' 'x1y4' 'x1y5' 'x1y6' 'x1y7' 'x1y8']\n",
      " ['x1y1' 'x1y2' 'x1y3' 'x1y4' 'x1y5' 'x1y6' 'x1y7' 'x1y8']\n",
      " ['x1y1' 'x1y2' 'x1y3' 'x1y4' 'x1y5' 'x1y6' 'x1y7' 'x1y8']\n",
      " ['x1y1' 'x1y2' 'x1y3' 'x1y4' 'x1y5' 'x1y6' 'x1y7' 'x1y8']]\n"
     ]
    }
   ],
   "source": [
    "array5x8 = np.array([array1x8,array1x8,array1x8,array1x8,array1x8])\n",
    "print array5x8"
   ]
  },
  {
   "cell_type": "code",
   "execution_count": 44,
   "metadata": {
    "collapsed": false
   },
   "outputs": [
    {
     "name": "stdout",
     "output_type": "stream",
     "text": [
      "[-5 -3 -1  1  3  5]\n",
      "[ 5  3  1 -1 -3 -5]\n",
      "[ 702.        -300.33       146.22      -426.3000003    7.3234      -4.234    ]\n",
      "0 601\n",
      "<type 'int'>\n",
      "1 -501.33\n",
      "<type 'float'>\n",
      "2 113\n",
      "<type 'int'>\n",
      "3 -3.3000003\n",
      "<type 'float'>\n",
      "4 l\n",
      "<type 'str'>\n",
      "found str\n",
      "5 11.0\n",
      "<type 'float'>\n",
      "[-702.         300.33      -146.22       426.3000003   -5.3234     -45.       ]\n",
      "34542.5698731\n"
     ]
    }
   ],
   "source": [
    "#Set 1 - Add\n",
    "a = [1, 2, 3, 4, 5, 6]\n",
    "b = [-6, -5, -4, -3, -2, -1]\n",
    "\n",
    "import numpy as np\n",
    "\n",
    "z = np.add(a,b)\n",
    "print z\n",
    "\n",
    "#Set 2 - Subtract\n",
    "a = [-1, -2, -3, -4, -5, -6]\n",
    "b = [-6, -5, -4, -3, -2, -1]\n",
    "\n",
    "z = np.subtract(a,b)\n",
    "print z\n",
    "\n",
    "#Set 3 - Subtract\n",
    "a = [101, 201, 33.22, -423, 5.3234, -6.234]\n",
    "b = [-601, 501.33, -113, 3.3000003, -2, -1.999999999999999]\n",
    "\n",
    "z = np.subtract(a,b)\n",
    "print z\n",
    "\n",
    "#Set 4 - Subtract\n",
    "a = [-101, -201, -33.22, 423, -5.3234, -34]\n",
    "b = [601, -501.33, 113, -3.3000003, 'l', 10.999999999999999]\n",
    "\n",
    "\n",
    "for index, value in enumerate(b):\n",
    "    print index, value\n",
    "    print type(value)\n",
    "    if type(value) == str:\n",
    "        print \"found str\"\n",
    "        b[index] = 0\n",
    "        \n",
    "z = np.subtract(a,b)\n",
    "print z\n",
    "\n",
    "z = np.dot(a,b)\n",
    "print z"
   ]
  },
  {
   "cell_type": "code",
   "execution_count": 50,
   "metadata": {
    "collapsed": false
   },
   "outputs": [
    {
     "name": "stdout",
     "output_type": "stream",
     "text": [
      "3D\n",
      "[[[1]\n",
      "  [2]]\n",
      "\n",
      " [[2]\n",
      "  [4]]\n",
      "\n",
      " [[3]\n",
      "  [6]]]\n",
      "5D\n",
      "[[[[[  1]\n",
      "    [  2]]\n",
      "\n",
      "   [[  2]\n",
      "    [  4]]\n",
      "\n",
      "   [[  3]\n",
      "    [  6]]]\n",
      "\n",
      "\n",
      "  [[[  2]\n",
      "    [  4]]\n",
      "\n",
      "   [[  4]\n",
      "    [  8]]\n",
      "\n",
      "   [[  6]\n",
      "    [ 12]]]\n",
      "\n",
      "\n",
      "  [[[  3]\n",
      "    [  6]]\n",
      "\n",
      "   [[  6]\n",
      "    [ 12]]\n",
      "\n",
      "   [[  9]\n",
      "    [ 18]]]\n",
      "\n",
      "\n",
      "  [[[  4]\n",
      "    [  8]]\n",
      "\n",
      "   [[  8]\n",
      "    [ 16]]\n",
      "\n",
      "   [[ 12]\n",
      "    [ 24]]]]\n",
      "\n",
      "\n",
      "\n",
      " [[[[  2]\n",
      "    [  4]]\n",
      "\n",
      "   [[  4]\n",
      "    [  8]]\n",
      "\n",
      "   [[  6]\n",
      "    [ 12]]]\n",
      "\n",
      "\n",
      "  [[[  4]\n",
      "    [  8]]\n",
      "\n",
      "   [[  8]\n",
      "    [ 16]]\n",
      "\n",
      "   [[ 12]\n",
      "    [ 24]]]\n",
      "\n",
      "\n",
      "  [[[  6]\n",
      "    [ 12]]\n",
      "\n",
      "   [[ 12]\n",
      "    [ 24]]\n",
      "\n",
      "   [[ 18]\n",
      "    [ 36]]]\n",
      "\n",
      "\n",
      "  [[[  8]\n",
      "    [ 16]]\n",
      "\n",
      "   [[ 16]\n",
      "    [ 32]]\n",
      "\n",
      "   [[ 24]\n",
      "    [ 48]]]]\n",
      "\n",
      "\n",
      "\n",
      " [[[[  3]\n",
      "    [  6]]\n",
      "\n",
      "   [[  6]\n",
      "    [ 12]]\n",
      "\n",
      "   [[  9]\n",
      "    [ 18]]]\n",
      "\n",
      "\n",
      "  [[[  6]\n",
      "    [ 12]]\n",
      "\n",
      "   [[ 12]\n",
      "    [ 24]]\n",
      "\n",
      "   [[ 18]\n",
      "    [ 36]]]\n",
      "\n",
      "\n",
      "  [[[  9]\n",
      "    [ 18]]\n",
      "\n",
      "   [[ 18]\n",
      "    [ 36]]\n",
      "\n",
      "   [[ 27]\n",
      "    [ 54]]]\n",
      "\n",
      "\n",
      "  [[[ 12]\n",
      "    [ 24]]\n",
      "\n",
      "   [[ 24]\n",
      "    [ 48]]\n",
      "\n",
      "   [[ 36]\n",
      "    [ 72]]]]\n",
      "\n",
      "\n",
      "\n",
      " [[[[  4]\n",
      "    [  8]]\n",
      "\n",
      "   [[  8]\n",
      "    [ 16]]\n",
      "\n",
      "   [[ 12]\n",
      "    [ 24]]]\n",
      "\n",
      "\n",
      "  [[[  8]\n",
      "    [ 16]]\n",
      "\n",
      "   [[ 16]\n",
      "    [ 32]]\n",
      "\n",
      "   [[ 24]\n",
      "    [ 48]]]\n",
      "\n",
      "\n",
      "  [[[ 12]\n",
      "    [ 24]]\n",
      "\n",
      "   [[ 24]\n",
      "    [ 48]]\n",
      "\n",
      "   [[ 36]\n",
      "    [ 72]]]\n",
      "\n",
      "\n",
      "  [[[ 16]\n",
      "    [ 32]]\n",
      "\n",
      "   [[ 32]\n",
      "    [ 64]]\n",
      "\n",
      "   [[ 48]\n",
      "    [ 96]]]]\n",
      "\n",
      "\n",
      "\n",
      " [[[[  5]\n",
      "    [ 10]]\n",
      "\n",
      "   [[ 10]\n",
      "    [ 20]]\n",
      "\n",
      "   [[ 15]\n",
      "    [ 30]]]\n",
      "\n",
      "\n",
      "  [[[ 10]\n",
      "    [ 20]]\n",
      "\n",
      "   [[ 20]\n",
      "    [ 40]]\n",
      "\n",
      "   [[ 30]\n",
      "    [ 60]]]\n",
      "\n",
      "\n",
      "  [[[ 15]\n",
      "    [ 30]]\n",
      "\n",
      "   [[ 30]\n",
      "    [ 60]]\n",
      "\n",
      "   [[ 45]\n",
      "    [ 90]]]\n",
      "\n",
      "\n",
      "  [[[ 20]\n",
      "    [ 40]]\n",
      "\n",
      "   [[ 40]\n",
      "    [ 80]]\n",
      "\n",
      "   [[ 60]\n",
      "    [120]]]]]\n"
     ]
    }
   ],
   "source": [
    "side1 = np.array([1])\n",
    "#print sidex #1D\n",
    "side2 = np.array([side1*1,side1*2])\n",
    "#print side2 #2D\n",
    "side3 = np.array([side2*1, side2*2, side2*3])\n",
    "print \"3D\"\n",
    "print side3 #3D\n",
    "side4 = np.array([side3*1, side3*2, side3*3, side3*4])\n",
    "#print side4 #4D\n",
    "side5 = np.array([side4*1, side4*2, side4*3, side4*4, side4*5])\n",
    "print \"5D\"\n",
    "print side5 #5D"
   ]
  },
  {
   "cell_type": "code",
   "execution_count": null,
   "metadata": {
    "collapsed": true
   },
   "outputs": [],
   "source": []
  },
  {
   "cell_type": "code",
   "execution_count": 7,
   "metadata": {
    "collapsed": false
   },
   "outputs": [
    {
     "name": "stdout",
     "output_type": "stream",
     "text": [
      "-56\n"
     ]
    }
   ],
   "source": [
    "a = [1, 2, 3, 4, 5, 6]\n",
    "b = [-6, -5, -4, -3, -2, -1]\n",
    "\n",
    "z = np.dot(a,b)\n",
    "print z"
   ]
  },
  {
   "cell_type": "code",
   "execution_count": 8,
   "metadata": {
    "collapsed": false
   },
   "outputs": [
    {
     "ename": "AttributeError",
     "evalue": "'list' object has no attribute 'reshape'",
     "output_type": "error",
     "traceback": [
      "\u001b[0;31m---------------------------------------------------------------------------\u001b[0m",
      "\u001b[0;31mAttributeError\u001b[0m                            Traceback (most recent call last)",
      "\u001b[0;32m<ipython-input-8-0ef92f1139f6>\u001b[0m in \u001b[0;36m<module>\u001b[0;34m()\u001b[0m\n\u001b[1;32m      1\u001b[0m \u001b[0mx\u001b[0m \u001b[0;34m=\u001b[0m \u001b[0;36m4\u001b[0m\u001b[0;34m**\u001b[0m\u001b[0;36m4\u001b[0m\u001b[0;34m\u001b[0m\u001b[0m\n\u001b[1;32m      2\u001b[0m \u001b[0mx\u001b[0m \u001b[0;34m=\u001b[0m \u001b[0mnp\u001b[0m\u001b[0;34m.\u001b[0m\u001b[0marange\u001b[0m\u001b[0;34m(\u001b[0m\u001b[0;36m0\u001b[0m\u001b[0;34m,\u001b[0m\u001b[0mx\u001b[0m\u001b[0;34m)\u001b[0m\u001b[0;34m\u001b[0m\u001b[0m\n\u001b[0;32m----> 3\u001b[0;31m \u001b[0my\u001b[0m \u001b[0;34m=\u001b[0m \u001b[0ma\u001b[0m\u001b[0;34m.\u001b[0m\u001b[0mreshape\u001b[0m\u001b[0;34m(\u001b[0m\u001b[0;36m4\u001b[0m\u001b[0;34m,\u001b[0m\u001b[0;36m4\u001b[0m\u001b[0;34m,\u001b[0m\u001b[0;36m4\u001b[0m\u001b[0;34m,\u001b[0m\u001b[0;36m4\u001b[0m\u001b[0;34m)\u001b[0m\u001b[0;34m\u001b[0m\u001b[0m\n\u001b[0m\u001b[1;32m      4\u001b[0m \u001b[0;32mprint\u001b[0m \u001b[0my\u001b[0m\u001b[0;34m\u001b[0m\u001b[0m\n",
      "\u001b[0;31mAttributeError\u001b[0m: 'list' object has no attribute 'reshape'"
     ]
    }
   ],
   "source": [
    "x = 4**4\n",
    "x = np.arange(0,x)\n",
    "y = a.reshape(4,4,4,4)\n",
    "print y"
   ]
  },
  {
   "cell_type": "code",
   "execution_count": null,
   "metadata": {
    "collapsed": true
   },
   "outputs": [],
   "source": []
  }
 ],
 "metadata": {
  "kernelspec": {
   "display_name": "Python 2",
   "language": "python",
   "name": "python2"
  },
  "language_info": {
   "codemirror_mode": {
    "name": "ipython",
    "version": 2
   },
   "file_extension": ".py",
   "mimetype": "text/x-python",
   "name": "python",
   "nbconvert_exporter": "python",
   "pygments_lexer": "ipython2",
   "version": "2.7.11"
  }
 },
 "nbformat": 4,
 "nbformat_minor": 0
}
