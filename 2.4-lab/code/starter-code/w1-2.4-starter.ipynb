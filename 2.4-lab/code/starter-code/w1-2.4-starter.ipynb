{
 "cells": [
  {
   "cell_type": "code",
   "execution_count": 3,
   "metadata": {
    "collapsed": false
   },
   "outputs": [],
   "source": [
    "# Dictionary of movies\n",
    "\n",
    "movies = [\n",
    "{\n",
    "\"name\": \"Usual Suspects\", \n",
    "\"imdb\": 7.0,\n",
    "\"category\": \"Thriller\"\n",
    "},\n",
    "{\n",
    "\"name\": \"Hitman\",\n",
    "\"imdb\": 6.3,\n",
    "\"category\": \"Action\"\n",
    "},\n",
    "{\n",
    "\"name\": \"Dark Knight\",\n",
    "\"imdb\": 9.0,\n",
    "\"category\": \"Adventure\"\n",
    "},\n",
    "{\n",
    "\"name\": \"The Help\",\n",
    "\"imdb\": 8.0,\n",
    "\"category\": \"Drama\"\n",
    "},\n",
    "{\n",
    "\"name\": \"The Choice\",\n",
    "\"imdb\": 6.2,\n",
    "\"category\": \"Romance\"\n",
    "},\n",
    "{\n",
    "\"name\": \"Colonia\",\n",
    "\"imdb\": 7.4,\n",
    "\"category\": \"Romance\"\n",
    "},\n",
    "{\n",
    "\"name\": \"Love\",\n",
    "\"imdb\": 6.0,\n",
    "\"category\": \"Romance\"\n",
    "},\n",
    "{\n",
    "\"name\": \"Bride Wars\",\n",
    "\"imdb\": 5.4,\n",
    "\"category\": \"Romance\"\n",
    "},\n",
    "{\n",
    "\"name\": \"AlphaJet\",\n",
    "\"imdb\": 3.2,\n",
    "\"category\": \"War\"\n",
    "},\n",
    "{\n",
    "\"name\": \"Ringing Crime\",\n",
    "\"imdb\": 4.0,\n",
    "\"category\": \"Crime\"\n",
    "},\n",
    "{\n",
    "\"name\": \"Joking muck\",\n",
    "\"imdb\": 7.2,\n",
    "\"category\": \"Comedy\"\n",
    "},\n",
    "{\n",
    "\"name\": \"What is the name\",\n",
    "\"imdb\": 9.2,\n",
    "\"category\": \"Suspense\"\n",
    "},\n",
    "{\n",
    "\"name\": \"Detective\",\n",
    "\"imdb\": 7.0,\n",
    "\"category\": \"Suspense\"\n",
    "},\n",
    "{\n",
    "\"name\": \"Exam\",\n",
    "\"imdb\": 4.2,\n",
    "\"category\": \"Thriller\"\n",
    "},\n",
    "{\n",
    "\"name\": \"We Two\",\n",
    "\"imdb\": 7.2,\n",
    "\"category\": \"Romance\"\n",
    "}\n",
    "]"
   ]
  },
  {
   "cell_type": "code",
   "execution_count": 36,
   "metadata": {
    "collapsed": false
   },
   "outputs": [
    {
     "name": "stdout",
     "output_type": "stream",
     "text": [
      "15\n",
      "{'category': 'Thriller', 'imdb': 7.0, 'name': 'Usual Suspects'}\n",
      "True\n",
      "{'category': 'Action', 'imdb': 6.3, 'name': 'Hitman'}\n",
      "True\n",
      "{'category': 'Adventure', 'imdb': 9.0, 'name': 'Dark Knight'}\n",
      "True\n",
      "{'category': 'Drama', 'imdb': 8.0, 'name': 'The Help'}\n",
      "True\n",
      "{'category': 'Romance', 'imdb': 6.2, 'name': 'The Choice'}\n",
      "True\n",
      "{'category': 'Romance', 'imdb': 7.4, 'name': 'Colonia'}\n",
      "True\n",
      "{'category': 'Romance', 'imdb': 6.0, 'name': 'Love'}\n",
      "True\n",
      "{'category': 'Romance', 'imdb': 5.4, 'name': 'Bride Wars'}\n",
      "False\n",
      "{'category': 'War', 'imdb': 3.2, 'name': 'AlphaJet'}\n",
      "False\n",
      "{'category': 'Crime', 'imdb': 4.0, 'name': 'Ringing Crime'}\n",
      "False\n",
      "{'category': 'Comedy', 'imdb': 7.2, 'name': 'Joking muck'}\n",
      "True\n",
      "{'category': 'Suspense', 'imdb': 9.2, 'name': 'What is the name'}\n",
      "True\n",
      "{'category': 'Suspense', 'imdb': 7.0, 'name': 'Detective'}\n",
      "True\n",
      "{'category': 'Thriller', 'imdb': 4.2, 'name': 'Exam'}\n",
      "False\n",
      "{'category': 'Romance', 'imdb': 7.2, 'name': 'We Two'}\n",
      "True\n"
     ]
    }
   ],
   "source": [
    "# Write a function that takes a single movie and \n",
    "# returns True if its IMDB score is above 5.5\n",
    "\n",
    "#for single in movies:\n",
    "##    print \" - \" + str(single)\n",
    "#    print single['imdb']\n",
    "#    y = False\n",
    "#    if single['imdb'] > 5.5:\n",
    "#        print \"BIG y\"\n",
    "#        y = True\n",
    "#return y\n",
    "\n",
    "def imdb(movie):\n",
    "    y = False\n",
    "    print movie\n",
    "    if movie['imdb'] > 5.5:\n",
    "        y = True\n",
    "    return y\n",
    "\n",
    "for i in range(0,len(movies)):\n",
    "    print imdb(movies[i])\n",
    "\n"
   ]
  },
  {
   "cell_type": "code",
   "execution_count": 39,
   "metadata": {
    "collapsed": false
   },
   "outputs": [
    {
     "name": "stdout",
     "output_type": "stream",
     "text": [
      "Enter text, [type \"stop\" to quit]: BOOO\n",
      "booo\n",
      "Enter text, [type \"stop\" to quit]: hello\n",
      "hello\n",
      "Enter text, [type \"stop\" to quit]: dpoidfspoijdfpos\n",
      "dpoidfspoijdfpos\n",
      "Enter text, [type \"stop\" to quit]: PSODIJFAPSODFIJ\n",
      "psodijfapsodfij\n",
      "Enter text, [type \"stop\" to quit]: STOP\n",
      "stop\n",
      "Enter text, [type \"stop\" to quit]: stop\n",
      "stop\n"
     ]
    }
   ],
   "source": [
    "while True:\n",
    "    reply = raw_input('Enter text, [type \"stop\" to quit]: ')\n",
    "    print reply.lower()\n",
    "    if reply == 'stop':\n",
    "        break"
   ]
  },
  {
   "cell_type": "code",
   "execution_count": 80,
   "metadata": {
    "collapsed": false
   },
   "outputs": [
    {
     "name": "stdout",
     "output_type": "stream",
     "text": [
      "['Usual Suspects', 'Hitman', 'Dark Knight', 'The Help', 'The Choice', 'Colonia', 'Love', 'Joking muck', 'What is the name', 'Detective', 'We Two']\n"
     ]
    }
   ],
   "source": [
    "# Write a function that returns a sublist of movies \n",
    "# with an IMDB score above 5.5. \n",
    "\n",
    "def imdb(movie):    \n",
    "    y = None\n",
    "    if movie['imdb'] > 5.5:\n",
    "        y = movie['name']\n",
    "    return y\n",
    "\n",
    "z=[]\n",
    "\n",
    "for i in range(0,len(movies)):\n",
    "    p = imdb(movies[i])\n",
    "    if p != None:\n",
    "        z.append(p)\n",
    "print z    "
   ]
  },
  {
   "cell_type": "code",
   "execution_count": 77,
   "metadata": {
    "collapsed": false
   },
   "outputs": [
    {
     "data": {
      "text/plain": [
       "15"
      ]
     },
     "execution_count": 77,
     "metadata": {},
     "output_type": "execute_result"
    }
   ],
   "source": [
    "len(movies)"
   ]
  },
  {
   "cell_type": "code",
   "execution_count": 3,
   "metadata": {
    "collapsed": false
   },
   "outputs": [],
   "source": [
    "# Write a function that takes a category name and returns \n",
    "# just those movies under that category."
   ]
  },
  {
   "cell_type": "code",
   "execution_count": 54,
   "metadata": {
    "collapsed": false
   },
   "outputs": [
    {
     "name": "stdout",
     "output_type": "stream",
     "text": [
      "alpha\n",
      "0\n",
      "bravo\n",
      "1\n",
      "charlie\n",
      "2\n",
      "delta\n",
      "3\n",
      "epsilon\n",
      "4\n",
      "True\n"
     ]
    }
   ],
   "source": [
    "i = 0\n",
    "z = [\"alpha\",\"bravo\",\"charlie\",\"delta\",\"epsilon\"]\n",
    "\n",
    "#print len(z)\n",
    "while i < 10:\n",
    "    print z[i]\n",
    "    print i\n",
    "    i = i + 1\n",
    "    if i > len(z)-1: \n",
    "        print i > len(z) -1\n",
    "        break\n"
   ]
  },
  {
   "cell_type": "code",
   "execution_count": 73,
   "metadata": {
    "collapsed": false
   },
   "outputs": [
    {
     "name": "stdout",
     "output_type": "stream",
     "text": [
      "0 7.0 7.0\n",
      "1 6.3 13.3\n",
      "2 9.0 22.3\n",
      "3 8.0 30.3\n",
      "4 6.2 36.5\n",
      "5 7.4 43.9\n",
      "6 6.0 49.9\n",
      "7 5.4 55.3\n",
      "8 3.2 58.5\n",
      "9 4.0 62.5\n",
      "10 7.2 69.7\n",
      "11 9.2 78.9\n",
      "12 7.0 85.9\n",
      "13 4.2 90.1\n",
      "14 7.2 97.3\n",
      "6.48666666667\n"
     ]
    }
   ],
   "source": [
    "# Write a function that takes a list of movies and computes \n",
    "# the average IMDB score.\n",
    "\n",
    "def imdb(movie):\n",
    "    return movie['imdb']\n",
    "\n",
    "imdb_sum = 0\n",
    "\n",
    "for i in range(0,len(movies)):\n",
    "    imdb_sum = imdb_sum + imdb(movies[i])\n",
    "    print str(i) + \" \" + str(imdb(movies[i]))+ \" \" + str(imdb_sum)\n",
    "\n",
    "#print len(movies)\n",
    "imdb_average = imdb_sum/len(movies)\n",
    "print imdb_average\n",
    "    \n",
    "    \n"
   ]
  },
  {
   "cell_type": "code",
   "execution_count": 82,
   "metadata": {
    "collapsed": false
   },
   "outputs": [
    {
     "name": "stdout",
     "output_type": "stream",
     "text": [
      "4 6.2 6.2\n",
      "5 7.4 13.6\n",
      "6 6.0 19.6\n",
      "7 5.4 25.0\n",
      "14 7.2 32.2\n",
      "6.44\n"
     ]
    }
   ],
   "source": [
    "# Write a function that takes a category and computes \n",
    "# the average IMDB score (HINT: reuse the function \n",
    "# from question 2.)\n",
    "\n",
    "def category(movie):\n",
    "    return movie['category']\n",
    "\n",
    "def imdb(movie):\n",
    "    return movie['imdb']\n",
    "\n",
    "imdb_sum = 0\n",
    "\n",
    "category_sum = \"Romance\"\n",
    "movie_sum = 0\n",
    "\n",
    "for i in range(0,len(movies)):\n",
    "    if category(movies[i]) == category_sum:\n",
    "        imdb_sum = imdb_sum + imdb(movies[i])\n",
    "        movie_sum = movie_sum + 1\n",
    "        print str(i) + \" \" + str(imdb(movies[i]))+ \" \" + str(imdb_sum)\n",
    "\n",
    "#print len(movies)\n",
    "imdb_average = imdb_sum/movie_sum\n",
    "print imdb_average"
   ]
  },
  {
   "cell_type": "code",
   "execution_count": null,
   "metadata": {
    "collapsed": true
   },
   "outputs": [],
   "source": []
  }
 ],
 "metadata": {
  "kernelspec": {
   "display_name": "Python 2",
   "language": "python",
   "name": "python2"
  },
  "language_info": {
   "codemirror_mode": {
    "name": "ipython",
    "version": 2
   },
   "file_extension": ".py",
   "mimetype": "text/x-python",
   "name": "python",
   "nbconvert_exporter": "python",
   "pygments_lexer": "ipython2",
   "version": "2.7.11"
  }
 },
 "nbformat": 4,
 "nbformat_minor": 0
}
