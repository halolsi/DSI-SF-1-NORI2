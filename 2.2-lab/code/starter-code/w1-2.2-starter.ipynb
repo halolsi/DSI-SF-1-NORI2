{
 "cells": [
  {
   "cell_type": "code",
   "execution_count": 14,
   "metadata": {
    "collapsed": true
   },
   "outputs": [],
   "source": [
    "# write a function with one argument. Find the area of a square. \n",
    "def areaSquare(side): \n",
    "    y= side**2\n",
    "    return(y)\n"
   ]
  },
  {
   "cell_type": "code",
   "execution_count": 15,
   "metadata": {
    "collapsed": false
   },
   "outputs": [],
   "source": [
    "# write a function with two arguments. Find the area of a rectangle. \n",
    "def areaRect(length,breadth):\n",
    "    y = length * breadth\n",
    "    return(y)\n"
   ]
  },
  {
   "cell_type": "code",
   "execution_count": 21,
   "metadata": {
    "collapsed": false
   },
   "outputs": [],
   "source": [
    "# write a function with three arguments. Find the surface area of cuboid.\n",
    "def surfaceAreaCuboid(length,breadth,height): \n",
    "    area=2*(length*breadth+breadth*height+length*height)\n",
    "    return(area)"
   ]
  },
  {
   "cell_type": "code",
   "execution_count": 6,
   "metadata": {
    "collapsed": false
   },
   "outputs": [
    {
     "name": "stdout",
     "output_type": "stream",
     "text": [
      "16\n"
     ]
    },
    {
     "data": {
      "text/plain": [
       "16"
      ]
     },
     "execution_count": 6,
     "metadata": {},
     "output_type": "execute_result"
    }
   ],
   "source": []
  },
  {
   "cell_type": "code",
   "execution_count": 8,
   "metadata": {
    "collapsed": false
   },
   "outputs": [
    {
     "name": "stdout",
     "output_type": "stream",
     "text": [
      "4\n"
     ]
    },
    {
     "data": {
      "text/plain": [
       "4"
      ]
     },
     "execution_count": 8,
     "metadata": {},
     "output_type": "execute_result"
    }
   ],
   "source": [
    "areaRect(4,1)"
   ]
  },
  {
   "cell_type": "code",
   "execution_count": 37,
   "metadata": {
    "collapsed": false
   },
   "outputs": [
    {
     "name": "stdout",
     "output_type": "stream",
     "text": [
      "square 1\n",
      "rect 2\n",
      "cuboid surface area 16\n",
      "square 4\n",
      "rect 6\n",
      "cuboid surface area 42\n",
      "square 9\n",
      "rect 12\n",
      "cuboid surface area 80\n",
      "square 16\n",
      "rect 20\n",
      "cuboid surface area 130\n",
      "square 25\n",
      "rect 30\n",
      "cuboid surface area 192\n",
      "square 36\n",
      "rect 42\n",
      "cuboid surface area 266\n",
      "square 49\n",
      "rect 56\n",
      "cuboid surface area 352\n",
      "square 64\n",
      "rect 72\n",
      "cuboid surface area 450\n",
      "square 81\n",
      "rect 90\n",
      "cuboid surface area 560\n",
      "square 100\n",
      "rect 110\n",
      "cuboid surface area 682\n"
     ]
    }
   ],
   "source": [
    "def norifunction():\n",
    "    for number in range(1,11): \n",
    "        print \"square \" + str(areaSquare(number))\n",
    "        print \"rect \" + str(areaRect(number,number+1))\n",
    "        print \"cuboid surface area \" + str(surfaceAreaCuboid(number,number+1,number+1))\n",
    "    return\n",
    "\n",
    "norifunction()\n"
   ]
  },
  {
   "cell_type": "code",
   "execution_count": null,
   "metadata": {
    "collapsed": true
   },
   "outputs": [],
   "source": []
  }
 ],
 "metadata": {
  "kernelspec": {
   "display_name": "Python 2",
   "language": "python",
   "name": "python2"
  },
  "language_info": {
   "codemirror_mode": {
    "name": "ipython",
    "version": 2
   },
   "file_extension": ".py",
   "mimetype": "text/x-python",
   "name": "python",
   "nbconvert_exporter": "python",
   "pygments_lexer": "ipython2",
   "version": "2.7.11"
  }
 },
 "nbformat": 4,
 "nbformat_minor": 0
}
