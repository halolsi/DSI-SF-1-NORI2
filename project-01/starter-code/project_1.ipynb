{
 "cells": [
  {
   "cell_type": "markdown",
   "metadata": {},
   "source": [
    "# Project 1\n",
    "\n",
    "## Step 1: Open the `sat_scores.csv` file. Investigate the data, and answer the questions below.\n"
   ]
  },
  {
   "cell_type": "markdown",
   "metadata": {},
   "source": [
    "##### 1. What does the data describe?"
   ]
  },
  {
   "cell_type": "markdown",
   "metadata": {},
   "source": [
    "# This will be big\n",
    "## This will be smaller\n",
    "* This is a **bold** *italicized* bullet"
   ]
  },
  {
   "cell_type": "markdown",
   "metadata": {},
   "source": [
    "##### 2. Does the data look complete? Are there any obvious issues with the observations?"
   ]
  },
  {
   "cell_type": "markdown",
   "metadata": {},
   "source": []
  },
  {
   "cell_type": "markdown",
   "metadata": {},
   "source": [
    "##### 3. Create a data dictionary for the dataset."
   ]
  },
  {
   "cell_type": "markdown",
   "metadata": {
    "collapsed": true
   },
   "source": []
  },
  {
   "cell_type": "markdown",
   "metadata": {},
   "source": [
    "## Step 2: Load the data."
   ]
  },
  {
   "cell_type": "markdown",
   "metadata": {},
   "source": [
    "##### 4. Load the data into a list of lists"
   ]
  },
  {
   "cell_type": "code",
   "execution_count": 5,
   "metadata": {
    "collapsed": false
   },
   "outputs": [],
   "source": [
    "import numpy as np\n",
    "import scipy.stats as stats\n",
    "import csv\n",
    "import seaborn as sns\n",
    "%matplotlib inline\n",
    "\n",
    "sales_csv_path = '../assets/sat_scores.csv'\n"
   ]
  },
  {
   "cell_type": "code",
   "execution_count": 6,
   "metadata": {
    "collapsed": false
   },
   "outputs": [
    {
     "data": {
      "text/plain": [
       "u'/Users/noriogura/Desktop/DSI-SF-1-NORI2/project-01/starter-code'"
      ]
     },
     "execution_count": 6,
     "metadata": {},
     "output_type": "execute_result"
    }
   ],
   "source": [
    "pwd\n"
   ]
  },
  {
   "cell_type": "markdown",
   "metadata": {},
   "source": [
    "##### 5. Print the data"
   ]
  },
  {
   "cell_type": "code",
   "execution_count": 7,
   "metadata": {
    "collapsed": false
   },
   "outputs": [
    {
     "name": "stdout",
     "output_type": "stream",
     "text": [
      "['State', 'Rate', 'Verbal', 'Math']\n",
      "['CT', '82', '509', '510']\n",
      "['NJ', '81', '499', '513']\n",
      "['MA', '79', '511', '515']\n",
      "['NY', '77', '495', '505']\n",
      "['NH', '72', '520', '516']\n",
      "['RI', '71', '501', '499']\n",
      "['PA', '71', '500', '499']\n",
      "['VT', '69', '511', '506']\n",
      "['ME', '69', '506', '500']\n",
      "['VA', '68', '510', '501']\n",
      "['DE', '67', '501', '499']\n",
      "['MD', '65', '508', '510']\n",
      "['NC', '65', '493', '499']\n",
      "['GA', '63', '491', '489']\n",
      "['IN', '60', '499', '501']\n",
      "['SC', '57', '486', '488']\n",
      "['DC', '56', '482', '474']\n",
      "['OR', '55', '526', '526']\n",
      "['FL', '54', '498', '499']\n",
      "['WA', '53', '527', '527']\n",
      "['TX', '53', '493', '499']\n",
      "['HI', '52', '485', '515']\n",
      "['AK', '51', '514', '510']\n",
      "['CA', '51', '498', '517']\n",
      "['AZ', '34', '523', '525']\n",
      "['NV', '33', '509', '515']\n",
      "['CO', '31', '539', '542']\n",
      "['OH', '26', '534', '439']\n",
      "['MT', '23', '539', '539']\n",
      "['WV', '18', '527', '512']\n",
      "['ID', '17', '543', '542']\n",
      "['TN', '13', '562', '553']\n",
      "['NM', '13', '551', '542']\n",
      "['IL', '12', '576', '589']\n",
      "['KY', '12', '550', '550']\n",
      "['WY', '11', '547', '545']\n",
      "['MI', '11', '561', '572']\n",
      "['MN', '9', '580', '589']\n",
      "['KS', '9', '577', '580']\n",
      "['AL', '9', '559', '554']\n",
      "['NB', '8', '562', '568']\n",
      "['OK', '8', '567', '561']\n",
      "['MO', '8', '577', '577']\n",
      "['LA', '7', '564', '562']\n",
      "['WI', '6', '584', '596']\n",
      "['AR', '6', '562', '550']\n",
      "['UT', '5', '575', '570']\n",
      "['IA', '5', '593', '603']\n",
      "['SD', '4', '577', '582']\n",
      "['ND', '4', '592', '599']\n",
      "['MS', '4', '566', '551']\n",
      "['All', '45', '506', '514']\n"
     ]
    }
   ],
   "source": [
    "with open(sales_csv_path, 'r') as f:\n",
    "    reader = csv.reader(f)\n",
    "    for row in reader:\n",
    "        print row"
   ]
  },
  {
   "cell_type": "markdown",
   "metadata": {
    "collapsed": true
   },
   "source": [
    "##### 6. Extract a list of the labels from the data, and remove them from the data."
   ]
  },
  {
   "cell_type": "code",
   "execution_count": 8,
   "metadata": {
    "collapsed": false
   },
   "outputs": [
    {
     "name": "stdout",
     "output_type": "stream",
     "text": [
      "['State', 'Rate', 'Verbal', 'Math']\n"
     ]
    }
   ],
   "source": [
    "with open(sales_csv_path, 'r') as f:\n",
    "    \n",
    "    reader = csv.reader(f)\n",
    "    list = []\n",
    "    \n",
    "    for row in reader:\n",
    "        list.append(row)\n",
    "            \n",
    "    header = list[0]\n",
    "    body = []\n",
    "    \n",
    "    i = 0\n",
    "    \n",
    "    while i < len(list) - 1:\n",
    "        i = i + 1\n",
    "        body.append(list[i])\n",
    "        \n",
    "    print header"
   ]
  },
  {
   "cell_type": "markdown",
   "metadata": {},
   "source": [
    "##### 7. Create a list of State names extracted from the data. (Hint: use the list of labels to index on the State column)"
   ]
  },
  {
   "cell_type": "code",
   "execution_count": 15,
   "metadata": {
    "collapsed": false
   },
   "outputs": [
    {
     "name": "stdout",
     "output_type": "stream",
     "text": [
      "{'Math': ['510', '513', '515', '505', '516', '499', '499', '506', '500', '501', '499', '510', '499', '489', '501', '488', '474', '526', '499', '527', '499', '515', '510', '517', '525', '515', '542', '439', '539', '512', '542', '553', '542', '589', '550', '545', '572', '589', '580', '554', '568', '561', '577', '562', '596', '550', '570', '603', '582', '599', '551', '514'], 'State': ['CT', 'NJ', 'MA', 'NY', 'NH', 'RI', 'PA', 'VT', 'ME', 'VA', 'DE', 'MD', 'NC', 'GA', 'IN', 'SC', 'DC', 'OR', 'FL', 'WA', 'TX', 'HI', 'AK', 'CA', 'AZ', 'NV', 'CO', 'OH', 'MT', 'WV', 'ID', 'TN', 'NM', 'IL', 'KY', 'WY', 'MI', 'MN', 'KS', 'AL', 'NB', 'OK', 'MO', 'LA', 'WI', 'AR', 'UT', 'IA', 'SD', 'ND', 'MS', 'All'], 'Rate': ['82', '81', '79', '77', '72', '71', '71', '69', '69', '68', '67', '65', '65', '63', '60', '57', '56', '55', '54', '53', '53', '52', '51', '51', '34', '33', '31', '26', '23', '18', '17', '13', '13', '12', '12', '11', '11', '9', '9', '9', '8', '8', '8', '7', '6', '6', '5', '5', '4', '4', '4', '45'], 'Verbal': ['509', '499', '511', '495', '520', '501', '500', '511', '506', '510', '501', '508', '493', '491', '499', '486', '482', '526', '498', '527', '493', '485', '514', '498', '523', '509', '539', '534', '539', '527', '543', '562', '551', '576', '550', '547', '561', '580', '577', '559', '562', '567', '577', '564', '584', '562', '575', '593', '577', '592', '566', '506']}\n"
     ]
    }
   ],
   "source": [
    "d = {}\n",
    "for i, h in enumerate (header): #ENUMERATE\n",
    "    col = []\n",
    "    for row in body:\n",
    "        cell = row[i]\n",
    "        col.append(cell)\n",
    "    d[h] = col\n",
    "\n",
    "#print d['State']\n",
    "print d"
   ]
  },
  {
   "cell_type": "markdown",
   "metadata": {},
   "source": [
    "##### 8. Print the types of each column"
   ]
  },
  {
   "cell_type": "code",
   "execution_count": 10,
   "metadata": {
    "collapsed": false
   },
   "outputs": [
    {
     "name": "stdout",
     "output_type": "stream",
     "text": [
      "NJ<type 'str'>\n",
      "81<type 'str'>\n",
      "499<type 'str'>\n",
      "513<type 'str'>\n"
     ]
    }
   ],
   "source": [
    "for i, h in enumerate (body[1]):\n",
    "    print str(h) + str(type(h))"
   ]
  },
  {
   "cell_type": "markdown",
   "metadata": {},
   "source": [
    "##### 9. Do any types need to be reassigned? If so, go ahead and do it."
   ]
  },
  {
   "cell_type": "code",
   "execution_count": 16,
   "metadata": {
    "collapsed": false
   },
   "outputs": [
    {
     "name": "stdout",
     "output_type": "stream",
     "text": [
      "String types only\n"
     ]
    }
   ],
   "source": [
    "d_check = {}\n",
    "a = \"String types only\"\n",
    "\n",
    "for i, h in enumerate (header): #ENUMERATE\n",
    "    for row in body:\n",
    "        cell = row[i]\n",
    "        if type(cell) != str:\n",
    "            a =  \"not a string\"\n",
    "print a\n"
   ]
  },
  {
   "cell_type": "markdown",
   "metadata": {},
   "source": [
    "##### 10. Create a dictionary for each column mapping the State to its respective value for that column. "
   ]
  },
  {
   "cell_type": "code",
   "execution_count": 53,
   "metadata": {
    "collapsed": false
   },
   "outputs": [
    {
     "name": "stdout",
     "output_type": "stream",
     "text": [
      "['State', 'Rate', 'Verbal', 'Math']\n",
      "{'WA': ['527', '53', '527'], 'DE': ['499', '67', '501'], 'DC': ['474', '56', '482'], 'WI': ['596', '6', '584'], 'WV': ['512', '18', '527'], 'HI': ['515', '52', '485'], 'FL': ['499', '54', '498'], 'WY': ['545', '11', '547'], 'NH': ['516', '72', '520'], 'NJ': ['513', '81', '499'], 'NM': ['542', '13', '551'], 'TX': ['499', '53', '493'], 'LA': ['562', '7', '564'], 'NB': ['568', '8', '562'], 'NC': ['499', '65', '493'], 'ND': ['599', '4', '592'], 'TN': ['553', '13', '562'], 'NY': ['505', '77', '495'], 'PA': ['499', '71', '500'], 'RI': ['499', '71', '501'], 'NV': ['515', '33', '509'], 'VA': ['501', '68', '510'], 'CO': ['542', '31', '539'], 'AK': ['510', '51', '514'], 'AL': ['554', '9', '559'], 'AR': ['550', '6', '562'], 'VT': ['506', '69', '511'], 'IL': ['589', '12', '576'], 'GA': ['489', '63', '491'], 'IN': ['501', '60', '499'], 'IA': ['603', '5', '593'], 'OK': ['561', '8', '567'], 'AZ': ['525', '34', '523'], 'CA': ['517', '51', '498'], 'ID': ['542', '17', '543'], 'CT': ['510', '82', '509'], 'ME': ['500', '69', '506'], 'MD': ['510', '65', '508'], 'All': ['514', '45', '506'], 'MA': ['515', '79', '511'], 'OH': ['439', '26', '534'], 'UT': ['570', '5', '575'], 'MO': ['577', '8', '577'], 'MN': ['589', '9', '580'], 'MI': ['572', '11', '561'], 'KS': ['580', '9', '577'], 'MT': ['539', '23', '539'], 'MS': ['551', '4', '566'], 'SC': ['488', '57', '486'], 'KY': ['550', '12', '550'], 'OR': ['526', '55', '526'], 'SD': ['582', '4', '577']}\n"
     ]
    }
   ],
   "source": [
    "#print d\n",
    "#print d.keys()\n",
    "e = {}\n",
    "\n",
    "print header\n",
    "\n",
    "maths = d['Math']\n",
    "rates = d['Rate']\n",
    "verbals = d['Verbal']\n",
    "states = d['State']\n",
    "  \n",
    "\n",
    "for i,h in enumerate (states):\n",
    "    col = []\n",
    "    col.append(maths[i])\n",
    "    col.append(rates[i])\n",
    "    col.append(verbals[i])\n",
    "    e[states[i]] = col\n",
    "\n",
    "print e\n",
    "\n"
   ]
  },
  {
   "cell_type": "markdown",
   "metadata": {},
   "source": [
    "##11. Create a dictionary with the values for each of the numeric columns"
   ]
  },
  {
   "cell_type": "code",
   "execution_count": 54,
   "metadata": {
    "collapsed": false
   },
   "outputs": [
    {
     "name": "stdout",
     "output_type": "stream",
     "text": [
      "{'WA': {'Verbals': '527', 'Rates': '53', 'Math': '527'}, 'DE': {'Verbals': '501', 'Rates': '67', 'Math': '499'}, 'DC': {'Verbals': '482', 'Rates': '56', 'Math': '474'}, 'WI': {'Verbals': '584', 'Rates': '6', 'Math': '596'}, 'WV': {'Verbals': '527', 'Rates': '18', 'Math': '512'}, 'HI': {'Verbals': '485', 'Rates': '52', 'Math': '515'}, 'FL': {'Verbals': '498', 'Rates': '54', 'Math': '499'}, 'WY': {'Verbals': '547', 'Rates': '11', 'Math': '545'}, 'NH': {'Verbals': '520', 'Rates': '72', 'Math': '516'}, 'NJ': {'Verbals': '499', 'Rates': '81', 'Math': '513'}, 'NM': {'Verbals': '551', 'Rates': '13', 'Math': '542'}, 'TX': {'Verbals': '493', 'Rates': '53', 'Math': '499'}, 'LA': {'Verbals': '564', 'Rates': '7', 'Math': '562'}, 'NB': {'Verbals': '562', 'Rates': '8', 'Math': '568'}, 'NC': {'Verbals': '493', 'Rates': '65', 'Math': '499'}, 'ND': {'Verbals': '592', 'Rates': '4', 'Math': '599'}, 'TN': {'Verbals': '562', 'Rates': '13', 'Math': '553'}, 'NY': {'Verbals': '495', 'Rates': '77', 'Math': '505'}, 'PA': {'Verbals': '500', 'Rates': '71', 'Math': '499'}, 'RI': {'Verbals': '501', 'Rates': '71', 'Math': '499'}, 'NV': {'Verbals': '509', 'Rates': '33', 'Math': '515'}, 'VA': {'Verbals': '510', 'Rates': '68', 'Math': '501'}, 'CO': {'Verbals': '539', 'Rates': '31', 'Math': '542'}, 'AK': {'Verbals': '514', 'Rates': '51', 'Math': '510'}, 'AL': {'Verbals': '559', 'Rates': '9', 'Math': '554'}, 'AR': {'Verbals': '562', 'Rates': '6', 'Math': '550'}, 'VT': {'Verbals': '511', 'Rates': '69', 'Math': '506'}, 'IL': {'Verbals': '576', 'Rates': '12', 'Math': '589'}, 'GA': {'Verbals': '491', 'Rates': '63', 'Math': '489'}, 'IN': {'Verbals': '499', 'Rates': '60', 'Math': '501'}, 'IA': {'Verbals': '593', 'Rates': '5', 'Math': '603'}, 'OK': {'Verbals': '567', 'Rates': '8', 'Math': '561'}, 'AZ': {'Verbals': '523', 'Rates': '34', 'Math': '525'}, 'CA': {'Verbals': '498', 'Rates': '51', 'Math': '517'}, 'ID': {'Verbals': '543', 'Rates': '17', 'Math': '542'}, 'CT': {'Verbals': '509', 'Rates': '82', 'Math': '510'}, 'ME': {'Verbals': '506', 'Rates': '69', 'Math': '500'}, 'MD': {'Verbals': '508', 'Rates': '65', 'Math': '510'}, 'All': {'Verbals': '506', 'Rates': '45', 'Math': '514'}, 'MA': {'Verbals': '511', 'Rates': '79', 'Math': '515'}, 'OH': {'Verbals': '534', 'Rates': '26', 'Math': '439'}, 'UT': {'Verbals': '575', 'Rates': '5', 'Math': '570'}, 'MO': {'Verbals': '577', 'Rates': '8', 'Math': '577'}, 'MN': {'Verbals': '580', 'Rates': '9', 'Math': '589'}, 'MI': {'Verbals': '561', 'Rates': '11', 'Math': '572'}, 'KS': {'Verbals': '577', 'Rates': '9', 'Math': '580'}, 'MT': {'Verbals': '539', 'Rates': '23', 'Math': '539'}, 'MS': {'Verbals': '566', 'Rates': '4', 'Math': '551'}, 'SC': {'Verbals': '486', 'Rates': '57', 'Math': '488'}, 'KY': {'Verbals': '550', 'Rates': '12', 'Math': '550'}, 'OR': {'Verbals': '526', 'Rates': '55', 'Math': '526'}, 'SD': {'Verbals': '577', 'Rates': '4', 'Math': '582'}}\n"
     ]
    }
   ],
   "source": [
    "z={}\n",
    "\n",
    "for i,h in enumerate (states):\n",
    "    col = {}\n",
    "    col['Math']=maths[i]\n",
    "    col['Rates']=rates[i]\n",
    "    col['Verbals']=verbals[i]\n",
    "    z[states[i]] = col\n",
    "\n",
    "print z"
   ]
  },
  {
   "cell_type": "markdown",
   "metadata": {},
   "source": [
    "## Step 3: Describe the data"
   ]
  },
  {
   "cell_type": "markdown",
   "metadata": {},
   "source": [
    "##### 12. Print the min and max of each column"
   ]
  },
  {
   "cell_type": "code",
   "execution_count": 59,
   "metadata": {
    "collapsed": false
   },
   "outputs": [
    {
     "name": "stdout",
     "output_type": "stream",
     "text": [
      "Math Min: 439\n",
      "Rates Min: 11\n",
      "Verbals Min: 482\n"
     ]
    }
   ],
   "source": [
    "maths_min = min(maths)\n",
    "rates_min = min(rates)\n",
    "verbals_min = min(verbals)\n",
    "\n",
    "print \"Math Min: \" + str(maths_min)\n",
    "print \"Rates Min: \" + rates_min\n",
    "print \"Verbals Min: \" + verbals_min\n"
   ]
  },
  {
   "cell_type": "markdown",
   "metadata": {},
   "source": [
    "##### 13. Write a function using only list comprehensions, no loops, to compute Standard Deviation. Print the Standard Deviation of each numeric column."
   ]
  },
  {
   "cell_type": "code",
   "execution_count": 60,
   "metadata": {
    "collapsed": false
   },
   "outputs": [
    {
     "data": {
      "text/plain": [
       "32.710854467592249"
      ]
     },
     "execution_count": 60,
     "metadata": {},
     "output_type": "execute_result"
    }
   ],
   "source": [
    "y = range(0,20,1)\n",
    "\n",
    "np.sqrt(np.mean(sum([(x-14)**2 for x in y])))"
   ]
  },
  {
   "cell_type": "markdown",
   "metadata": {},
   "source": [
    "## Step 4: Visualize the data"
   ]
  },
  {
   "cell_type": "markdown",
   "metadata": {
    "collapsed": true
   },
   "source": [
    "##### 14. Using MatPlotLib and PyPlot, plot the distribution of the Rate using histograms."
   ]
  },
  {
   "cell_type": "code",
   "execution_count": 64,
   "metadata": {
    "collapsed": false
   },
   "outputs": [],
   "source": [
    "# Numeric and statistics packages:\n",
    "import numpy as np\n",
    "import scipy.stats as stats\n",
    "\n",
    "# Pandas handles dataset loading and manipulation:\n",
    "import pandas as pd\n",
    "\n",
    "# import the plotting functions:\n",
    "import matplotlib.pyplot as plt\n",
    "import seaborn as sns\n",
    "import plotly\n",
    "import plotly.plotly as py #API of plotly\n",
    "import plotly.graph_objs as go\n",
    "\n",
    "# Initialize plotly notebook mode:\n",
    "plotly.offline.init_notebook_mode()\n",
    "\n",
    "# Setup matplotlib to display in jupyter notebook:\n",
    "%matplotlib inline\n",
    "\n",
    "SAT_SCORES = pd.read_csv(sales_csv_path) #load pandas in csv\n",
    "# assign new column names\n",
    "#salary.columns = ['gender', 'professor_rank', 'years_in_job', 'degree_level', 'years_since_degree', 'yearly_salary'] "
   ]
  },
  {
   "cell_type": "markdown",
   "metadata": {},
   "source": [
    "##### 15. Plot the Math distribution"
   ]
  },
  {
   "cell_type": "code",
   "execution_count": null,
   "metadata": {
    "collapsed": false
   },
   "outputs": [],
   "source": []
  },
  {
   "cell_type": "markdown",
   "metadata": {},
   "source": [
    "##### 16. Plot the Verbal distribution"
   ]
  },
  {
   "cell_type": "code",
   "execution_count": null,
   "metadata": {
    "collapsed": false
   },
   "outputs": [],
   "source": []
  },
  {
   "cell_type": "markdown",
   "metadata": {},
   "source": [
    "##### 17. What is the typical assumption for data distribution?"
   ]
  },
  {
   "cell_type": "code",
   "execution_count": null,
   "metadata": {
    "collapsed": false
   },
   "outputs": [],
   "source": []
  },
  {
   "cell_type": "markdown",
   "metadata": {},
   "source": [
    "##### 18. Does that distribution hold true for our data?"
   ]
  },
  {
   "cell_type": "code",
   "execution_count": null,
   "metadata": {
    "collapsed": false
   },
   "outputs": [],
   "source": []
  },
  {
   "cell_type": "markdown",
   "metadata": {},
   "source": [
    "##### 19. Plot some scatterplots. **BONUS**: Use a PyPlot `figure` to present multiple plots at once."
   ]
  },
  {
   "cell_type": "code",
   "execution_count": null,
   "metadata": {
    "collapsed": false
   },
   "outputs": [],
   "source": []
  },
  {
   "cell_type": "markdown",
   "metadata": {},
   "source": [
    "##### 20. Are there any interesting relationships to note?"
   ]
  },
  {
   "cell_type": "code",
   "execution_count": null,
   "metadata": {
    "collapsed": false
   },
   "outputs": [],
   "source": []
  },
  {
   "cell_type": "markdown",
   "metadata": {},
   "source": [
    "##### 21. Create box plots for each variable. "
   ]
  },
  {
   "cell_type": "code",
   "execution_count": null,
   "metadata": {
    "collapsed": false
   },
   "outputs": [],
   "source": []
  },
  {
   "cell_type": "markdown",
   "metadata": {},
   "source": [
    "##### BONUS: Using Tableau, create a heat map for each variable using a map of the US. "
   ]
  },
  {
   "cell_type": "code",
   "execution_count": null,
   "metadata": {
    "collapsed": true
   },
   "outputs": [],
   "source": []
  }
 ],
 "metadata": {
  "kernelspec": {
   "display_name": "Python 2",
   "language": "python",
   "name": "python2"
  },
  "language_info": {
   "codemirror_mode": {
    "name": "ipython",
    "version": 2
   },
   "file_extension": ".py",
   "mimetype": "text/x-python",
   "name": "python",
   "nbconvert_exporter": "python",
   "pygments_lexer": "ipython2",
   "version": "2.7.11"
  }
 },
 "nbformat": 4,
 "nbformat_minor": 0
}
