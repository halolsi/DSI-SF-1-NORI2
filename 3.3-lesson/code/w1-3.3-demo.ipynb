{
 "cells": [
  {
   "cell_type": "markdown",
   "metadata": {
    "collapsed": false
   },
   "source": [
    "### Measures of Central Tendency"
   ]
  },
  {
   "cell_type": "markdown",
   "metadata": {
    "collapsed": true
   },
   "source": [
    "##### Mean\n",
    "\n",
    "Find the mean of the following list using base python (no numpy or scipy!)"
   ]
  },
  {
   "cell_type": "code",
   "execution_count": 6,
   "metadata": {
    "collapsed": false
   },
   "outputs": [],
   "source": [
    "n = [1,2,3,4,5]"
   ]
  },
  {
   "cell_type": "code",
   "execution_count": 17,
   "metadata": {
    "collapsed": false
   },
   "outputs": [
    {
     "name": "stdout",
     "output_type": "stream",
     "text": [
      "33\n",
      "2.53846153846\n"
     ]
    }
   ],
   "source": [
    "# Your mean code here\n",
    "sum = 0\n",
    "\n",
    "for i in n:\n",
    "    sum = sum + i\n",
    "print sum\n",
    "\n",
    "average = sum/float(len(n))\n",
    "print average"
   ]
  },
  {
   "cell_type": "markdown",
   "metadata": {},
   "source": [
    "##### Median\n",
    "\n",
    "Find the median of either or both of the following lists using base python."
   ]
  },
  {
   "cell_type": "code",
   "execution_count": 25,
   "metadata": {
    "collapsed": false
   },
   "outputs": [],
   "source": [
    "n_odd = [1,5,9,2,8,3,10,15,7]\n",
    "n_even = [8,2,3,1,0,-1,-5,20]"
   ]
  },
  {
   "cell_type": "code",
   "execution_count": 47,
   "metadata": {
    "collapsed": false
   },
   "outputs": [
    {
     "ename": "SyntaxError",
     "evalue": "invalid syntax (<ipython-input-47-50702600aa56>, line 2)",
     "output_type": "error",
     "traceback": [
      "\u001b[0;36m  File \u001b[0;32m\"<ipython-input-47-50702600aa56>\"\u001b[0;36m, line \u001b[0;32m2\u001b[0m\n\u001b[0;31m    def median_function:\u001b[0m\n\u001b[0m                       ^\u001b[0m\n\u001b[0;31mSyntaxError\u001b[0m\u001b[0;31m:\u001b[0m invalid syntax\n"
     ]
    }
   ],
   "source": [
    "# Your median code here\n",
    "def median_function:\n",
    "\n",
    "n_odd.sort()\n",
    "n_even.sort()\n",
    "\n",
    "n= n_odd\n",
    "\n",
    "#if len(n) % 2 > 0:\n",
    "#    print n(((len(n)+1)/2)-1)\n",
    "#else:\n",
    "#    print len(n)\n",
    "\n",
    "num_length = len(numbers)\n",
    "is_even = True\n",
    "\n",
    "\n",
    "\n",
    "#if not is_even:\n",
    "#    odd_index = float(num_length)/2.0\n",
    "#    odd_index = ind(odd_ndex - 0.5)\n",
    "#    \n",
    "#    numbers.sort()\n",
    "#    return (numbers[odd_index])\n",
    "    \n",
    "    \n",
    "\n"
   ]
  },
  {
   "cell_type": "markdown",
   "metadata": {
    "collapsed": false
   },
   "source": [
    "##### Mode\n",
    "\n",
    "Find the mode of the following list using scipy.stats.mode()"
   ]
  },
  {
   "cell_type": "code",
   "execution_count": 40,
   "metadata": {
    "collapsed": true
   },
   "outputs": [],
   "source": [
    "from scipy.stats import mode\n",
    "\n",
    "n = [0,1,1,2,2,2,2,3,3,4,4,4,5]"
   ]
  },
  {
   "cell_type": "code",
   "execution_count": 41,
   "metadata": {
    "collapsed": false
   },
   "outputs": [
    {
     "name": "stdout",
     "output_type": "stream",
     "text": [
      "ModeResult(mode=array([2]), count=array([4]))\n"
     ]
    }
   ],
   "source": [
    "# Your mode code here\n",
    "print mode(n)\n",
    "\n",
    "# What do the two values returned in the object mean?"
   ]
  },
  {
   "cell_type": "markdown",
   "metadata": {
    "collapsed": false
   },
   "source": [
    "##### numpy convenience functions\n",
    "\n",
    "Use numpy's np.median() and np.mean() functions to easily calculate the median and the mean."
   ]
  },
  {
   "cell_type": "code",
   "execution_count": 42,
   "metadata": {
    "collapsed": false
   },
   "outputs": [],
   "source": [
    "import numpy as np\n",
    "\n",
    "n = [3, 75, 98, 2, 10, 3, 14, 99, 44, 25, 31, 100, 356, 4, 23, 55, 327, 64, 6, 20]"
   ]
  },
  {
   "cell_type": "code",
   "execution_count": 57,
   "metadata": {
    "collapsed": false
   },
   "outputs": [
    {
     "ename": "SyntaxError",
     "evalue": "invalid syntax (<ipython-input-57-c0023b6046d4>, line 3)",
     "output_type": "error",
     "traceback": [
      "\u001b[0;36m  File \u001b[0;32m\"<ipython-input-57-c0023b6046d4>\"\u001b[0;36m, line \u001b[0;32m3\u001b[0m\n\u001b[0;31m    print(np.median(n))\u001b[0m\n\u001b[0m        ^\u001b[0m\n\u001b[0;31mSyntaxError\u001b[0m\u001b[0;31m:\u001b[0m invalid syntax\n"
     ]
    }
   ],
   "source": [
    "# Your median and mean code here\n",
    "print(\"MEAN: \" + str(np.mean(n))\n",
    "print(np.median(n))\n",
    "print mode(n)\n"
   ]
  },
  {
   "cell_type": "markdown",
   "metadata": {},
   "source": [
    "### Skewness\n",
    "\n",
    "Is the distribution specified by the list of numbers below skewed? If not, why? If so, describe the skew and explain why."
   ]
  },
  {
   "cell_type": "code",
   "execution_count": 48,
   "metadata": {
    "collapsed": true
   },
   "outputs": [],
   "source": [
    "n = [11, 12, 13, 14, 15, 16, 17, 18, 19, 20, 21, 22, 23, 24, 25, 18, 19, 20, 21, 22, 23, 24,\n",
    "     22, 11, 12, 13, 14, 15, 16, 17, 18, 19, 20, 21, 22, 23, 24, 25, 18, 19, 20, 21, 22, 23,\n",
    "     24, 20, 21, 22, 23, 24, 22, 16, 17, 18, 19, 20, 21, 22, 23, 24, 0, 1, 2, 3, 4, 5, 6, 7,\n",
    "     8, 9, 10, 11, 12, 13, 14, 15, 16, 17, 18, 19, 20, 21, 22, 23, 24, 25, 26, 27, 0, 1, 2,\n",
    "     3, 4, 5, 6, 7, 8, 9, 10, 11, 12, 13, 14, 15, 16, 17, 18, 19, 20, 21, 22, 23, 24, 25, 26, 27]"
   ]
  },
  {
   "cell_type": "code",
   "execution_count": 60,
   "metadata": {
    "collapsed": false
   },
   "outputs": [
    {
     "name": "stdout",
     "output_type": "stream",
     "text": [
      "MEAN: 16.5862068966\n",
      "MEDIAN: 18.0\n",
      "MODE: ModeResult(mode=array([22]), count=array([10]))\n"
     ]
    }
   ],
   "source": [
    "# Skew answer here\n",
    "n.sort()\n",
    "print \"MEAN: \" + str(np.mean(n))\n",
    "print \"MEDIAN: \" + str(np.median(n))\n",
    "print \"MODE: \" + str(mode(n))\n",
    "\n"
   ]
  },
  {
   "cell_type": "markdown",
   "metadata": {},
   "source": [
    "### Measures of Variability"
   ]
  },
  {
   "cell_type": "markdown",
   "metadata": {},
   "source": [
    "##### Range\n",
    "\n",
    "Calculate the range of the list of numbers below."
   ]
  },
  {
   "cell_type": "code",
   "execution_count": 67,
   "metadata": {
    "collapsed": true
   },
   "outputs": [],
   "source": [
    "n = [3, 75, 98, 2, 10, 3, 14, 99, 44, 25, 31, 100, 356, 4, 23, 55, 327, 64, 6, 20]\n"
   ]
  },
  {
   "cell_type": "code",
   "execution_count": 70,
   "metadata": {
    "collapsed": false
   },
   "outputs": [
    {
     "name": "stdout",
     "output_type": "stream",
     "text": [
      "[2, 3, 3, 4, 6, 10, 14, 20, 23, 25, 31, 44, 55, 64, 75, 98, 99, 100, 327, 356]\n",
      "2\n",
      "356\n"
     ]
    }
   ],
   "source": [
    "# Range code here\n",
    "n.sort()\n",
    "print n\n",
    "min = n[0]\n",
    "max = n[len(n)-1]\n",
    "print min\n",
    "print max\n"
   ]
  },
  {
   "cell_type": "markdown",
   "metadata": {},
   "source": [
    "##### Variance\n",
    "\n",
    "Calculate the variance of the list as well."
   ]
  },
  {
   "cell_type": "code",
   "execution_count": 75,
   "metadata": {
    "collapsed": false
   },
   "outputs": [
    {
     "name": "stdout",
     "output_type": "stream",
     "text": [
      "67.95\n",
      "[4349.4025000000001]\n",
      "[4349.4025000000001, 4218.5025000000005]\n",
      "[4349.4025000000001, 4218.5025000000005, 4218.5025000000005]\n",
      "[4349.4025000000001, 4218.5025000000005, 4218.5025000000005, 4089.6025000000004]\n",
      "[4349.4025000000001, 4218.5025000000005, 4218.5025000000005, 4089.6025000000004, 3837.8025000000002]\n",
      "[4349.4025000000001, 4218.5025000000005, 4218.5025000000005, 4089.6025000000004, 3837.8025000000002, 3358.2025000000003]\n",
      "[4349.4025000000001, 4218.5025000000005, 4218.5025000000005, 4089.6025000000004, 3837.8025000000002, 3358.2025000000003, 2910.6025000000004]\n",
      "[4349.4025000000001, 4218.5025000000005, 4218.5025000000005, 4089.6025000000004, 3837.8025000000002, 3358.2025000000003, 2910.6025000000004, 2299.2025000000003]\n",
      "[4349.4025000000001, 4218.5025000000005, 4218.5025000000005, 4089.6025000000004, 3837.8025000000002, 3358.2025000000003, 2910.6025000000004, 2299.2025000000003, 2020.5025000000003]\n",
      "[4349.4025000000001, 4218.5025000000005, 4218.5025000000005, 4089.6025000000004, 3837.8025000000002, 3358.2025000000003, 2910.6025000000004, 2299.2025000000003, 2020.5025000000003, 1844.7025000000003]\n",
      "[4349.4025000000001, 4218.5025000000005, 4218.5025000000005, 4089.6025000000004, 3837.8025000000002, 3358.2025000000003, 2910.6025000000004, 2299.2025000000003, 2020.5025000000003, 1844.7025000000003, 1365.3025000000002]\n",
      "[4349.4025000000001, 4218.5025000000005, 4218.5025000000005, 4089.6025000000004, 3837.8025000000002, 3358.2025000000003, 2910.6025000000004, 2299.2025000000003, 2020.5025000000003, 1844.7025000000003, 1365.3025000000002, 573.60250000000019]\n",
      "[4349.4025000000001, 4218.5025000000005, 4218.5025000000005, 4089.6025000000004, 3837.8025000000002, 3358.2025000000003, 2910.6025000000004, 2299.2025000000003, 2020.5025000000003, 1844.7025000000003, 1365.3025000000002, 573.60250000000019, 167.70250000000007]\n",
      "[4349.4025000000001, 4218.5025000000005, 4218.5025000000005, 4089.6025000000004, 3837.8025000000002, 3358.2025000000003, 2910.6025000000004, 2299.2025000000003, 2020.5025000000003, 1844.7025000000003, 1365.3025000000002, 573.60250000000019, 167.70250000000007, 15.602500000000022]\n",
      "[4349.4025000000001, 4218.5025000000005, 4218.5025000000005, 4089.6025000000004, 3837.8025000000002, 3358.2025000000003, 2910.6025000000004, 2299.2025000000003, 2020.5025000000003, 1844.7025000000003, 1365.3025000000002, 573.60250000000019, 167.70250000000007, 15.602500000000022, 49.702499999999958]\n",
      "[4349.4025000000001, 4218.5025000000005, 4218.5025000000005, 4089.6025000000004, 3837.8025000000002, 3358.2025000000003, 2910.6025000000004, 2299.2025000000003, 2020.5025000000003, 1844.7025000000003, 1365.3025000000002, 573.60250000000019, 167.70250000000007, 15.602500000000022, 49.702499999999958, 903.00249999999983]\n",
      "[4349.4025000000001, 4218.5025000000005, 4218.5025000000005, 4089.6025000000004, 3837.8025000000002, 3358.2025000000003, 2910.6025000000004, 2299.2025000000003, 2020.5025000000003, 1844.7025000000003, 1365.3025000000002, 573.60250000000019, 167.70250000000007, 15.602500000000022, 49.702499999999958, 903.00249999999983, 964.10249999999985]\n",
      "[4349.4025000000001, 4218.5025000000005, 4218.5025000000005, 4089.6025000000004, 3837.8025000000002, 3358.2025000000003, 2910.6025000000004, 2299.2025000000003, 2020.5025000000003, 1844.7025000000003, 1365.3025000000002, 573.60250000000019, 167.70250000000007, 15.602500000000022, 49.702499999999958, 903.00249999999983, 964.10249999999985, 1027.2024999999999]\n",
      "[4349.4025000000001, 4218.5025000000005, 4218.5025000000005, 4089.6025000000004, 3837.8025000000002, 3358.2025000000003, 2910.6025000000004, 2299.2025000000003, 2020.5025000000003, 1844.7025000000003, 1365.3025000000002, 573.60250000000019, 167.70250000000007, 15.602500000000022, 49.702499999999958, 903.00249999999983, 964.10249999999985, 1027.2024999999999, 67106.902500000011]\n",
      "[4349.4025000000001, 4218.5025000000005, 4218.5025000000005, 4089.6025000000004, 3837.8025000000002, 3358.2025000000003, 2910.6025000000004, 2299.2025000000003, 2020.5025000000003, 1844.7025000000003, 1365.3025000000002, 573.60250000000019, 167.70250000000007, 15.602500000000022, 49.702499999999958, 903.00249999999983, 964.10249999999985, 1027.2024999999999, 67106.902500000011, 82972.802500000005]\n"
     ]
    },
    {
     "ename": "TypeError",
     "evalue": "float() argument must be a string or a number",
     "output_type": "error",
     "traceback": [
      "\u001b[0;31m---------------------------------------------------------------------------\u001b[0m",
      "\u001b[0;31mTypeError\u001b[0m                                 Traceback (most recent call last)",
      "\u001b[0;32m<ipython-input-75-94d07c8cbc80>\u001b[0m in \u001b[0;36m<module>\u001b[0;34m()\u001b[0m\n\u001b[1;32m     10\u001b[0m \u001b[0;34m\u001b[0m\u001b[0m\n\u001b[1;32m     11\u001b[0m \u001b[0mvariance\u001b[0m \u001b[0;34m=\u001b[0m \u001b[0mnp\u001b[0m\u001b[0;34m.\u001b[0m\u001b[0msum\u001b[0m\u001b[0;34m(\u001b[0m\u001b[0msum_variance\u001b[0m\u001b[0;34m)\u001b[0m\u001b[0;34m\u001b[0m\u001b[0m\n\u001b[0;32m---> 12\u001b[0;31m \u001b[0mvariance\u001b[0m \u001b[0;34m=\u001b[0m \u001b[0mfloat\u001b[0m\u001b[0;34m(\u001b[0m\u001b[0msum_variance\u001b[0m\u001b[0;34m)\u001b[0m\u001b[0;34m/\u001b[0m\u001b[0mlen\u001b[0m\u001b[0;34m(\u001b[0m\u001b[0mn\u001b[0m\u001b[0;34m)\u001b[0m\u001b[0;34m\u001b[0m\u001b[0m\n\u001b[0m",
      "\u001b[0;31mTypeError\u001b[0m: float() argument must be a string or a number"
     ]
    }
   ],
   "source": [
    "# Variance code here\n",
    "mean = np.mean(n)\n",
    "print mean\n",
    "\n",
    "sum_variance = []\n",
    "\n",
    "for i in n:\n",
    "    sum_variance.append((i - mean)**2)\n",
    "    print sum_variance\n",
    "\n",
    "variance = np.sum(sum_variance)\n",
    "variance = float(sum_variance)/len(n)"
   ]
  },
  {
   "cell_type": "markdown",
   "metadata": {},
   "source": [
    "##### Standard deviation\n",
    "\n",
    "Calculate the standard deviation of the list."
   ]
  },
  {
   "cell_type": "code",
   "execution_count": 22,
   "metadata": {
    "collapsed": true
   },
   "outputs": [],
   "source": [
    "# Standard deviation code here\n"
   ]
  }
 ],
 "metadata": {
  "kernelspec": {
   "display_name": "Python 2",
   "language": "python",
   "name": "python2"
  },
  "language_info": {
   "codemirror_mode": {
    "name": "ipython",
    "version": 2
   },
   "file_extension": ".py",
   "mimetype": "text/x-python",
   "name": "python",
   "nbconvert_exporter": "python",
   "pygments_lexer": "ipython2",
   "version": "2.7.11"
  }
 },
 "nbformat": 4,
 "nbformat_minor": 0
}
