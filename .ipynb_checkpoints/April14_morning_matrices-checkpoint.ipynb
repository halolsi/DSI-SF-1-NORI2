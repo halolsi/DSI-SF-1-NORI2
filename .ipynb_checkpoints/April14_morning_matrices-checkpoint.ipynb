{
 "cells": [
  {
   "cell_type": "code",
   "execution_count": 5,
   "metadata": {
    "collapsed": true
   },
   "outputs": [],
   "source": [
    "import numpy as np"
   ]
  },
  {
   "cell_type": "code",
   "execution_count": 7,
   "metadata": {
    "collapsed": false
   },
   "outputs": [
    {
     "name": "stdout",
     "output_type": "stream",
     "text": [
      "[1 2 3]\n"
     ]
    }
   ],
   "source": [
    "side = np.array([1,2,3])\n",
    "print sidex"
   ]
  },
  {
   "cell_type": "code",
   "execution_count": 9,
   "metadata": {
    "collapsed": false
   },
   "outputs": [
    {
     "name": "stdout",
     "output_type": "stream",
     "text": [
      "[[1 2 3]\n",
      " [4 5 6]]\n"
     ]
    }
   ],
   "source": [
    "side2 = np.array([[1,2,3],[4,5,6]])\n",
    "print side2"
   ]
  },
  {
   "cell_type": "code",
   "execution_count": 12,
   "metadata": {
    "collapsed": false
   },
   "outputs": [
    {
     "name": "stdout",
     "output_type": "stream",
     "text": [
      "[[[ 1  2  3]\n",
      "  [ 4  5  6]\n",
      "  [ 7  8  9]]\n",
      "\n",
      " [[10 11 12]\n",
      "  [13 14 15]\n",
      "  [16 17 18]]\n",
      "\n",
      " [[19 20 21]\n",
      "  [22 23 24]\n",
      "  [25 26 27]]]\n"
     ]
    }
   ],
   "source": [
    "side3 = np.array([[[1,2,3],[4,5,6],[7,8,9]],[[10,11,12],[13,14,15],[16,17,18]],[[19,20,21],[22,23,24],[25,26,27]]])\n",
    "print side3"
   ]
  },
  {
   "cell_type": "code",
   "execution_count": 23,
   "metadata": {
    "collapsed": false
   },
   "outputs": [
    {
     "name": "stdout",
     "output_type": "stream",
     "text": [
      "['x1y1' 'x1y2' 'x1y3' 'x1y4' 'x1y5' 'x1y6' 'x1y7' 'x1y8']\n"
     ]
    }
   ],
   "source": [
    "array1x8 = np.array([\"x1y1\",\"x1y2\",\"x1y3\",\"x1y4\",\"x1y5\",\"x1y6\",\"x1y7\",\"x1y8\"])\n",
    "print array1x8                "
   ]
  },
  {
   "cell_type": "code",
   "execution_count": 27,
   "metadata": {
    "collapsed": false
   },
   "outputs": [
    {
     "name": "stdout",
     "output_type": "stream",
     "text": [
      "[['x1y1' 'x1y2' 'x1y3' 'x1y4' 'x1y5' 'x1y6' 'x1y7' 'x1y8']\n",
      " ['x1y1' 'x1y2' 'x1y3' 'x1y4' 'x1y5' 'x1y6' 'x1y7' 'x1y8']\n",
      " ['x1y1' 'x1y2' 'x1y3' 'x1y4' 'x1y5' 'x1y6' 'x1y7' 'x1y8']\n",
      " ['x1y1' 'x1y2' 'x1y3' 'x1y4' 'x1y5' 'x1y6' 'x1y7' 'x1y8']]\n"
     ]
    }
   ],
   "source": [
    "array4x8 = np.array([array1x8,array1x8,array1x8,array1x8])\n",
    "print array4x8"
   ]
  },
  {
   "cell_type": "code",
   "execution_count": null,
   "metadata": {
    "collapsed": true
   },
   "outputs": [],
   "source": []
  }
 ],
 "metadata": {
  "kernelspec": {
   "display_name": "Python 2",
   "language": "python",
   "name": "python2"
  },
  "language_info": {
   "codemirror_mode": {
    "name": "ipython",
    "version": 2
   },
   "file_extension": ".py",
   "mimetype": "text/x-python",
   "name": "python",
   "nbconvert_exporter": "python",
   "pygments_lexer": "ipython2",
   "version": "2.7.11"
  }
 },
 "nbformat": 4,
 "nbformat_minor": 0
}
